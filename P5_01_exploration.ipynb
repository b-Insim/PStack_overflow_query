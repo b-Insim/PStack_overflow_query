{
 "cells": [
  {
   "cell_type": "code",
   "execution_count": null,
   "metadata": {},
   "outputs": [],
   "source": []
  },
  {
   "cell_type": "code",
   "execution_count": null,
   "metadata": {},
   "outputs": [],
   "source": []
  },
  {
   "cell_type": "code",
   "execution_count": 1,
   "metadata": {},
   "outputs": [],
   "source": [
    "# tables\n",
    "import pandas as pd\n",
    "import numpy as np\n",
    "# graphics\n",
    "import seaborn as sns\n",
    "import matplotlib.pyplot as plt\n",
    "# text processing\n",
    "import nltk\n",
    "from nltk.corpus import stopwords, words\n",
    "from nltk.tokenize import word_tokenize\n",
    "from sklearn.feature_extraction.text import CountVectorizer\n",
    "from nltk.stem.wordnet import WordNetLemmatizer\n",
    "from sklearn.feature_extraction.text import TfidfVectorizer\n",
    "# expressions\n",
    "import re\n",
    "# machine learning\n",
    "from sklearn.model_selection import train_test_split\n",
    "# Deal with html text\n",
    "from bs4 import BeautifulSoup\n",
    "# Multiprocessing\n",
    "import multiprocessing\n",
    "from joblib import Parallel, delayed\n",
    "from tqdm import tqdm"
   ]
  },
  {
   "cell_type": "code",
   "execution_count": null,
   "metadata": {},
   "outputs": [],
   "source": []
  },
  {
   "cell_type": "markdown",
   "metadata": {},
   "source": [
    "## Installation des packages "
   ]
  },
  {
   "cell_type": "code",
   "execution_count": 2,
   "metadata": {},
   "outputs": [
    {
     "name": "stderr",
     "output_type": "stream",
     "text": [
      "[nltk_data] Downloading package wordnet to\n",
      "[nltk_data]     /Users/boleynkenkem/nltk_data...\n",
      "[nltk_data]   Package wordnet is already up-to-date!\n",
      "[nltk_data] Downloading package stopwords to\n",
      "[nltk_data]     /Users/boleynkenkem/nltk_data...\n",
      "[nltk_data]   Package stopwords is already up-to-date!\n",
      "[nltk_data] Downloading package words to\n",
      "[nltk_data]     /Users/boleynkenkem/nltk_data...\n",
      "[nltk_data]   Package words is already up-to-date!\n"
     ]
    },
    {
     "data": {
      "text/plain": [
       "True"
      ]
     },
     "execution_count": 2,
     "metadata": {},
     "output_type": "execute_result"
    }
   ],
   "source": [
    "nltk.download('wordnet')\n",
    "nltk.download('stopwords')\n",
    "nltk.download('words')"
   ]
  },
  {
   "cell_type": "code",
   "execution_count": 3,
   "metadata": {},
   "outputs": [
    {
     "name": "stderr",
     "output_type": "stream",
     "text": [
      "[nltk_data] Downloading package punkt to\n",
      "[nltk_data]     /Users/boleynkenkem/nltk_data...\n",
      "[nltk_data]   Package punkt is already up-to-date!\n"
     ]
    }
   ],
   "source": [
    "import nltk\n",
    "nltk.download('punkt')\n",
    "\n",
    "from nltk import word_tokenize,sent_tokenize"
   ]
  },
  {
   "cell_type": "code",
   "execution_count": 2,
   "metadata": {},
   "outputs": [],
   "source": [
    "debug = False"
   ]
  },
  {
   "cell_type": "markdown",
   "metadata": {},
   "source": [
    "Plus on a des données d'entrées mieux c'est. Nous avons effectué 10  requêtes SQL afin d'avoir 10 fichiers csv: QueryResults.csv, QueryResults(1).csv à QueryResults(9).csv. Ces fichiers ont été générés en respectant la consignes qui demandait de faire des requêtes avec des contraintes sur les id.  Nos requêtes SQL ont été effectué sur les id compris entre 0 et 50 000. Chaque requête a pris les résultats non nuls dans une plage de 100 000 valeurs. Il y a eu différentes requêtes afin d'avoir des fichiers d'une taille inférieure à 25Mb.\n",
    "\n",
    "Nous dump sql se trouve dans le fichier sql_requery.txt"
   ]
  },
  {
   "cell_type": "markdown",
   "metadata": {},
   "source": [
    "## Chargement des données "
   ]
  },
  {
   "cell_type": "markdown",
   "metadata": {},
   "source": [
    "### Concaténations de tous les inputs "
   ]
  },
  {
   "cell_type": "code",
   "execution_count": 4,
   "metadata": {},
   "outputs": [],
   "source": [
    "df_main = pd.DataFrame(columns=[\"Id\", \"Title\", \"Body\", \"Tags\"])"
   ]
  },
  {
   "cell_type": "code",
   "execution_count": 5,
   "metadata": {},
   "outputs": [],
   "source": [
    "df_main = df_main.append(pd.read_csv(\"input/QueryResults.csv\"), ignore_index = True)\n",
    "df_main = df_main.append(pd.read_csv(\"input/QueryResults(1).csv\"), ignore_index = True)\n",
    "df_main = df_main.append(pd.read_csv(\"input/QueryResults(2).csv\"), ignore_index = True)\n",
    "df_main = df_main.append(pd.read_csv(\"input/QueryResults(3).csv\"), ignore_index = True)\n",
    "df_main = df_main.append(pd.read_csv(\"input/QueryResults(4).csv\"), ignore_index = True)\n",
    "df_main = df_main.append(pd.read_csv(\"input/QueryResults(5).csv\"), ignore_index = True)\n",
    "df_main = df_main.append(pd.read_csv(\"input/QueryResults(6).csv\"), ignore_index = True)\n",
    "df_main = df_main.append(pd.read_csv(\"input/QueryResults(7).csv\"), ignore_index = True)\n",
    "df_main = df_main.append(pd.read_csv(\"input/QueryResults(8).csv\"), ignore_index = True)\n",
    "df_main = df_main.append(pd.read_csv(\"input/QueryResults(9).csv\"), ignore_index = True)"
   ]
  },
  {
   "cell_type": "markdown",
   "metadata": {},
   "source": [
    "Nous pouvons afficher les colonnes pour voir."
   ]
  },
  {
   "cell_type": "code",
   "execution_count": 6,
   "metadata": {},
   "outputs": [
    {
     "data": {
      "text/plain": [
       "Index(['Id', 'Title', 'Body', 'Tags'], dtype='object')"
      ]
     },
     "execution_count": 6,
     "metadata": {},
     "output_type": "execute_result"
    }
   ],
   "source": [
    "df_main.columns"
   ]
  },
  {
   "cell_type": "markdown",
   "metadata": {},
   "source": [
    "### informations générales sur la table principale"
   ]
  },
  {
   "cell_type": "code",
   "execution_count": 7,
   "metadata": {},
   "outputs": [
    {
     "name": "stdout",
     "output_type": "stream",
     "text": [
      "<class 'pandas.core.frame.DataFrame'>\n",
      "RangeIndex: 73942 entries, 0 to 73941\n",
      "Data columns (total 4 columns):\n",
      " #   Column  Non-Null Count  Dtype \n",
      "---  ------  --------------  ----- \n",
      " 0   Id      73942 non-null  object\n",
      " 1   Title   73942 non-null  object\n",
      " 2   Body    73942 non-null  object\n",
      " 3   Tags    73942 non-null  object\n",
      "dtypes: object(4)\n",
      "memory usage: 2.3+ MB\n"
     ]
    }
   ],
   "source": [
    "df_main.info()"
   ]
  },
  {
   "cell_type": "code",
   "execution_count": 8,
   "metadata": {},
   "outputs": [
    {
     "data": {
      "text/html": [
       "<div>\n",
       "<style scoped>\n",
       "    .dataframe tbody tr th:only-of-type {\n",
       "        vertical-align: middle;\n",
       "    }\n",
       "\n",
       "    .dataframe tbody tr th {\n",
       "        vertical-align: top;\n",
       "    }\n",
       "\n",
       "    .dataframe thead th {\n",
       "        text-align: right;\n",
       "    }\n",
       "</style>\n",
       "<table border=\"1\" class=\"dataframe\">\n",
       "  <thead>\n",
       "    <tr style=\"text-align: right;\">\n",
       "      <th></th>\n",
       "      <th>Id</th>\n",
       "      <th>Title</th>\n",
       "      <th>Body</th>\n",
       "      <th>Tags</th>\n",
       "    </tr>\n",
       "  </thead>\n",
       "  <tbody>\n",
       "    <tr>\n",
       "      <th>0</th>\n",
       "      <td>4</td>\n",
       "      <td>How to convert decimal to double in C#?</td>\n",
       "      <td>&lt;p&gt;I want to use a &lt;code&gt;Track-Bar&lt;/code&gt; to c...</td>\n",
       "      <td>&lt;c#&gt;&lt;floating-point&gt;&lt;type-conversion&gt;&lt;double&gt;&lt;...</td>\n",
       "    </tr>\n",
       "    <tr>\n",
       "      <th>1</th>\n",
       "      <td>6</td>\n",
       "      <td>Percentage width child element in absolutely p...</td>\n",
       "      <td>&lt;p&gt;I have an absolutely positioned &lt;code&gt;div&lt;/...</td>\n",
       "      <td>&lt;html&gt;&lt;css&gt;&lt;internet-explorer-7&gt;</td>\n",
       "    </tr>\n",
       "    <tr>\n",
       "      <th>2</th>\n",
       "      <td>9</td>\n",
       "      <td>In C#, how do I calculate someone's age based ...</td>\n",
       "      <td>&lt;p&gt;Given a &lt;code&gt;DateTime&lt;/code&gt; representing ...</td>\n",
       "      <td>&lt;c#&gt;&lt;.net&gt;&lt;datetime&gt;</td>\n",
       "    </tr>\n",
       "    <tr>\n",
       "      <th>3</th>\n",
       "      <td>11</td>\n",
       "      <td>Calculate relative time in C#</td>\n",
       "      <td>&lt;p&gt;Given a specific &lt;code&gt;DateTime&lt;/code&gt; valu...</td>\n",
       "      <td>&lt;c#&gt;&lt;datetime&gt;&lt;time&gt;&lt;datediff&gt;&lt;relative-time-s...</td>\n",
       "    </tr>\n",
       "    <tr>\n",
       "      <th>4</th>\n",
       "      <td>13</td>\n",
       "      <td>Determine a user's timezone</td>\n",
       "      <td>&lt;p&gt;Is there a standard way for a web server to...</td>\n",
       "      <td>&lt;html&gt;&lt;browser&gt;&lt;timezone&gt;&lt;user-agent&gt;&lt;timezone...</td>\n",
       "    </tr>\n",
       "    <tr>\n",
       "      <th>...</th>\n",
       "      <td>...</td>\n",
       "      <td>...</td>\n",
       "      <td>...</td>\n",
       "      <td>...</td>\n",
       "    </tr>\n",
       "    <tr>\n",
       "      <th>73937</th>\n",
       "      <td>499977</td>\n",
       "      <td>How to code hosting of the WF with WC 3.5 Reci...</td>\n",
       "      <td>&lt;p&gt;I created a small VS solution that includes...</td>\n",
       "      <td>&lt;windows&gt;&lt;wcf&gt;&lt;service&gt;&lt;hosting&gt;&lt;workflow-foun...</td>\n",
       "    </tr>\n",
       "    <tr>\n",
       "      <th>73938</th>\n",
       "      <td>499987</td>\n",
       "      <td>How to access information entered during setup...</td>\n",
       "      <td>&lt;p&gt;I added a simple dialog window to the insta...</td>\n",
       "      <td>&lt;.net&gt;&lt;visual-studio&gt;&lt;installation&gt;&lt;windows-in...</td>\n",
       "    </tr>\n",
       "    <tr>\n",
       "      <th>73939</th>\n",
       "      <td>499989</td>\n",
       "      <td>Mysql MediumText causes PHP Fatal error: Allow...</td>\n",
       "      <td>&lt;p&gt;I have my own php data object class that wr...</td>\n",
       "      <td>&lt;php&gt;&lt;memory-management&gt;</td>\n",
       "    </tr>\n",
       "    <tr>\n",
       "      <th>73940</th>\n",
       "      <td>499995</td>\n",
       "      <td>How do you validate a binary search tree?</td>\n",
       "      <td>&lt;p&gt;I read on here of an exercise in interviews...</td>\n",
       "      <td>&lt;algorithm&gt;&lt;data-structures&gt;&lt;binary-search-tree&gt;</td>\n",
       "    </tr>\n",
       "    <tr>\n",
       "      <th>73941</th>\n",
       "      <td>499997</td>\n",
       "      <td>Is Request.IsAjaxRequest() broken in the MVC R...</td>\n",
       "      <td>&lt;p&gt;This MVC stuff is fun but every step along ...</td>\n",
       "      <td>&lt;asp.net-mvc&gt;&lt;asp.net-ajax&gt;</td>\n",
       "    </tr>\n",
       "  </tbody>\n",
       "</table>\n",
       "<p>73942 rows × 4 columns</p>\n",
       "</div>"
      ],
      "text/plain": [
       "           Id                                              Title  \\\n",
       "0           4            How to convert decimal to double in C#?   \n",
       "1           6  Percentage width child element in absolutely p...   \n",
       "2           9  In C#, how do I calculate someone's age based ...   \n",
       "3          11                      Calculate relative time in C#   \n",
       "4          13                        Determine a user's timezone   \n",
       "...       ...                                                ...   \n",
       "73937  499977  How to code hosting of the WF with WC 3.5 Reci...   \n",
       "73938  499987  How to access information entered during setup...   \n",
       "73939  499989  Mysql MediumText causes PHP Fatal error: Allow...   \n",
       "73940  499995          How do you validate a binary search tree?   \n",
       "73941  499997  Is Request.IsAjaxRequest() broken in the MVC R...   \n",
       "\n",
       "                                                    Body  \\\n",
       "0      <p>I want to use a <code>Track-Bar</code> to c...   \n",
       "1      <p>I have an absolutely positioned <code>div</...   \n",
       "2      <p>Given a <code>DateTime</code> representing ...   \n",
       "3      <p>Given a specific <code>DateTime</code> valu...   \n",
       "4      <p>Is there a standard way for a web server to...   \n",
       "...                                                  ...   \n",
       "73937  <p>I created a small VS solution that includes...   \n",
       "73938  <p>I added a simple dialog window to the insta...   \n",
       "73939  <p>I have my own php data object class that wr...   \n",
       "73940  <p>I read on here of an exercise in interviews...   \n",
       "73941  <p>This MVC stuff is fun but every step along ...   \n",
       "\n",
       "                                                    Tags  \n",
       "0      <c#><floating-point><type-conversion><double><...  \n",
       "1                       <html><css><internet-explorer-7>  \n",
       "2                                   <c#><.net><datetime>  \n",
       "3      <c#><datetime><time><datediff><relative-time-s...  \n",
       "4      <html><browser><timezone><user-agent><timezone...  \n",
       "...                                                  ...  \n",
       "73937  <windows><wcf><service><hosting><workflow-foun...  \n",
       "73938  <.net><visual-studio><installation><windows-in...  \n",
       "73939                           <php><memory-management>  \n",
       "73940   <algorithm><data-structures><binary-search-tree>  \n",
       "73941                        <asp.net-mvc><asp.net-ajax>  \n",
       "\n",
       "[73942 rows x 4 columns]"
      ]
     },
     "execution_count": 8,
     "metadata": {},
     "output_type": "execute_result"
    }
   ],
   "source": [
    "df_main"
   ]
  },
  {
   "cell_type": "markdown",
   "metadata": {},
   "source": [
    "## Inspection générale des données "
   ]
  },
  {
   "cell_type": "markdown",
   "metadata": {},
   "source": [
    "### Title feature"
   ]
  },
  {
   "cell_type": "code",
   "execution_count": 9,
   "metadata": {},
   "outputs": [
    {
     "name": "stdout",
     "output_type": "stream",
     "text": [
      "How to convert decimal to double in C#?\n",
      "Percentage width child element in absolutely positioned parent on Internet Explorer 7\n",
      "In C#, how do I calculate someone's age based on a DateTime type birthday?\n",
      "Calculate relative time in C#\n",
      "Determine a user's timezone\n",
      "Difference between Math.Floor() and Math.Truncate()\n",
      "Filling a DataSet or DataTable from a LINQ query result set\n",
      "Binary Data in MySQL\n",
      "What is the fastest way to get the value of π?\n",
      "Throw an error in a MySQL trigger\n"
     ]
    }
   ],
   "source": [
    "for i in range(10):\n",
    "    print(df_main.loc[i, \"Title\"])"
   ]
  },
  {
   "cell_type": "markdown",
   "metadata": {},
   "source": [
    "Nous pouvons essayer de compter le nombre de mots dans la \"feature\" Title. "
   ]
  },
  {
   "cell_type": "code",
   "execution_count": 10,
   "metadata": {},
   "outputs": [
    {
     "data": {
      "image/png": "[encoded data removed]",
      "text/plain": [
       "<Figure size 864x288 with 1 Axes>"
      ]
     },
     "metadata": {},
     "output_type": "display_data"
    }
   ],
   "source": [
    "sns.set()\n",
    "colors = sns.color_palette(\"hls\", 8)\n",
    "plt.figure(figsize=(12,4))\n",
    "sns.countplot(df_main[\"Title\"].map(lambda field:len(field.split(' '))).values, color=colors[5])\n",
    "plt.title(\"Repartition du nombre de mots par rapport aux 'Titles'\")\n",
    "plt.xlabel(\"Nombre de mots\")\n",
    "plt.ylabel(\"Nombre de 'Title'\")\n",
    "plt.show()"
   ]
  },
  {
   "cell_type": "markdown",
   "metadata": {},
   "source": [
    "Essayons d'afficher les valeurs uniques avec leur proportion numériques afin davoir les informations sur le nombre de mots à valeurs faibles. "
   ]
  },
  {
   "cell_type": "code",
   "execution_count": 11,
   "metadata": {},
   "outputs": [
    {
     "data": {
      "text/html": [
       "<div>\n",
       "<style scoped>\n",
       "    .dataframe tbody tr th:only-of-type {\n",
       "        vertical-align: middle;\n",
       "    }\n",
       "\n",
       "    .dataframe tbody tr th {\n",
       "        vertical-align: top;\n",
       "    }\n",
       "\n",
       "    .dataframe thead th {\n",
       "        text-align: right;\n",
       "    }\n",
       "</style>\n",
       "<table border=\"1\" class=\"dataframe\">\n",
       "  <thead>\n",
       "    <tr style=\"text-align: right;\">\n",
       "      <th></th>\n",
       "      <th>unique</th>\n",
       "      <th>count</th>\n",
       "    </tr>\n",
       "  </thead>\n",
       "  <tbody>\n",
       "    <tr>\n",
       "      <th>20</th>\n",
       "      <td>21</td>\n",
       "      <td>129</td>\n",
       "    </tr>\n",
       "    <tr>\n",
       "      <th>21</th>\n",
       "      <td>22</td>\n",
       "      <td>86</td>\n",
       "    </tr>\n",
       "    <tr>\n",
       "      <th>22</th>\n",
       "      <td>23</td>\n",
       "      <td>55</td>\n",
       "    </tr>\n",
       "    <tr>\n",
       "      <th>23</th>\n",
       "      <td>24</td>\n",
       "      <td>31</td>\n",
       "    </tr>\n",
       "    <tr>\n",
       "      <th>24</th>\n",
       "      <td>25</td>\n",
       "      <td>25</td>\n",
       "    </tr>\n",
       "    <tr>\n",
       "      <th>25</th>\n",
       "      <td>26</td>\n",
       "      <td>13</td>\n",
       "    </tr>\n",
       "    <tr>\n",
       "      <th>26</th>\n",
       "      <td>27</td>\n",
       "      <td>9</td>\n",
       "    </tr>\n",
       "    <tr>\n",
       "      <th>27</th>\n",
       "      <td>28</td>\n",
       "      <td>4</td>\n",
       "    </tr>\n",
       "    <tr>\n",
       "      <th>28</th>\n",
       "      <td>29</td>\n",
       "      <td>3</td>\n",
       "    </tr>\n",
       "  </tbody>\n",
       "</table>\n",
       "</div>"
      ],
      "text/plain": [
       "    unique  count\n",
       "20      21    129\n",
       "21      22     86\n",
       "22      23     55\n",
       "23      24     31\n",
       "24      25     25\n",
       "25      26     13\n",
       "26      27      9\n",
       "27      28      4\n",
       "28      29      3"
      ]
     },
     "execution_count": 11,
     "metadata": {},
     "output_type": "execute_result"
    }
   ],
   "source": [
    "unique, values = np.unique(df_main[\"Title\"].map(lambda field:len(field.split(' '))).values, return_counts=True)\n",
    "pd.DataFrame({'unique':unique, 'count':values}).loc[20:]"
   ]
  },
  {
   "cell_type": "markdown",
   "metadata": {},
   "source": [
    "Regardons les mots les plus fréquents. Il est toujours intéressant de regarder les mots les plus fréquents avant de faire du clean."
   ]
  },
  {
   "cell_type": "code",
   "execution_count": 12,
   "metadata": {},
   "outputs": [
    {
     "data": {
      "text/plain": [
       "array(['How to convert decimal to double in C#?',\n",
       "       'Percentage width child element in absolutely positioned parent on Internet Explorer 7',\n",
       "       \"In C#, how do I calculate someone's age based on a DateTime type birthday?\",\n",
       "       'Calculate relative time in C#', \"Determine a user's timezone\",\n",
       "       'Difference between Math.Floor() and Math.Truncate()',\n",
       "       'Filling a DataSet or DataTable from a LINQ query result set',\n",
       "       'Binary Data in MySQL',\n",
       "       'What is the fastest way to get the value of π?',\n",
       "       'Throw an error in a MySQL trigger',\n",
       "       'How to use the C socket API in C++ on z/OS',\n",
       "       'Unloading a ByteArray using Actionscript 3',\n",
       "       'Check for changes to an SQL Server table?',\n",
       "       'Reliable timer in a console application',\n",
       "       'Best way to allow plugins for a PHP application',\n",
       "       'Multiple submit buttons in an HTML form',\n",
       "       'How do I get a distinct, ordered list of names from a DataTable using LINQ?',\n",
       "       'Microsoft Office 2007 file type, Mime types and identifying characters',\n",
       "       'Paging a collection with LINQ',\n",
       "       'How do I add existing comments to RDoc in Ruby?',\n",
       "       'Getting Subclipse in Aptana to work with the newest release of Subversion'],\n",
       "      dtype=object)"
      ]
     },
     "execution_count": 12,
     "metadata": {},
     "output_type": "execute_result"
    }
   ],
   "source": [
    "df_main.loc[0:20, \"Title\"].values"
   ]
  },
  {
   "cell_type": "markdown",
   "metadata": {},
   "source": [
    "Nous devons supprimer les caractères spéciaux et les ponctuations. Nous alons écrire une fonction qui prend en entrée un text, supprimer les caractères spéciaux, les ponctuations et enleve les majuscules. "
   ]
  },
  {
   "cell_type": "code",
   "execution_count": 13,
   "metadata": {},
   "outputs": [],
   "source": [
    "def pre_tokenize(text):\n",
    "    \n",
    "    # Suppression des points\n",
    "    text = text.replace('.', ' ')\n",
    "    # Suppressions des ponctuations\n",
    "    expr = [\"\\n\"] #[\"?\", \",\", \".\", \"'\", \";\", \":\", \"!\", \"\\n\", \"(\", \")\", \"|\", \"_\", \"-\", \"`\", \"+\", \"-\", \"*\", \"/\"]\n",
    "    for char in expr:\n",
    "        text = text.replace(char, ' ')\n",
    "    # Miniscule\n",
    "    text = str(np.char.lower(text))\n",
    "    \n",
    "    return text"
   ]
  },
  {
   "cell_type": "code",
   "execution_count": 14,
   "metadata": {},
   "outputs": [],
   "source": [
    "df_main[\"Title\"] = df_main[\"Title\"].map(pre_tokenize)"
   ]
  },
  {
   "cell_type": "code",
   "execution_count": 15,
   "metadata": {},
   "outputs": [
    {
     "data": {
      "text/plain": [
       "array(['how to convert decimal to double in c#?',\n",
       "       'percentage width child element in absolutely positioned parent on internet explorer 7',\n",
       "       \"in c#, how do i calculate someone's age based on a datetime type birthday?\",\n",
       "       'calculate relative time in c#', \"determine a user's timezone\",\n",
       "       'difference between math floor() and math truncate()',\n",
       "       'filling a dataset or datatable from a linq query result set',\n",
       "       'binary data in mysql',\n",
       "       'what is the fastest way to get the value of π?',\n",
       "       'throw an error in a mysql trigger',\n",
       "       'how to use the c socket api in c++ on z/os',\n",
       "       'unloading a bytearray using actionscript 3',\n",
       "       'check for changes to an sql server table?',\n",
       "       'reliable timer in a console application',\n",
       "       'best way to allow plugins for a php application',\n",
       "       'multiple submit buttons in an html form',\n",
       "       'how do i get a distinct, ordered list of names from a datatable using linq?',\n",
       "       'microsoft office 2007 file type, mime types and identifying characters',\n",
       "       'paging a collection with linq',\n",
       "       'how do i add existing comments to rdoc in ruby?',\n",
       "       'getting subclipse in aptana to work with the newest release of subversion'],\n",
       "      dtype=object)"
      ]
     },
     "execution_count": 15,
     "metadata": {},
     "output_type": "execute_result"
    }
   ],
   "source": [
    "df_main.loc[0:20, \"Title\"].values"
   ]
  },
  {
   "cell_type": "markdown",
   "metadata": {},
   "source": [
    "Nous allons aplliquer la Lemmatization afin de donner aux mots de notre texte une forme neutre. Nous le faisons dans la fonction suivantes. "
   ]
  },
  {
   "cell_type": "code",
   "execution_count": 16,
   "metadata": {},
   "outputs": [],
   "source": [
    "def lemmatize_text(text):\n",
    "\n",
    "    lem = WordNetLemmatizer()\n",
    "    text_lemmatized = []\n",
    "    words = word_tokenize(text)\n",
    "    for word in words:\n",
    "        word = lem.lemmatize(word, \"v\")\n",
    "        text_lemmatized.append(word)\n",
    "    text = ' '.join(text_lemmatized)\n",
    "    \n",
    "    return text"
   ]
  },
  {
   "cell_type": "code",
   "execution_count": 17,
   "metadata": {},
   "outputs": [],
   "source": [
    "df_main[\"Title\"] = df_main[\"Title\"].map(lemmatize_text)"
   ]
  },
  {
   "cell_type": "code",
   "execution_count": 18,
   "metadata": {},
   "outputs": [
    {
     "data": {
      "text/plain": [
       "array(['how to convert decimal to double in c # ?',\n",
       "       'percentage width child element in absolutely position parent on internet explorer 7',\n",
       "       \"in c # , how do i calculate someone 's age base on a datetime type birthday ?\",\n",
       "       'calculate relative time in c #', \"determine a user 's timezone\",\n",
       "       'difference between math floor ( ) and math truncate ( )',\n",
       "       'fill a dataset or datatable from a linq query result set',\n",
       "       'binary data in mysql',\n",
       "       'what be the fastest way to get the value of π ?',\n",
       "       'throw an error in a mysql trigger',\n",
       "       'how to use the c socket api in c++ on z/os',\n",
       "       'unload a bytearray use actionscript 3',\n",
       "       'check for change to an sql server table ?',\n",
       "       'reliable timer in a console application',\n",
       "       'best way to allow plugins for a php application',\n",
       "       'multiple submit button in an html form',\n",
       "       'how do i get a distinct , order list of name from a datatable use linq ?',\n",
       "       'microsoft office 2007 file type , mime type and identify character',\n",
       "       'page a collection with linq',\n",
       "       'how do i add exist comment to rdoc in ruby ?',\n",
       "       'get subclipse in aptana to work with the newest release of subversion'],\n",
       "      dtype=object)"
      ]
     },
     "execution_count": 18,
     "metadata": {},
     "output_type": "execute_result"
    }
   ],
   "source": [
    "df_main.loc[0:20, \"Title\"].values"
   ]
  },
  {
   "cell_type": "code",
   "execution_count": 19,
   "metadata": {},
   "outputs": [],
   "source": [
    "df_main[\"Title_tokens\"] = df_main[\"Title\"].map(word_tokenize)"
   ]
  },
  {
   "cell_type": "code",
   "execution_count": 20,
   "metadata": {},
   "outputs": [
    {
     "data": {
      "text/plain": [
       "array([list(['how', 'to', 'convert', 'decimal', 'to', 'double', 'in', 'c', '#', '?']),\n",
       "       list(['percentage', 'width', 'child', 'element', 'in', 'absolutely', 'position', 'parent', 'on', 'internet', 'explorer', '7']),\n",
       "       list(['in', 'c', '#', ',', 'how', 'do', 'i', 'calculate', 'someone', \"'s\", 'age', 'base', 'on', 'a', 'datetime', 'type', 'birthday', '?']),\n",
       "       list(['calculate', 'relative', 'time', 'in', 'c', '#']),\n",
       "       list(['determine', 'a', 'user', \"'s\", 'timezone']),\n",
       "       list(['difference', 'between', 'math', 'floor', '(', ')', 'and', 'math', 'truncate', '(', ')']),\n",
       "       list(['fill', 'a', 'dataset', 'or', 'datatable', 'from', 'a', 'linq', 'query', 'result', 'set']),\n",
       "       list(['binary', 'data', 'in', 'mysql']),\n",
       "       list(['what', 'be', 'the', 'fastest', 'way', 'to', 'get', 'the', 'value', 'of', 'π', '?']),\n",
       "       list(['throw', 'an', 'error', 'in', 'a', 'mysql', 'trigger']),\n",
       "       list(['how', 'to', 'use', 'the', 'c', 'socket', 'api', 'in', 'c++', 'on', 'z/os']),\n",
       "       list(['unload', 'a', 'bytearray', 'use', 'actionscript', '3']),\n",
       "       list(['check', 'for', 'change', 'to', 'an', 'sql', 'server', 'table', '?']),\n",
       "       list(['reliable', 'timer', 'in', 'a', 'console', 'application']),\n",
       "       list(['best', 'way', 'to', 'allow', 'plugins', 'for', 'a', 'php', 'application']),\n",
       "       list(['multiple', 'submit', 'button', 'in', 'an', 'html', 'form']),\n",
       "       list(['how', 'do', 'i', 'get', 'a', 'distinct', ',', 'order', 'list', 'of', 'name', 'from', 'a', 'datatable', 'use', 'linq', '?']),\n",
       "       list(['microsoft', 'office', '2007', 'file', 'type', ',', 'mime', 'type', 'and', 'identify', 'character']),\n",
       "       list(['page', 'a', 'collection', 'with', 'linq']),\n",
       "       list(['how', 'do', 'i', 'add', 'exist', 'comment', 'to', 'rdoc', 'in', 'ruby', '?']),\n",
       "       list(['get', 'subclipse', 'in', 'aptana', 'to', 'work', 'with', 'the', 'newest', 'release', 'of', 'subversion'])],\n",
       "      dtype=object)"
      ]
     },
     "execution_count": 20,
     "metadata": {},
     "output_type": "execute_result"
    }
   ],
   "source": [
    "df_main.loc[0:20, \"Title_tokens\"].values"
   ]
  },
  {
   "cell_type": "markdown",
   "metadata": {},
   "source": [
    "On est confronté à un problème, le 'word_tokenize' sépare les caractères comme «#» de «c#». Si \"C#\" est utilisé deux fois, le modèle trouvera deux mots identiques au lieu d'un. Additionnons tous les mots pour compter les fréquences. "
   ]
  },
  {
   "cell_type": "code",
   "execution_count": 21,
   "metadata": {},
   "outputs": [],
   "source": [
    "np_text = df_main[\"Title_tokens\"].values.copy()\n",
    "full_title_text_splitted = []\n",
    "for i in range(len(np_text)):\n",
    "    full_title_text_splitted.extend(np_text[i])\n",
    "del np_text"
   ]
  },
  {
   "cell_type": "code",
   "execution_count": 22,
   "metadata": {},
   "outputs": [
    {
     "data": {
      "text/plain": [
       "['how',\n",
       " 'to',\n",
       " 'convert',\n",
       " 'decimal',\n",
       " 'to',\n",
       " 'double',\n",
       " 'in',\n",
       " 'c',\n",
       " '#',\n",
       " '?',\n",
       " 'percentage',\n",
       " 'width',\n",
       " 'child',\n",
       " 'element',\n",
       " 'in',\n",
       " 'absolutely',\n",
       " 'position',\n",
       " 'parent',\n",
       " 'on',\n",
       " 'internet']"
      ]
     },
     "execution_count": 22,
     "metadata": {},
     "output_type": "execute_result"
    }
   ],
   "source": [
    "full_title_text_splitted[0:20]"
   ]
  },
  {
   "cell_type": "markdown",
   "metadata": {},
   "source": [
    "Nous pouvons maintenant voir le nombre de mots uniques. "
   ]
  },
  {
   "cell_type": "code",
   "execution_count": 23,
   "metadata": {},
   "outputs": [],
   "source": [
    "unique, count = np.unique(full_title_text_splitted, return_counts=True)"
   ]
  },
  {
   "cell_type": "code",
   "execution_count": 24,
   "metadata": {},
   "outputs": [
    {
     "data": {
      "text/plain": [
       "25842"
      ]
     },
     "execution_count": 24,
     "metadata": {},
     "output_type": "execute_result"
    }
   ],
   "source": [
    "len(unique)"
   ]
  },
  {
   "cell_type": "markdown",
   "metadata": {},
   "source": [
    "Regardons une partie de nos données. "
   ]
  },
  {
   "cell_type": "code",
   "execution_count": 25,
   "metadata": {},
   "outputs": [
    {
     "data": {
      "text/plain": [
       "array(['!', '#', '$', '%', '&', \"'\", \"''\", \"'*\", \"'***\", \"'+new\", \"'-\",\n",
       "       \"'-lmcheck\", \"'-re\", \"'/\", \"'//\", \"'/dnntest\", \"'/forum/default\",\n",
       "       \"'/reports\", \"'/subversion/main/db/transactions/0-1\", \"'0110\",\n",
       "       \"'07\", \"'08\", \"'09\", \"'1033\", \"'20\", \"'20050411\", \"'20060201\",\n",
       "       \"'397\", \"'404\", \"'77\", \"'90\", \"'91\", \"'95\", \"'=\", \"'==\", \"'\\\\\",\n",
       "       \"'\\\\0\", \"'\\\\\\\\\", \"'\\\\n\", \"'^\", \"'^m\", \"'__cdecl\", \"'__progname\",\n",
       "       \"'absolute\", \"'accept\", \"'access\", \"'accessdeniedexception\",\n",
       "       \"'action_name\", \"'actions\", \"'add\", \"'administrator\", \"'advanced\",\n",
       "       \"'ajaxcontroltoolkit\", \"'allow_url_fopen\", \"'an\", \"'analysis\",\n",
       "       \"'anonymous\", \"'ansi\", \"'anti\", \"'any\", \"'app_web_hamznvwf\",\n",
       "       \"'app_web_kh7-x3ka\", \"'application/javascript\", \"'argument\", \"'as\",\n",
       "       \"'ascii\", \"'asp\", \"'astoria\", \"'atomic\", \"'attempt\",\n",
       "       \"'atttributes\", \"'audience\", \"'author\", \"'autotest\", \"'back\",\n",
       "       \"'bad\", \"'beforesubmit\", \"'best\", \"'binary\", \"'bind\", \"'bit\",\n",
       "       \"'bits\", \"'blur\", \"'body\", \"'bool\", \"'bracketed\", \"'break\",\n",
       "       \"'breaking\", \"'bucket\", \"'buffer\", \"'builder\", \"'bumps\",\n",
       "       \"'business\", \"'cache_sweeper\", \"'cancel\", \"'canvaselement\",\n",
       "       \"'capitalize\", \"'cassini\", \"'catch\", \"'ccc-analyzer\", 'zend_pdf',\n",
       "       'zend_rest_client', 'zend_uri_exception', 'zend_validator',\n",
       "       'zentest', 'zentest/autotest', 'zero', 'zero-byte', 'zero-cost',\n",
       "       'zero-pad', 'zero-to-many', 'zeroc', 'zeroconf', 'zeromq', 'zeus',\n",
       "       'zf', 'zfs', 'zimbra', 'zindex', 'zip', 'zip-file', 'zip-like',\n",
       "       'zipcode', 'zipexception', 'zipfile', 'zipinputstream', 'zipper',\n",
       "       'ziya', 'zk', 'zlib', 'zlib-compatible', 'zljava/lang/string',\n",
       "       'zodb', 'zoho', 'zombies', 'zone', 'zookeeper', 'zoom', 'zpl-ii',\n",
       "       'zrm', 'zsh', 'zsh/bash', 'zsi', 'zulu', 'zune', 'zx', 'zxjdbc',\n",
       "       'zz', '{', '|', '|=', '|=1', '|pipe-delimited|', '||', '}', '~',\n",
       "       '~/', '~/opt/lib', '~0', '~250,000', '~30', '~6', '~d0', '~dp0',\n",
       "       '~enumwindows', '~~', '£', '«', '®', \"´rm'-\", '»', '¿', 'à', 'á',\n",
       "       'áccess', 'â', 'â®', 'â¿', 'ã¡', 'ã©', 'é', 'ï', 'ñ', 'ü', 'ą',\n",
       "       'ę', 'θ', 'π', '–', '—', '‘', '’', '“', '”', '…', '€', '⊐', '⨝',\n",
       "       '首', '？'], dtype='<U50')"
      ]
     },
     "execution_count": 25,
     "metadata": {},
     "output_type": "execute_result"
    }
   ],
   "source": [
    "np.concatenate((unique[0:100], unique[-100:]))"
   ]
  },
  {
   "cell_type": "markdown",
   "metadata": {},
   "source": [
    "Nous pouvons voir qu'il y'a beaucoup de mots qui peuvent être des nombres, ou des mots qui ont quelques quelques caractères spéciaux, d'autres écrits deux fois. Regardons la répartition."
   ]
  },
  {
   "cell_type": "code",
   "execution_count": 26,
   "metadata": {},
   "outputs": [
    {
     "data": {
      "image/png": "[encoded data removed]",
      "text/plain": [
       "<Figure size 864x288 with 1 Axes>"
      ]
     },
     "metadata": {},
     "output_type": "display_data"
    }
   ],
   "source": [
    "sns.set()\n",
    "plt.figure(figsize=(12,4))\n",
    "sns.distplot(count, kde=False)\n",
    "plt.title(\"Histogramme de la frequence d'apparition des mots uniques dans le text entier\")\n",
    "plt.xlabel(\"Mots\")\n",
    "plt.ylabel(\"Nombres d'apparitions\")\n",
    "plt.show()"
   ]
  },
  {
   "cell_type": "markdown",
   "metadata": {},
   "source": [
    "La plupart de la distribution semble proche de 1. Regardons et comptons le nombre de mots apparaissant plus de 1000 fois."
   ]
  },
  {
   "cell_type": "code",
   "execution_count": 27,
   "metadata": {},
   "outputs": [
    {
     "data": {
      "text/plain": [
       "array([ 3396,  1121,  2451,  5177,  5173,  4479,  2964,  4487, 33671,\n",
       "        5269, 23830,  1302,  1067,  5278,  6986,  1008,  2054,  1248,\n",
       "        3221, 12452,  2939,  1063,  1042,  3730,  1591,  1040,  4981,\n",
       "        1223,  1674,  1879,  1686,  1778,  1907,  1487, 10037,  1199,\n",
       "        4373,  1299,  8541,  1112,  5334,  1302,  2827,  1406, 16467,\n",
       "        1034,  9045,  1149, 21026,  1091,  2093,  2550,  1585,  1268,\n",
       "        1199,  1115,  1052,  1518,  1112,  1057,  6331,  2305,  1765,\n",
       "        8276,  4979,  2711,  1321,  1640,  1131,  1453,  1046,  1090,\n",
       "        2664,  1270,  1332,  1085,  3150,  1665,  1318,  1399,  1365,\n",
       "        1666, 13432,  2190, 23393,  1212,  7714,  1020,  1395,  1437,\n",
       "        1157,  3098,  2094,  5927,  2535,  1817,  2227,  6470,  1270,\n",
       "        1064,  3262])"
      ]
     },
     "execution_count": 27,
     "metadata": {},
     "output_type": "execute_result"
    }
   ],
   "source": [
    "count[np.where(count > 1000)]"
   ]
  },
  {
   "cell_type": "code",
   "execution_count": 28,
   "metadata": {},
   "outputs": [
    {
     "data": {
      "text/plain": [
       "101"
      ]
     },
     "execution_count": 28,
     "metadata": {},
     "output_type": "execute_result"
    }
   ],
   "source": [
    "len(np.where(count > 1000)[0])"
   ]
  },
  {
   "cell_type": "markdown",
   "metadata": {},
   "source": [
    "Nombre d'occurence des mots qui apparaissent le plus"
   ]
  },
  {
   "cell_type": "code",
   "execution_count": 29,
   "metadata": {},
   "outputs": [
    {
     "data": {
      "text/plain": [
       "33671"
      ]
     },
     "execution_count": 29,
     "metadata": {},
     "output_type": "execute_result"
    }
   ],
   "source": [
    "max(count)"
   ]
  },
  {
   "cell_type": "code",
   "execution_count": 30,
   "metadata": {},
   "outputs": [
    {
     "data": {
      "text/plain": [
       "'?'"
      ]
     },
     "execution_count": 30,
     "metadata": {},
     "output_type": "execute_result"
    }
   ],
   "source": [
    "unique[np.argmax(count)]"
   ]
  },
  {
   "cell_type": "markdown",
   "metadata": {},
   "source": [
    "Affichons de manière plus détaillé l'histogramme. "
   ]
  },
  {
   "cell_type": "code",
   "execution_count": 31,
   "metadata": {},
   "outputs": [
    {
     "data": {
      "image/png": "[encoded data removed]",
      "text/plain": [
       "<Figure size 864x288 with 1 Axes>"
      ]
     },
     "metadata": {},
     "output_type": "display_data"
    }
   ],
   "source": [
    "sns.set()\n",
    "plt.figure(figsize=(12,4))\n",
    "sns.distplot(count[np.where(count < 200)], kde=False)\n",
    "plt.title(\"Histogramme de la frequence des mots uniques apparaisant moins de 200 fois dans le text entier\")\n",
    "plt.xlabel(\"Mots\")\n",
    "plt.ylabel(\"Nombre d'apparitions\")\n",
    "plt.show()"
   ]
  },
  {
   "cell_type": "code",
   "execution_count": 32,
   "metadata": {},
   "outputs": [
    {
     "data": {
      "text/plain": [
       "15483"
      ]
     },
     "execution_count": 32,
     "metadata": {},
     "output_type": "execute_result"
    }
   ],
   "source": [
    "len(np.where(count == 1)[0])"
   ]
  },
  {
   "cell_type": "markdown",
   "metadata": {},
   "source": [
    "Le nombre de mots avec une seule occurrence est énorme. Ces mots donnent trop peu d'informations et prennent trop de place mémoire. Il pourrait être intéressant d'essayer de les supprimer dans notre modélsation. Ou du moins, supprimez tous ceux qui ne sont pas dans le ditionnaire ( parce que peu de chances d'être réutilisé ...). Un nettoyage poussé peut être une solution, en supprimant, des chiffres, des caractères spéciaux ... On les garde pour l'instant."
   ]
  },
  {
   "cell_type": "code",
   "execution_count": 33,
   "metadata": {},
   "outputs": [
    {
     "data": {
      "text/plain": [
       "array([\"''\", \"'***\", \"'+new\", ..., '⨝', '首', '？'], dtype='<U50')"
      ]
     },
     "execution_count": 33,
     "metadata": {},
     "output_type": "execute_result"
    }
   ],
   "source": [
    "title_words_to_del = unique[np.where(count == 1)]\n",
    "title_words_to_del"
   ]
  },
  {
   "cell_type": "code",
   "execution_count": 34,
   "metadata": {},
   "outputs": [],
   "source": [
    "del full_title_text_splitted"
   ]
  },
  {
   "cell_type": "markdown",
   "metadata": {},
   "source": [
    "### Tags feature"
   ]
  },
  {
   "cell_type": "code",
   "execution_count": 35,
   "metadata": {},
   "outputs": [
    {
     "name": "stdout",
     "output_type": "stream",
     "text": [
      "<c#><floating-point><type-conversion><double><decimal>\n",
      "<html><css><internet-explorer-7>\n",
      "<c#><.net><datetime>\n",
      "<c#><datetime><time><datediff><relative-time-span>\n",
      "<html><browser><timezone><user-agent><timezone-offset>\n",
      "<.net><math>\n",
      "<c#><linq><web-services><.net-3.5>\n",
      "<mysql><database><binary-data><data-storage>\n",
      "<performance><algorithm><language-agnostic><unix><pi>\n",
      "<mysql><database><triggers>\n"
     ]
    }
   ],
   "source": [
    "for i in range(10):\n",
    "    print(df_main.loc[i, \"Tags\"])"
   ]
  },
  {
   "cell_type": "markdown",
   "metadata": {},
   "source": [
    "Séparons les tags dans une liste pour mieux analyser."
   ]
  },
  {
   "cell_type": "code",
   "execution_count": 36,
   "metadata": {},
   "outputs": [],
   "source": [
    "df_main[\"Tags\"] = df_main[\"Tags\"].map(lambda field:field[1:-1].split('><'))"
   ]
  },
  {
   "cell_type": "code",
   "execution_count": 37,
   "metadata": {},
   "outputs": [
    {
     "name": "stdout",
     "output_type": "stream",
     "text": [
      "['c#', 'floating-point', 'type-conversion', 'double', 'decimal']\n",
      "['html', 'css', 'internet-explorer-7']\n",
      "['c#', '.net', 'datetime']\n",
      "['c#', 'datetime', 'time', 'datediff', 'relative-time-span']\n",
      "['html', 'browser', 'timezone', 'user-agent', 'timezone-offset']\n",
      "['.net', 'math']\n",
      "['c#', 'linq', 'web-services', '.net-3.5']\n",
      "['mysql', 'database', 'binary-data', 'data-storage']\n",
      "['performance', 'algorithm', 'language-agnostic', 'unix', 'pi']\n",
      "['mysql', 'database', 'triggers']\n"
     ]
    }
   ],
   "source": [
    "for i in range(10):\n",
    "    print(df_main.loc[i, \"Tags\"])"
   ]
  },
  {
   "cell_type": "markdown",
   "metadata": {},
   "source": [
    "On peut ajouter, du moins temporairement un champ dans le DataFrame principale. C'est le nombre de tags par posts. Il pourrait être utilisé pour obtenir une distribution."
   ]
  },
  {
   "cell_type": "code",
   "execution_count": 38,
   "metadata": {},
   "outputs": [],
   "source": [
    "df_main[\"nb_tags\"] = df_main[\"Tags\"].map(lambda field:len(field))"
   ]
  },
  {
   "cell_type": "code",
   "execution_count": 39,
   "metadata": {},
   "outputs": [
    {
     "data": {
      "image/png": "[encoded data removed]",
      "text/plain": [
       "<Figure size 864x288 with 1 Axes>"
      ]
     },
     "metadata": {},
     "output_type": "display_data"
    }
   ],
   "source": [
    "sns.set()\n",
    "colors = sns.color_palette(\"hls\", 8)\n",
    "plt.figure(figsize=(12,4))\n",
    "sns.countplot(df_main[\"nb_tags\"], color=colors[5])\n",
    "plt.title(\"Repartition du nombre de 'tags' par 'post'\")\n",
    "plt.ylabel(\"Nombre de tags\")\n",
    "plt.show()"
   ]
  },
  {
   "cell_type": "code",
   "execution_count": 40,
   "metadata": {},
   "outputs": [
    {
     "data": {
      "text/plain": [
       "(array([1, 2, 3, 4, 5]), array([ 7701, 20573, 23579, 14917,  7172]))"
      ]
     },
     "execution_count": 40,
     "metadata": {},
     "output_type": "execute_result"
    }
   ],
   "source": [
    "np.unique(df_main[\"nb_tags\"], return_counts=True)"
   ]
  },
  {
   "cell_type": "markdown",
   "metadata": {},
   "source": [
    "Les valeurs uniques et leurs proportions numériques donnent des informations sur les articles avec 5 tags. Nous pouvons maintenant lister toutes les tags et voir les fréquentes"
   ]
  },
  {
   "cell_type": "code",
   "execution_count": 41,
   "metadata": {},
   "outputs": [],
   "source": [
    "np_text = df_main[\"Tags\"].values.copy()\n",
    "full_text_tags_splitted = []\n",
    "for i in range(len(np_text)):\n",
    "    full_text_tags_splitted.extend(np_text[i])\n",
    "full_text_tags_splitted[0:20]\n",
    "del np_text"
   ]
  },
  {
   "cell_type": "code",
   "execution_count": 42,
   "metadata": {},
   "outputs": [
    {
     "data": {
      "text/plain": [
       "['c#',\n",
       " 'floating-point',\n",
       " 'type-conversion',\n",
       " 'double',\n",
       " 'decimal',\n",
       " 'html',\n",
       " 'css',\n",
       " 'internet-explorer-7',\n",
       " 'c#',\n",
       " '.net',\n",
       " 'datetime',\n",
       " 'c#',\n",
       " 'datetime',\n",
       " 'time',\n",
       " 'datediff',\n",
       " 'relative-time-span',\n",
       " 'html',\n",
       " 'browser',\n",
       " 'timezone',\n",
       " 'user-agent']"
      ]
     },
     "execution_count": 42,
     "metadata": {},
     "output_type": "execute_result"
    }
   ],
   "source": [
    "full_text_tags_splitted[0:20]"
   ]
  },
  {
   "cell_type": "code",
   "execution_count": 43,
   "metadata": {},
   "outputs": [],
   "source": [
    "unique, count = np.unique(full_text_tags_splitted, return_counts=True)"
   ]
  },
  {
   "cell_type": "code",
   "execution_count": 44,
   "metadata": {},
   "outputs": [
    {
     "name": "stdout",
     "output_type": "stream",
     "text": [
      "Nombre de tags: 215112\n",
      "Nombre de tags uniques: 10921\n"
     ]
    }
   ],
   "source": [
    "print(\"Nombre de tags: {}\".format(len(full_text_tags_splitted)))\n",
    "print(\"Nombre de tags uniques: {}\".format(len(unique)))"
   ]
  },
  {
   "cell_type": "code",
   "execution_count": 45,
   "metadata": {},
   "outputs": [
    {
     "data": {
      "image/png": "[encoded data removed]",
      "text/plain": [
       "<Figure size 864x288 with 1 Axes>"
      ]
     },
     "metadata": {},
     "output_type": "display_data"
    }
   ],
   "source": [
    "sns.set()\n",
    "plt.figure(figsize=(12,4))\n",
    "sns.distplot(count, kde=False)\n",
    "plt.title(\"Histogramme de la frequence d'apparition mots uniques en tags\")\n",
    "plt.xlabel(\"Tags\")\n",
    "plt.ylabel(\"Nombre d'apparition\")\n",
    "plt.show()"
   ]
  },
  {
   "cell_type": "markdown",
   "metadata": {},
   "source": [
    "Comme précedemment avec les 'Title', la plupart des tags n'apparaissent qu'une seule fois dont le max est:"
   ]
  },
  {
   "cell_type": "code",
   "execution_count": 46,
   "metadata": {},
   "outputs": [
    {
     "data": {
      "text/plain": [
       "'c#'"
      ]
     },
     "execution_count": 46,
     "metadata": {},
     "output_type": "execute_result"
    }
   ],
   "source": [
    "unique[np.argmax(count)]"
   ]
  },
  {
   "cell_type": "markdown",
   "metadata": {},
   "source": [
    "Le nombre de tags apparaissant plus de 200 fois. "
   ]
  },
  {
   "cell_type": "code",
   "execution_count": 47,
   "metadata": {},
   "outputs": [
    {
     "data": {
      "text/plain": [
       "167"
      ]
     },
     "execution_count": 47,
     "metadata": {},
     "output_type": "execute_result"
    }
   ],
   "source": [
    "len(np.where(count > 200)[0])"
   ]
  },
  {
   "cell_type": "code",
   "execution_count": 48,
   "metadata": {},
   "outputs": [
    {
     "data": {
      "text/plain": [
       "4355"
      ]
     },
     "execution_count": 48,
     "metadata": {},
     "output_type": "execute_result"
    }
   ],
   "source": [
    "len(np.where(count == 1)[0])"
   ]
  },
  {
   "cell_type": "code",
   "execution_count": 49,
   "metadata": {},
   "outputs": [
    {
     "data": {
      "image/png": "[encoded data removed]",
      "text/plain": [
       "<Figure size 864x288 with 1 Axes>"
      ]
     },
     "metadata": {},
     "output_type": "display_data"
    }
   ],
   "source": [
    "sns.set()\n",
    "plt.figure(figsize=(12,4))\n",
    "sns.distplot(count[np.where(count < 200)], kde=False)\n",
    "plt.title(\"Histogramme de la frequence des tags uniques apparaissant moins de 200 fois dans tout le texte\")\n",
    "plt.xlabel(\"Tags\")\n",
    "plt.ylabel(\"Nombre d'apparitions\")\n",
    "plt.show()"
   ]
  },
  {
   "cell_type": "code",
   "execution_count": 50,
   "metadata": {},
   "outputs": [],
   "source": [
    "del full_text_tags_splitted"
   ]
  },
  {
   "cell_type": "markdown",
   "metadata": {},
   "source": [
    "## Body feature "
   ]
  },
  {
   "cell_type": "code",
   "execution_count": 51,
   "metadata": {},
   "outputs": [
    {
     "data": {
      "text/plain": [
       "array(['<p>I want to use a <code>Track-Bar</code> to change a <code>Form</code>\\'s opacity.</p>\\n<p>This is my code:</p>\\n<pre class=\"lang-cs prettyprint-override\"><code>decimal trans = trackBar1.Value / 5000;\\nthis.Opacity = trans;\\n</code></pre>\\n<p>When I build the application, it gives the following error:</p>\\n<blockquote>\\n<p>Cannot implicitly convert type <code>decimal</code> to <code>double</code></p>\\n</blockquote>\\n<p>I have tried using <code>trans</code> and <code>double</code> but then the <code>Control</code> doesn\\'t work. This code worked fine in a past VB.NET project.</p>\\n',\n",
       "       \"<p>I have an absolutely positioned <code>div</code> containing several children, one of which is a relatively positioned <code>div</code>. When I use a <code>percentage-based width</code> on the child <code>div</code>, it collapses to <code>0 width</code> on IE7, but not on Firefox or Safari.</p>\\n\\n<p>If I use <code>pixel width</code>, it works. If the parent is relatively positioned, the percentage width on the child works.</p>\\n\\n<ol>\\n<li>Is there something I'm missing here?</li>\\n<li>Is there an easy fix for this besides the <code>pixel-based width</code> on the\\nchild?</li>\\n<li>Is there an area of the CSS specification that covers this?</li>\\n</ol>\\n\",\n",
       "       \"<p>Given a <code>DateTime</code> representing a person's birthday, how do I calculate their age in years?</p>\\n\",\n",
       "       '<p>Given a specific <code>DateTime</code> value, how do I display relative time, like:</p>\\n\\n<ul>\\n<li>2 hours ago</li>\\n<li>3 days ago</li>\\n<li>a month ago</li>\\n</ul>\\n'],\n",
       "      dtype=object)"
      ]
     },
     "execution_count": 51,
     "metadata": {},
     "output_type": "execute_result"
    }
   ],
   "source": [
    "df_main.loc[0:3, \"Body\"].values"
   ]
  },
  {
   "cell_type": "markdown",
   "metadata": {},
   "source": [
    "Gestion de la Majuscule et des points..."
   ]
  },
  {
   "cell_type": "code",
   "execution_count": 52,
   "metadata": {},
   "outputs": [],
   "source": [
    "df_main[\"Body\"] = df_main[\"Body\"].map(pre_tokenize)"
   ]
  },
  {
   "cell_type": "code",
   "execution_count": 53,
   "metadata": {},
   "outputs": [
    {
     "data": {
      "text/plain": [
       "array(['<p>i want to use a <code>track-bar</code> to change a <code>form</code>\\'s opacity </p> <p>this is my code:</p> <pre class=\"lang-cs prettyprint-override\"><code>decimal trans = trackbar1 value / 5000; this opacity = trans; </code></pre> <p>when i build the application, it gives the following error:</p> <blockquote> <p>cannot implicitly convert type <code>decimal</code> to <code>double</code></p> </blockquote> <p>i have tried using <code>trans</code> and <code>double</code> but then the <code>control</code> doesn\\'t work  this code worked fine in a past vb net project </p> ',\n",
       "       \"<p>i have an absolutely positioned <code>div</code> containing several children, one of which is a relatively positioned <code>div</code>  when i use a <code>percentage-based width</code> on the child <code>div</code>, it collapses to <code>0 width</code> on ie7, but not on firefox or safari </p>  <p>if i use <code>pixel width</code>, it works  if the parent is relatively positioned, the percentage width on the child works </p>  <ol> <li>is there something i'm missing here?</li> <li>is there an easy fix for this besides the <code>pixel-based width</code> on the child?</li> <li>is there an area of the css specification that covers this?</li> </ol> \",\n",
       "       \"<p>given a <code>datetime</code> representing a person's birthday, how do i calculate their age in years?</p> \",\n",
       "       '<p>given a specific <code>datetime</code> value, how do i display relative time, like:</p>  <ul> <li>2 hours ago</li> <li>3 days ago</li> <li>a month ago</li> </ul> '],\n",
       "      dtype=object)"
      ]
     },
     "execution_count": 53,
     "metadata": {},
     "output_type": "execute_result"
    }
   ],
   "source": [
    "df_main.loc[0:3, \"Body\"].values"
   ]
  },
  {
   "cell_type": "markdown",
   "metadata": {},
   "source": [
    "Nous utilisons BeautifulSoup pour supprimer les tags html."
   ]
  },
  {
   "cell_type": "code",
   "execution_count": 54,
   "metadata": {},
   "outputs": [],
   "source": [
    "def get_soup(text):\n",
    "    \"\"\" Retourne un texte , un soup sans tags html\"\"\"\n",
    "    \n",
    "    soup = BeautifulSoup(text, 'html.parser')\n",
    "    return soup"
   ]
  },
  {
   "cell_type": "code",
   "execution_count": 55,
   "metadata": {},
   "outputs": [],
   "source": [
    "df_main[\"Body_soup\"] = df_main[\"Body\"].map(lambda x: get_soup(x).get_text())"
   ]
  },
  {
   "cell_type": "code",
   "execution_count": 56,
   "metadata": {},
   "outputs": [
    {
     "data": {
      "text/plain": [
       "array([\"i want to use a track-bar to change a form's opacity  this is my code: decimal trans = trackbar1 value / 5000; this opacity = trans;  when i build the application, it gives the following error:  cannot implicitly convert type decimal to double  i have tried using trans and double but then the control doesn't work  this code worked fine in a past vb net project  \",\n",
       "       \"i have an absolutely positioned div containing several children, one of which is a relatively positioned div  when i use a percentage-based width on the child div, it collapses to 0 width on ie7, but not on firefox or safari  if i use pixel width, it works  if the parent is relatively positioned, the percentage width on the child works   is there something i'm missing here? is there an easy fix for this besides the pixel-based width on the child? is there an area of the css specification that covers this?  \",\n",
       "       \"given a datetime representing a person's birthday, how do i calculate their age in years? \",\n",
       "       'given a specific datetime value, how do i display relative time, like:  2 hours ago 3 days ago a month ago  '],\n",
       "      dtype=object)"
      ]
     },
     "execution_count": 56,
     "metadata": {},
     "output_type": "execute_result"
    }
   ],
   "source": [
    "df_main.loc[0:3, \"Body_soup\"].values"
   ]
  },
  {
   "cell_type": "code",
   "execution_count": 57,
   "metadata": {},
   "outputs": [],
   "source": [
    "df_main[\"Body_soup\"] = df_main[\"Body_soup\"].map(lemmatize_text)"
   ]
  },
  {
   "cell_type": "code",
   "execution_count": 58,
   "metadata": {},
   "outputs": [
    {
     "data": {
      "text/plain": [
       "array([\"i want to use a track-bar to change a form 's opacity this be my code : decimal trans = trackbar1 value / 5000 ; this opacity = trans ; when i build the application , it give the follow error : can not implicitly convert type decimal to double i have try use trans and double but then the control do n't work this code work fine in a past vb net project\",\n",
       "       \"i have an absolutely position div contain several children , one of which be a relatively position div when i use a percentage-based width on the child div , it collapse to 0 width on ie7 , but not on firefox or safari if i use pixel width , it work if the parent be relatively position , the percentage width on the child work be there something i 'm miss here ? be there an easy fix for this besides the pixel-based width on the child ? be there an area of the css specification that cover this ?\",\n",
       "       \"give a datetime represent a person 's birthday , how do i calculate their age in years ?\",\n",
       "       'give a specific datetime value , how do i display relative time , like : 2 hours ago 3 days ago a month ago'],\n",
       "      dtype=object)"
      ]
     },
     "execution_count": 58,
     "metadata": {},
     "output_type": "execute_result"
    }
   ],
   "source": [
    "df_main.loc[0:3, \"Body_soup\"].values"
   ]
  },
  {
   "cell_type": "code",
   "execution_count": 59,
   "metadata": {},
   "outputs": [],
   "source": [
    "df_main[\"Body_tokens\"] = df_main[\"Body_soup\"].map(word_tokenize)"
   ]
  },
  {
   "cell_type": "code",
   "execution_count": 60,
   "metadata": {},
   "outputs": [
    {
     "data": {
      "text/plain": [
       "array([list(['i', 'want', 'to', 'use', 'a', 'track-bar', 'to', 'change', 'a', 'form', \"'s\", 'opacity', 'this', 'be', 'my', 'code', ':', 'decimal', 'trans', '=', 'trackbar1', 'value', '/', '5000', ';', 'this', 'opacity', '=', 'trans', ';', 'when', 'i', 'build', 'the', 'application', ',', 'it', 'give', 'the', 'follow', 'error', ':', 'can', 'not', 'implicitly', 'convert', 'type', 'decimal', 'to', 'double', 'i', 'have', 'try', 'use', 'trans', 'and', 'double', 'but', 'then', 'the', 'control', 'do', \"n't\", 'work', 'this', 'code', 'work', 'fine', 'in', 'a', 'past', 'vb', 'net', 'project']),\n",
       "       list(['i', 'have', 'an', 'absolutely', 'position', 'div', 'contain', 'several', 'children', ',', 'one', 'of', 'which', 'be', 'a', 'relatively', 'position', 'div', 'when', 'i', 'use', 'a', 'percentage-based', 'width', 'on', 'the', 'child', 'div', ',', 'it', 'collapse', 'to', '0', 'width', 'on', 'ie7', ',', 'but', 'not', 'on', 'firefox', 'or', 'safari', 'if', 'i', 'use', 'pixel', 'width', ',', 'it', 'work', 'if', 'the', 'parent', 'be', 'relatively', 'position', ',', 'the', 'percentage', 'width', 'on', 'the', 'child', 'work', 'be', 'there', 'something', 'i', \"'m\", 'miss', 'here', '?', 'be', 'there', 'an', 'easy', 'fix', 'for', 'this', 'besides', 'the', 'pixel-based', 'width', 'on', 'the', 'child', '?', 'be', 'there', 'an', 'area', 'of', 'the', 'css', 'specification', 'that', 'cover', 'this', '?']),\n",
       "       list(['give', 'a', 'datetime', 'represent', 'a', 'person', \"'s\", 'birthday', ',', 'how', 'do', 'i', 'calculate', 'their', 'age', 'in', 'years', '?']),\n",
       "       list(['give', 'a', 'specific', 'datetime', 'value', ',', 'how', 'do', 'i', 'display', 'relative', 'time', ',', 'like', ':', '2', 'hours', 'ago', '3', 'days', 'ago', 'a', 'month', 'ago'])],\n",
       "      dtype=object)"
      ]
     },
     "execution_count": 60,
     "metadata": {},
     "output_type": "execute_result"
    }
   ],
   "source": [
    "df_main.loc[0:3, \"Body_tokens\"].values"
   ]
  },
  {
   "cell_type": "markdown",
   "metadata": {},
   "source": [
    "Étudions aussi les fréquences. "
   ]
  },
  {
   "cell_type": "code",
   "execution_count": 61,
   "metadata": {},
   "outputs": [],
   "source": [
    "np_text = df_main[\"Body_tokens\"].values.copy()\n",
    "full_body_text_splitted = []\n",
    "for i in range(len(np_text)):\n",
    "    full_body_text_splitted.extend(np_text[i])\n",
    "del np_text"
   ]
  },
  {
   "cell_type": "code",
   "execution_count": 62,
   "metadata": {},
   "outputs": [
    {
     "data": {
      "text/plain": [
       "['i',\n",
       " 'want',\n",
       " 'to',\n",
       " 'use',\n",
       " 'a',\n",
       " 'track-bar',\n",
       " 'to',\n",
       " 'change',\n",
       " 'a',\n",
       " 'form',\n",
       " \"'s\",\n",
       " 'opacity',\n",
       " 'this',\n",
       " 'be',\n",
       " 'my',\n",
       " 'code',\n",
       " ':',\n",
       " 'decimal',\n",
       " 'trans',\n",
       " '=']"
      ]
     },
     "execution_count": 62,
     "metadata": {},
     "output_type": "execute_result"
    }
   ],
   "source": [
    "full_body_text_splitted[0:20]"
   ]
  },
  {
   "cell_type": "code",
   "execution_count": 63,
   "metadata": {},
   "outputs": [
    {
     "data": {
      "text/plain": [
       "10394245"
      ]
     },
     "execution_count": 63,
     "metadata": {},
     "output_type": "execute_result"
    }
   ],
   "source": [
    "len(full_body_text_splitted)"
   ]
  },
  {
   "cell_type": "markdown",
   "metadata": {},
   "source": [
    "Analyse des uniques "
   ]
  },
  {
   "cell_type": "code",
   "execution_count": 64,
   "metadata": {},
   "outputs": [
    {
     "data": {
      "text/plain": [
       "the           379880\n",
       ",             309057\n",
       "i             289823\n",
       "be            283303\n",
       "to            268225\n",
       "               ...  \n",
       "d31-d24            1\n",
       "final/best         1\n",
       "'/lib              1\n",
       "=bn                1\n",
       "sao                1\n",
       "Name: words, Length: 222914, dtype: int64"
      ]
     },
     "execution_count": 64,
     "metadata": {},
     "output_type": "execute_result"
    }
   ],
   "source": [
    "df_count = pd.DataFrame({\"words\":full_body_text_splitted}).words.value_counts()\n",
    "df_count"
   ]
  },
  {
   "cell_type": "code",
   "execution_count": 65,
   "metadata": {},
   "outputs": [],
   "source": [
    "count = df_count.values\n",
    "unique = df_count.index"
   ]
  },
  {
   "cell_type": "markdown",
   "metadata": {},
   "source": [
    "Nombre de mots uniques. "
   ]
  },
  {
   "cell_type": "code",
   "execution_count": 66,
   "metadata": {},
   "outputs": [
    {
     "data": {
      "text/plain": [
       "222914"
      ]
     },
     "execution_count": 66,
     "metadata": {},
     "output_type": "execute_result"
    }
   ],
   "source": [
    "len(unique)"
   ]
  },
  {
   "cell_type": "code",
   "execution_count": 67,
   "metadata": {},
   "outputs": [
    {
     "data": {
      "text/plain": [
       "array(['the', ',', 'i', 'be', 'to', 'a', '``', ')', '(', ':', 'and', 'in',\n",
       "       'of', '?', ';', 'that', 'it', 'have', 'this', '>', 'do', '<',\n",
       "       'for', 'use', '=', 'on', 'with', 'but', 'my', 'if', 'not', '{',\n",
       "       'as', '}', 'can', 'an', 'or', \"'\", \"n't\", 'there', \"'m\", 'from',\n",
       "       'what', 'like', 'so', 'get', \"'s\", '[', 'file', ']', 'would',\n",
       "       'how', '--', 'you', 'any', 'work', 'when', 'code', 'way', 'some',\n",
       "       'which', 'want', 'at', '0', 'all', '$', 'need', '#', '1', 'new',\n",
       "       'class', 'try', 'one', 'string', 'data', 'will', 'know', 'we',\n",
       "       'by', 'just', 'application', '-', 'object', 'server', 'create',\n",
       "       \"'ve\", 'run', 'find', 'set', 'make', 'value', 'me', 'c', 'return',\n",
       "       '2', 'net', 'look', 'out', 'other', 'page', '\\\\mysite\\\\js\\\\common',\n",
       "       '/public/500', 'bendable',\n",
       "       'photoengraves|1|1|10002011000001210111010000', 'ypage',\n",
       "       'process_1=', 'mode_ecb', 'isprime1', \"'myassembly\", '0547262',\n",
       "       'cfi_amdstd_write_buffers+0x618/0x7ac', 'y*10^20', '0x00ffeedd',\n",
       "       'wustl', '9335283373377282333349287338349365335325', 'actor-based',\n",
       "       'gpib', 'systemparameterinsertupdate',\n",
       "       'requirepropertiestobecompletelyvirtualornot', 'dvb-t', 'arm926',\n",
       "       'in/phpinfo', 'script-', 'booktable', 'design/implement', 'while…',\n",
       "       'retrigger', 'intra-wiki', 'libcom_err', 'someprocedure', '10051',\n",
       "       '**is', 'slapdown', 'curl_easy_strerror', 'apparant', 'rdms',\n",
       "       'desribing', 'autolayout=', 'wordwraps', 'responseexception',\n",
       "       'rendertarget2d', '2000/cmc', 'validation_method', 'shashi',\n",
       "       'essentialyl', 'vew', '__instanceoperationevent',\n",
       "       'windowsformsintegration', 'post-new', 'dojo/method', 'amdfan',\n",
       "       'org/install/index', 'normal-sized', 'structurely', 'non-exlusive',\n",
       "       'rowscolssizeof', 'umtausch', 'useproxy=', 'function-pointers',\n",
       "       'mls', 'substage', 'metasingleton', 'linoleum1',\n",
       "       'addreadmemarkeraction', 'cppdefines', 'handlenavigation',\n",
       "       'provider=vfpoledb', 'non-key', 'iitinerary', 'eoac_none',\n",
       "       '0011100011001110', '/encoding', 'regres', 'downvote\\\\',\n",
       "       'ace/task', 'altrnative', 'codec=hl7codec', '\\\\/description\\\\',\n",
       "       'l_code', 'xpathtext', 'brush/brushes', 'gl_array_buffer',\n",
       "       'jscape', '¿how', 'thorn,255', 'datcontext',\n",
       "       'classfactoryexception', \"'/products/1\", 'master_log_file',\n",
       "       '36529c01', 'rendermembersgadget', 'is_oneliner',\n",
       "       'databaselayer/welcome/welcome', 'line/column', 'excecuting',\n",
       "       'd31-d24', 'final/best', \"'/lib\", '=bn', 'sao'], dtype=object)"
      ]
     },
     "execution_count": 67,
     "metadata": {},
     "output_type": "execute_result"
    }
   ],
   "source": [
    "np.concatenate((unique[0:100], unique[-100:]))"
   ]
  },
  {
   "cell_type": "code",
   "execution_count": 68,
   "metadata": {},
   "outputs": [
    {
     "data": {
      "image/png": "[encoded data removed]",
      "text/plain": [
       "<Figure size 864x288 with 1 Axes>"
      ]
     },
     "metadata": {},
     "output_type": "display_data"
    }
   ],
   "source": [
    "sns.set()\n",
    "plt.figure(figsize=(12,4))\n",
    "sns.distplot(df_count, kde=False)\n",
    "plt.title(\"Histogramme de frequence d'apparition des words uniques dans le text\")\n",
    "plt.xlabel(\"Mots\")\n",
    "plt.ylabel(\"Nombre d'apparitions\")\n",
    "plt.show()"
   ]
  },
  {
   "cell_type": "code",
   "execution_count": 69,
   "metadata": {},
   "outputs": [
    {
     "data": {
      "text/plain": [
       "array([379880, 309057, 289823, 283303, 268225, 221654, 210320, 210044,\n",
       "       207550, 136901, 131704, 119354, 115734, 105217, 101969, 100823,\n",
       "        99740,  91446,  90986,  89389,  88072,  80334,  77259,  69179,\n",
       "        61095,  54593,  52121,  52094,  45484,  45042,  44503,  43263,\n",
       "        43155,  42859,  42183,  42148,  38687,  37738,  36796,  36524,\n",
       "        35273,  35232,  34244,  34053,  32523,  32245,  32167,  31235,\n",
       "        31160,  31125,  30856,  30729,  29567,  28724,  27676,  27307,\n",
       "        26420,  25854,  25053,  24610,  23877,  22944,  22272,  22208,\n",
       "        22202,  22105,  21644,  21503,  21227,  20898,  20678,  20510,\n",
       "        20328,  18505,  18337,  18223,  17987,  17630,  17455,  17007,\n",
       "        16776,  16691,  16602,  16388,  16370,  16259,  16201,  15854,\n",
       "        15776,  15156,  15103,  15069,  14821,  14781,  14730,  14684,\n",
       "        14469,  14461,  14268,  14147,  14110,  14105,  14073,  14034,\n",
       "        13824,  13820,  13638,  13546,  13321,  13295,  13261,  13052,\n",
       "        12896,  12850,  12741,  12551,  12535,  12463,  12459,  12238,\n",
       "        12163,  12066,  11702,  11587,  11555,  11546,  11460,  11322,\n",
       "        11223,  11046,  11040,  11015,  10988,  10808,  10799,  10769,\n",
       "        10754,  10464,  10442,  10399,  10386,  10311,  10282,  10234,\n",
       "        10219,  10145,  10080,   9942,   9851,   9786,   9687,   9587,\n",
       "         9570,   9406,   9404,   9261,   9244,   8800,   8718,   8712,\n",
       "         8653,   8583,   8353,   8295,   8295,   8278,   8216,   8214,\n",
       "         8085,   8048,   8039,   8005,   7841,   7781,   7727,   7720,\n",
       "         7658,   7554,   7548,   7548,   7544,   7483,   7316,   7312,\n",
       "         7268,   7208,   7147,   7119,   7048,   7046,   7034,   7011,\n",
       "         6996,   6973,   6953,   6929,   6923,   6835,   6798,   6669,\n",
       "         6641,   6559,   6514,   6498,   6418,   6395,   6387,   6381,\n",
       "         6370,   6351,   6314,   6276,   6248,   6234,   6194,   6124,\n",
       "         6104,   6094,   6086,   6082,   6069,   6008,   5968,   5885,\n",
       "         5879,   5870,   5829,   5816,   5814,   5811,   5785,   5747,\n",
       "         5711,   5704,   5604,   5583,   5527,   5503,   5492,   5438,\n",
       "         5433,   5421,   5396,   5366,   5314,   5298,   5298,   5236,\n",
       "         5211,   5202,   5158,   5137,   5064,   5029,   5027,   4997,\n",
       "         4992,   4989,   4963,   4952,   4940,   4907,   4881,   4871,\n",
       "         4818,   4814,   4805,   4798,   4784,   4778,   4742,   4734,\n",
       "         4699,   4678,   4658,   4650,   4624,   4622,   4614,   4555,\n",
       "         4540,   4515,   4514,   4508,   4492,   4484,   4478,   4466,\n",
       "         4459,   4453,   4432,   4432,   4416,   4407,   4401,   4388,\n",
       "         4358,   4355,   4342,   4328,   4306,   4289,   4270,   4256,\n",
       "         4255,   4241,   4234,   4218,   4182,   4170,   4148,   4126,\n",
       "         4076,   4057,   4052,   4041,   3988,   3985,   3978,   3978,\n",
       "         3957,   3939,   3934,   3895,   3890,   3879,   3875,   3868,\n",
       "         3864,   3858,   3839,   3838,   3827,   3815,   3796,   3795,\n",
       "         3786,   3769,   3699,   3688,   3684,   3650,   3632,   3625,\n",
       "         3624,   3617,   3596,   3593,   3588,   3576,   3572,   3570,\n",
       "         3560,   3541,   3534,   3530,   3529,   3519,   3490,   3487,\n",
       "         3477,   3474,   3446,   3429,   3423,   3393,   3389,   3379,\n",
       "         3350,   3344,   3322,   3318,   3309,   3309,   3308,   3298,\n",
       "         3294,   3288,   3283,   3274,   3268,   3266,   3266,   3244,\n",
       "         3243,   3239,   3231,   3229,   3218,   3206,   3206,   3205,\n",
       "         3204,   3203,   3180,   3163,   3159,   3158,   3158,   3155,\n",
       "         3151,   3141,   3117,   3111,   3109,   3108,   3101,   3092,\n",
       "         3080,   3072,   3066,   3058,   3047,   3018,   3017,   2993,\n",
       "         2989,   2961,   2958,   2956,   2952,   2943,   2942,   2940,\n",
       "         2910,   2906,   2893,   2884,   2883,   2882,   2867,   2836,\n",
       "         2832,   2827,   2812,   2805,   2794,   2788,   2781,   2745,\n",
       "         2741,   2728,   2727,   2719,   2715,   2713,   2708,   2704,\n",
       "         2684,   2672,   2669,   2668,   2661,   2659,   2648,   2647,\n",
       "         2643,   2637,   2632,   2605,   2593,   2590,   2585,   2584,\n",
       "         2577,   2571,   2553,   2533,   2532,   2506,   2495,   2488,\n",
       "         2486,   2483,   2470,   2465,   2465,   2458,   2455,   2444,\n",
       "         2441,   2427,   2415,   2413,   2393,   2387,   2384,   2366,\n",
       "         2358,   2354,   2343,   2339,   2335,   2335,   2325,   2319,\n",
       "         2317,   2304,   2295,   2287,   2287,   2284,   2279,   2278,\n",
       "         2270,   2253,   2249,   2247,   2245,   2241,   2240,   2238,\n",
       "         2227,   2203,   2201,   2195,   2191,   2191,   2182,   2181,\n",
       "         2168,   2166,   2160,   2158,   2132,   2128,   2125,   2117,\n",
       "         2116,   2109,   2106,   2104,   2089,   2086,   2080,   2070,\n",
       "         2069,   2068,   2068,   2057,   2038,   2035,   2032,   2031,\n",
       "         2027,   2026,   2025,   2022,   2021,   2021,   2019,   2015,\n",
       "         2000,   1996,   1994,   1989,   1984,   1965,   1960,   1958,\n",
       "         1958,   1957,   1949,   1948,   1946,   1944,   1944,   1940,\n",
       "         1931,   1929,   1925,   1924,   1921,   1921,   1918,   1912,\n",
       "         1911,   1910,   1907,   1907,   1904,   1903,   1898,   1894,\n",
       "         1893,   1891,   1891,   1890,   1889,   1884,   1883,   1882,\n",
       "         1865,   1865,   1865,   1850,   1848,   1837,   1836,   1831,\n",
       "         1827,   1822,   1820,   1809,   1806,   1805,   1805,   1804,\n",
       "         1804,   1801,   1800,   1791,   1789,   1785,   1781,   1769,\n",
       "         1768,   1766,   1764,   1757,   1756,   1756,   1748,   1746,\n",
       "         1746,   1745,   1742,   1741,   1738,   1736,   1728,   1727,\n",
       "         1716,   1714,   1711,   1707,   1704,   1703,   1699,   1699,\n",
       "         1697,   1696,   1694,   1688,   1687,   1678,   1674,   1673,\n",
       "         1669,   1669,   1668,   1659,   1658,   1654,   1653,   1652,\n",
       "         1643,   1638,   1637,   1633,   1623,   1620,   1609,   1609,\n",
       "         1604,   1598,   1598,   1597,   1596,   1591,   1590,   1589,\n",
       "         1583,   1583,   1580,   1580,   1576,   1563,   1560,   1559,\n",
       "         1556,   1555,   1553,   1551,   1546,   1540,   1539,   1535,\n",
       "         1531,   1530,   1530,   1519,   1519,   1516,   1516,   1516,\n",
       "         1514,   1513,   1512,   1512,   1510,   1503,   1500,   1492,\n",
       "         1492,   1489,   1488,   1487,   1483,   1482,   1482,   1470,\n",
       "         1464,   1461,   1459,   1458,   1456,   1454,   1454,   1452,\n",
       "         1451,   1448,   1446,   1446,   1441,   1438,   1438,   1436,\n",
       "         1435,   1435,   1434,   1434,   1429,   1428,   1425,   1423,\n",
       "         1422,   1422,   1421,   1419,   1418,   1418,   1417,   1414,\n",
       "         1413,   1412,   1410,   1404,   1403,   1399,   1398,   1391,\n",
       "         1390,   1385,   1378,   1376,   1374,   1373,   1373,   1372,\n",
       "         1372,   1369,   1369,   1368,   1368,   1367,   1366,   1363,\n",
       "         1362,   1361,   1359,   1359,   1355,   1354,   1354,   1354,\n",
       "         1354,   1352,   1351,   1348,   1348,   1341,   1339,   1338,\n",
       "         1337,   1335,   1334,   1334,   1330,   1330,   1330,   1326,\n",
       "         1324,   1323,   1322,   1321,   1319,   1315,   1314,   1311,\n",
       "         1309,   1307,   1306,   1298,   1297,   1294,   1292,   1287,\n",
       "         1286,   1282,   1280,   1278,   1278,   1275,   1274,   1273,\n",
       "         1268,   1258,   1256,   1253,   1250,   1247,   1246,   1245,\n",
       "         1244,   1238,   1237,   1234,   1234,   1226,   1223,   1223,\n",
       "         1223,   1220,   1212,   1212,   1210,   1210,   1208,   1197,\n",
       "         1195,   1195,   1193,   1188,   1188,   1187,   1183,   1181,\n",
       "         1180,   1179,   1178,   1176,   1176,   1173,   1166,   1159,\n",
       "         1154,   1154,   1153,   1148,   1146,   1144,   1143,   1141,\n",
       "         1136,   1136,   1126,   1125,   1122,   1121,   1115,   1110,\n",
       "         1108,   1105,   1103,   1102,   1102,   1101,   1095,   1095,\n",
       "         1094,   1092,   1092,   1092,   1090,   1085,   1083,   1083,\n",
       "         1081,   1080,   1074,   1071,   1070,   1069,   1067,   1064,\n",
       "         1057,   1055,   1051,   1050,   1047,   1043,   1043,   1043,\n",
       "         1042,   1042,   1041,   1040,   1039,   1035,   1032,   1030,\n",
       "         1028,   1027,   1025,   1025,   1023,   1020,   1019,   1019,\n",
       "         1019,   1017,   1013,   1013,   1012,   1012,   1011,   1008,\n",
       "         1007,   1007,   1006,   1006,   1006,   1004,   1003,   1002,\n",
       "         1002])"
      ]
     },
     "execution_count": 69,
     "metadata": {},
     "output_type": "execute_result"
    }
   ],
   "source": [
    "count[np.where(count > 1000)]"
   ]
  },
  {
   "cell_type": "code",
   "execution_count": 70,
   "metadata": {},
   "outputs": [
    {
     "data": {
      "text/plain": [
       "937"
      ]
     },
     "execution_count": 70,
     "metadata": {},
     "output_type": "execute_result"
    }
   ],
   "source": [
    "len(np.where(count > 1000)[0])"
   ]
  },
  {
   "cell_type": "code",
   "execution_count": 71,
   "metadata": {},
   "outputs": [
    {
     "data": {
      "text/plain": [
       "379880"
      ]
     },
     "execution_count": 71,
     "metadata": {},
     "output_type": "execute_result"
    }
   ],
   "source": [
    "max(count)"
   ]
  },
  {
   "cell_type": "code",
   "execution_count": 72,
   "metadata": {},
   "outputs": [
    {
     "data": {
      "text/plain": [
       "'the'"
      ]
     },
     "execution_count": 72,
     "metadata": {},
     "output_type": "execute_result"
    }
   ],
   "source": [
    "unique[np.argmax(count)]"
   ]
  },
  {
   "cell_type": "code",
   "execution_count": 73,
   "metadata": {},
   "outputs": [
    {
     "data": {
      "image/png": "[encoded data removed]",
      "text/plain": [
       "<Figure size 864x288 with 1 Axes>"
      ]
     },
     "metadata": {},
     "output_type": "display_data"
    }
   ],
   "source": [
    "sns.set()\n",
    "plt.figure(figsize=(12,4))\n",
    "sns.distplot(count[np.where(count < 200)], kde=False)\n",
    "plt.title(\"Histogramme de frequence des mots uniques apparaissant au moins 200 fois dans le texte\")\n",
    "plt.xlabel(\"Mots\")\n",
    "plt.ylabel(\"Nombre d'apparitions\")\n",
    "plt.show()"
   ]
  },
  {
   "cell_type": "code",
   "execution_count": 74,
   "metadata": {},
   "outputs": [
    {
     "data": {
      "text/plain": [
       "124818"
      ]
     },
     "execution_count": 74,
     "metadata": {},
     "output_type": "execute_result"
    }
   ],
   "source": [
    "len(np.where(count == 1)[0])"
   ]
  },
  {
   "cell_type": "code",
   "execution_count": 75,
   "metadata": {},
   "outputs": [
    {
     "data": {
      "text/plain": [
       "Index(['-l/users/adriangrigore/wxwidgets-manual/wxmac-2', 'month-',\n",
       "       'sum_simplevalues_calculated', 'jar/library', 'net-3', 'bgworkers',\n",
       "       'already-open', '=temp', 'sumpricetraditional', 'table2navcontroller',\n",
       "       ...\n",
       "       'rendermembersgadget', 'is_oneliner', 'databaselayer/welcome/welcome',\n",
       "       'line/column', 'excecuting', 'd31-d24', 'final/best', ''/lib', '=bn',\n",
       "       'sao'],\n",
       "      dtype='object', length=124818)"
      ]
     },
     "execution_count": 75,
     "metadata": {},
     "output_type": "execute_result"
    }
   ],
   "source": [
    "body_words_to_del = unique[np.where(count == 1)]\n",
    "body_words_to_del"
   ]
  },
  {
   "cell_type": "code",
   "execution_count": 76,
   "metadata": {},
   "outputs": [],
   "source": [
    "del full_body_text_splitted\n",
    "del count\n",
    "del unique\n",
    "del df_count"
   ]
  },
  {
   "cell_type": "code",
   "execution_count": null,
   "metadata": {},
   "outputs": [],
   "source": []
  },
  {
   "cell_type": "markdown",
   "metadata": {},
   "source": [
    "## Nettoyage et normalisation des données"
   ]
  },
  {
   "cell_type": "markdown",
   "metadata": {},
   "source": [
    "### \"Traning set\" et \"testing set\""
   ]
  },
  {
   "cell_type": "code",
   "execution_count": 77,
   "metadata": {},
   "outputs": [],
   "source": [
    "xtrain, xtest = train_test_split(df_main, random_state=0)\n",
    "\n",
    "df_test = df_main.loc[xtest.index]\n",
    "df_test = df_test.reset_index()\n",
    "df_test = df_test.drop(\"index\", axis=1)\n",
    "\n",
    "df_train = df_main.loc[xtrain.index]\n",
    "df_train = df_train.reset_index()\n",
    "df_train = df_train.drop(\"index\", axis=1)"
   ]
  },
  {
   "cell_type": "markdown",
   "metadata": {},
   "source": [
    "Nous allons essayer différentes méthodes de nettoyage pour obtenir un \"bag of words\".\n",
    "\n",
    "- \"Classic bag of words\"(suppression des points, /n, html, minuscules, lematize):\n",
    "    1.Aucune suppression des mots.\n",
    "    2.Suppression des mots utilisés une seule fois.\n",
    "    3.À partie des mots utilisés une seule fois, suppression de ceux qui ne sont pas dans le dictionnaire (trop bizarres comme mots).\n",
    "    4.À partir des mots utilisés une seule fois, suppression des caractères spéciaux (*, +, -, ', #, nombres ... )\n",
    "    \n",
    "- \"bag of words\" avec suppression des \"stopwords\"(avec suppression des points, /n, html, minuscules, lematize), plus:\n",
    "    1.Aucune suppression de mots\n",
    "    2.Suppression des mots utilisés une seule fois\n",
    "    3.À partir des mots utilisés une seule fois, suppression de ceux qui ne sont pas dans le dictionnaire (les mots bizarres)\n",
    "    4.À partir des mots utilisés une seule fois, suppression des caractères spéciaux (*, +, -, ', #, nombres ...)\n",
    "    \n",
    "- \"bag of words\" TF-IDF(avec suppression des points, /n, html, minuscules, lematize), plus:\n",
    "    1.Ne supprimez aucun mot\n",
    "    2.Suppression des mots utilisés une seule fois\n",
    "    3.À partir des mots utilisés une seule fois, suppression de ceux qui ne sont pas dans le dictionnaire (trop étranges)\n",
    "    4.À partir des mots utilisés une seule fois, suppression des caractères spéciaux (*, +, -, ', #, nombres ... attachés aux mots)"
   ]
  },
  {
   "cell_type": "markdown",
   "metadata": {},
   "source": [
    "### Classic Bag of word"
   ]
  },
  {
   "cell_type": "markdown",
   "metadata": {},
   "source": [
    "#### 1. Aucune suppression de mots"
   ]
  },
  {
   "cell_type": "markdown",
   "metadata": {},
   "source": [
    "Avec la focntion copy() nous ferrons du cleaning facilement"
   ]
  },
  {
   "cell_type": "code",
   "execution_count": 154,
   "metadata": {},
   "outputs": [],
   "source": [
    "# Prendre le corpus dans les array.\n",
    "text_train = df_train[\"Body_soup\"].values.copy()\n",
    "text_test = df_test[\"Body_soup\"].values.copy()"
   ]
  },
  {
   "cell_type": "code",
   "execution_count": 155,
   "metadata": {},
   "outputs": [],
   "source": [
    "debug = False"
   ]
  },
  {
   "cell_type": "code",
   "execution_count": 156,
   "metadata": {},
   "outputs": [],
   "source": [
    "if debug:\n",
    "    text_train = text_train[0:160]\n",
    "    text_test = text_test[0:40]"
   ]
  },
  {
   "cell_type": "code",
   "execution_count": 157,
   "metadata": {},
   "outputs": [],
   "source": [
    "# Création du transformeur\n",
    "vectorizer = CountVectorizer(dtype=np.uint8)\n",
    "# Tokenize build vocab\n",
    "vectorizer.fit(text_train)\n",
    "# Encodage du document\n",
    "vector = vectorizer.transform(text_train)"
   ]
  },
  {
   "cell_type": "code",
   "execution_count": 158,
   "metadata": {},
   "outputs": [
    {
     "data": {
      "text/plain": [
       "{'would': 126000,\n",
       " 'like': 68471,\n",
       " 'to': 115885,\n",
       " 'know': 66595,\n",
       " 'how': 57484,\n",
       " 'much': 76091,\n",
       " 'disk': 38995,\n",
       " 'space': 106697,\n",
       " 'directory': 38760,\n",
       " 'be': 21118}"
      ]
     },
     "execution_count": 158,
     "metadata": {},
     "output_type": "execute_result"
    }
   ],
   "source": [
    "dict(list(vectorizer.vocabulary_.items())[0:10])"
   ]
  },
  {
   "cell_type": "markdown",
   "metadata": {},
   "source": [
    "Vérification de la mémoire du \"bag of words\""
   ]
  },
  {
   "cell_type": "code",
   "execution_count": 159,
   "metadata": {},
   "outputs": [
    {
     "name": "stdout",
     "output_type": "stream",
     "text": [
      "Le 'bag of words' devrait avoir une taille de (55456 * 128782) en int8.\n",
      "La taille totale en mémoire sera de 57 Go.\n"
     ]
    }
   ],
   "source": [
    "nrows = len(text_train)\n",
    "ncols = len(list(vectorizer.vocabulary_.items()))\n",
    "print(\"Le 'bag of words' devrait avoir une taille de ({} * {}) en int8.\".format(nrows, ncols))\n",
    "print(\"La taille totale en mémoire sera de {} Go.\".format(round(nrows * ncols * 8 / 1000000000)))"
   ]
  },
  {
   "cell_type": "markdown",
   "metadata": {},
   "source": [
    "Nous allons reduire notre échantillons à 15.000 pour notre traitement."
   ]
  },
  {
   "cell_type": "code",
   "execution_count": 160,
   "metadata": {},
   "outputs": [
    {
     "name": "stdout",
     "output_type": "stream",
     "text": [
      "Le tarining 'bag of words' devrait avoir une taille de12001 * 44410 in int8\n",
      "Ça taille totale en mémoire sera de 0.53Go\n"
     ]
    }
   ],
   "source": [
    "# Prendre le corpus dans les array.\n",
    "text_train = df_train.loc[0:int(15000 * 0.8), \"Body_soup\"].values.copy()\n",
    "text_test = df_test.loc[0:int(15000 * 0.2), \"Body_soup\"].values.copy()\n",
    "if debug:\n",
    "    text_train = text_train[0:160]\n",
    "    text_test = text_test[0:40]\n",
    "    \n",
    "# Création du transformeur\n",
    "vectorizer = CountVectorizer(dtype=np.uint8)\n",
    "# Tokenize build vocab\n",
    "vectorizer.fit(text_train)\n",
    "# Encodage du document\n",
    "vector = vectorizer.transform(text_train)\n",
    "\n",
    "nrows = len(text_train)\n",
    "ncols = len(list(vectorizer.vocabulary_.items()))\n",
    "print(\"Le tarining 'bag of words' devrait avoir une taille de{} * {} in int8\".format(nrows, ncols))\n",
    "print(\"Ça taille totale en mémoire sera de {}Go\".format(round(nrows * ncols * 1 / 1000000000, 2)))"
   ]
  },
  {
   "cell_type": "markdown",
   "metadata": {},
   "source": [
    "Créons un \"bag of words\" dans lequel le nombre de lignes est égale au nombre de post, et le nombre de colonnes est égale au nombre total de mots uniques. La cellule sera le nombre d'occurrences de chaque mot."
   ]
  },
  {
   "cell_type": "code",
   "execution_count": 161,
   "metadata": {},
   "outputs": [],
   "source": [
    "reverse_dict = {}\n",
    "for word, number in vectorizer.vocabulary_.items():\n",
    "    reverse_dict[number] = word\n",
    "    \n",
    "bag_train = pd.DataFrame()\n",
    "bag_train = bag_train.append(pd.DataFrame(vector.toarray()))\n",
    "bag_train = bag_train.rename(columns=reverse_dict)"
   ]
  },
  {
   "cell_type": "markdown",
   "metadata": {},
   "source": [
    "Pour la création du \"bag of words\" nous n'utiliserons que le \"training set\". Ceci dit, nous utilisons la méthode de la transformation vectorielle avec \"testing set\" et le vecteur fité sur le \"training set\". les mots présents dans le \"testing set\" serons supprimons. "
   ]
  },
  {
   "cell_type": "code",
   "execution_count": 162,
   "metadata": {},
   "outputs": [],
   "source": [
    "# Encode document\n",
    "vector_test = vectorizer.transform(text_test)\n",
    "# Création du \"bag of words\"\n",
    "bag_test = pd.DataFrame()\n",
    "bag_test = bag_test.append(pd.DataFrame(vector_test.toarray()))\n",
    "bag_test = bag_test.rename(columns=reverse_dict)"
   ]
  },
  {
   "cell_type": "code",
   "execution_count": 165,
   "metadata": {},
   "outputs": [
    {
     "data": {
      "text/html": [
       "<div>\n",
       "<style scoped>\n",
       "    .dataframe tbody tr th:only-of-type {\n",
       "        vertical-align: middle;\n",
       "    }\n",
       "\n",
       "    .dataframe tbody tr th {\n",
       "        vertical-align: top;\n",
       "    }\n",
       "\n",
       "    .dataframe thead th {\n",
       "        text-align: right;\n",
       "    }\n",
       "</style>\n",
       "<table border=\"1\" class=\"dataframe\">\n",
       "  <thead>\n",
       "    <tr style=\"text-align: right;\">\n",
       "      <th></th>\n",
       "      <th>00</th>\n",
       "      <th>000</th>\n",
       "      <th>0000</th>\n",
       "      <th>00000</th>\n",
       "      <th>000000</th>\n",
       "      <th>00000000</th>\n",
       "      <th>0000000000000000000000000</th>\n",
       "      <th>000000000000000e</th>\n",
       "      <th>000000000000054390</th>\n",
       "      <th>000000000000484240fa063de5d0b744adbed63a81faea390000c8428640a43d5005bd44</th>\n",
       "      <th>...</th>\n",
       "      <th>計算機</th>\n",
       "      <th>高性能のマックは早い</th>\n",
       "      <th>ａｄｉはｃｐｔへ売却打診中とのこと</th>\n",
       "      <th>ﾀﾀ</th>\n",
       "      <th>ﾁﾒ</th>\n",
       "      <th>ﾔﾻ</th>\n",
       "      <th>ﾙﾺ</th>\n",
       "      <th>ﾝﾉ</th>\n",
       "      <th>ﾨﾈ</th>\n",
       "      <th>ﾱﾱ</th>\n",
       "    </tr>\n",
       "  </thead>\n",
       "  <tbody>\n",
       "    <tr>\n",
       "      <th>0</th>\n",
       "      <td>0</td>\n",
       "      <td>0</td>\n",
       "      <td>0</td>\n",
       "      <td>0</td>\n",
       "      <td>0</td>\n",
       "      <td>0</td>\n",
       "      <td>0</td>\n",
       "      <td>0</td>\n",
       "      <td>0</td>\n",
       "      <td>0</td>\n",
       "      <td>...</td>\n",
       "      <td>0</td>\n",
       "      <td>0</td>\n",
       "      <td>0</td>\n",
       "      <td>0</td>\n",
       "      <td>0</td>\n",
       "      <td>0</td>\n",
       "      <td>0</td>\n",
       "      <td>0</td>\n",
       "      <td>0</td>\n",
       "      <td>0</td>\n",
       "    </tr>\n",
       "    <tr>\n",
       "      <th>1</th>\n",
       "      <td>0</td>\n",
       "      <td>0</td>\n",
       "      <td>0</td>\n",
       "      <td>0</td>\n",
       "      <td>0</td>\n",
       "      <td>0</td>\n",
       "      <td>0</td>\n",
       "      <td>0</td>\n",
       "      <td>0</td>\n",
       "      <td>0</td>\n",
       "      <td>...</td>\n",
       "      <td>0</td>\n",
       "      <td>0</td>\n",
       "      <td>0</td>\n",
       "      <td>0</td>\n",
       "      <td>0</td>\n",
       "      <td>0</td>\n",
       "      <td>0</td>\n",
       "      <td>0</td>\n",
       "      <td>0</td>\n",
       "      <td>0</td>\n",
       "    </tr>\n",
       "    <tr>\n",
       "      <th>2</th>\n",
       "      <td>0</td>\n",
       "      <td>0</td>\n",
       "      <td>0</td>\n",
       "      <td>0</td>\n",
       "      <td>0</td>\n",
       "      <td>0</td>\n",
       "      <td>0</td>\n",
       "      <td>0</td>\n",
       "      <td>0</td>\n",
       "      <td>0</td>\n",
       "      <td>...</td>\n",
       "      <td>0</td>\n",
       "      <td>0</td>\n",
       "      <td>0</td>\n",
       "      <td>0</td>\n",
       "      <td>0</td>\n",
       "      <td>0</td>\n",
       "      <td>0</td>\n",
       "      <td>0</td>\n",
       "      <td>0</td>\n",
       "      <td>0</td>\n",
       "    </tr>\n",
       "    <tr>\n",
       "      <th>3</th>\n",
       "      <td>0</td>\n",
       "      <td>0</td>\n",
       "      <td>0</td>\n",
       "      <td>0</td>\n",
       "      <td>0</td>\n",
       "      <td>0</td>\n",
       "      <td>0</td>\n",
       "      <td>0</td>\n",
       "      <td>0</td>\n",
       "      <td>0</td>\n",
       "      <td>...</td>\n",
       "      <td>0</td>\n",
       "      <td>0</td>\n",
       "      <td>0</td>\n",
       "      <td>0</td>\n",
       "      <td>0</td>\n",
       "      <td>0</td>\n",
       "      <td>0</td>\n",
       "      <td>0</td>\n",
       "      <td>0</td>\n",
       "      <td>0</td>\n",
       "    </tr>\n",
       "    <tr>\n",
       "      <th>4</th>\n",
       "      <td>0</td>\n",
       "      <td>0</td>\n",
       "      <td>0</td>\n",
       "      <td>0</td>\n",
       "      <td>0</td>\n",
       "      <td>0</td>\n",
       "      <td>0</td>\n",
       "      <td>0</td>\n",
       "      <td>0</td>\n",
       "      <td>0</td>\n",
       "      <td>...</td>\n",
       "      <td>0</td>\n",
       "      <td>0</td>\n",
       "      <td>0</td>\n",
       "      <td>0</td>\n",
       "      <td>0</td>\n",
       "      <td>0</td>\n",
       "      <td>0</td>\n",
       "      <td>0</td>\n",
       "      <td>0</td>\n",
       "      <td>0</td>\n",
       "    </tr>\n",
       "    <tr>\n",
       "      <th>5</th>\n",
       "      <td>0</td>\n",
       "      <td>0</td>\n",
       "      <td>0</td>\n",
       "      <td>0</td>\n",
       "      <td>0</td>\n",
       "      <td>0</td>\n",
       "      <td>0</td>\n",
       "      <td>0</td>\n",
       "      <td>0</td>\n",
       "      <td>0</td>\n",
       "      <td>...</td>\n",
       "      <td>0</td>\n",
       "      <td>0</td>\n",
       "      <td>0</td>\n",
       "      <td>0</td>\n",
       "      <td>0</td>\n",
       "      <td>0</td>\n",
       "      <td>0</td>\n",
       "      <td>0</td>\n",
       "      <td>0</td>\n",
       "      <td>0</td>\n",
       "    </tr>\n",
       "  </tbody>\n",
       "</table>\n",
       "<p>6 rows × 44410 columns</p>\n",
       "</div>"
      ],
      "text/plain": [
       "   00  000  0000  00000  000000  00000000  0000000000000000000000000  \\\n",
       "0   0    0     0      0       0         0                          0   \n",
       "1   0    0     0      0       0         0                          0   \n",
       "2   0    0     0      0       0         0                          0   \n",
       "3   0    0     0      0       0         0                          0   \n",
       "4   0    0     0      0       0         0                          0   \n",
       "5   0    0     0      0       0         0                          0   \n",
       "\n",
       "   000000000000000e  000000000000054390  \\\n",
       "0                 0                   0   \n",
       "1                 0                   0   \n",
       "2                 0                   0   \n",
       "3                 0                   0   \n",
       "4                 0                   0   \n",
       "5                 0                   0   \n",
       "\n",
       "   000000000000484240fa063de5d0b744adbed63a81faea390000c8428640a43d5005bd44  \\\n",
       "0                                                  0                          \n",
       "1                                                  0                          \n",
       "2                                                  0                          \n",
       "3                                                  0                          \n",
       "4                                                  0                          \n",
       "5                                                  0                          \n",
       "\n",
       "   ...  計算機  高性能のマックは早い  ａｄｉはｃｐｔへ売却打診中とのこと  ﾀﾀ  ﾁﾒ  ﾔﾻ  ﾙﾺ  ﾝﾉ  ﾨﾈ  ﾱﾱ  \n",
       "0  ...    0           0                  0   0   0   0   0   0   0   0  \n",
       "1  ...    0           0                  0   0   0   0   0   0   0   0  \n",
       "2  ...    0           0                  0   0   0   0   0   0   0   0  \n",
       "3  ...    0           0                  0   0   0   0   0   0   0   0  \n",
       "4  ...    0           0                  0   0   0   0   0   0   0   0  \n",
       "5  ...    0           0                  0   0   0   0   0   0   0   0  \n",
       "\n",
       "[6 rows x 44410 columns]"
      ]
     },
     "execution_count": 165,
     "metadata": {},
     "output_type": "execute_result"
    }
   ],
   "source": [
    "bag_train.loc[0:5]"
   ]
  },
  {
   "cell_type": "code",
   "execution_count": 140,
   "metadata": {},
   "outputs": [
    {
     "data": {
      "text/html": [
       "<div>\n",
       "<style scoped>\n",
       "    .dataframe tbody tr th:only-of-type {\n",
       "        vertical-align: middle;\n",
       "    }\n",
       "\n",
       "    .dataframe tbody tr th {\n",
       "        vertical-align: top;\n",
       "    }\n",
       "\n",
       "    .dataframe thead th {\n",
       "        text-align: right;\n",
       "    }\n",
       "</style>\n",
       "<table border=\"1\" class=\"dataframe\">\n",
       "  <thead>\n",
       "    <tr style=\"text-align: right;\">\n",
       "      <th></th>\n",
       "      <th>00</th>\n",
       "      <th>000</th>\n",
       "      <th>0000</th>\n",
       "      <th>00000</th>\n",
       "      <th>000000</th>\n",
       "      <th>0000000</th>\n",
       "      <th>00000000</th>\n",
       "      <th>000000000</th>\n",
       "      <th>0000000000</th>\n",
       "      <th>000000000000</th>\n",
       "      <th>...</th>\n",
       "      <th>鷠3</th>\n",
       "      <th>오후</th>\n",
       "      <th>ａｄｉはｃｐｔへ売却打診中とのこと</th>\n",
       "      <th>ﾀﾀ</th>\n",
       "      <th>ﾁﾒ</th>\n",
       "      <th>ﾔﾻ</th>\n",
       "      <th>ﾙﾺ</th>\n",
       "      <th>ﾝﾉ</th>\n",
       "      <th>ﾨﾈ</th>\n",
       "      <th>ﾱﾱ</th>\n",
       "    </tr>\n",
       "  </thead>\n",
       "  <tbody>\n",
       "    <tr>\n",
       "      <th>0</th>\n",
       "      <td>0</td>\n",
       "      <td>0</td>\n",
       "      <td>0</td>\n",
       "      <td>0</td>\n",
       "      <td>0</td>\n",
       "      <td>0</td>\n",
       "      <td>0</td>\n",
       "      <td>0</td>\n",
       "      <td>0</td>\n",
       "      <td>0</td>\n",
       "      <td>...</td>\n",
       "      <td>0</td>\n",
       "      <td>0</td>\n",
       "      <td>0</td>\n",
       "      <td>0</td>\n",
       "      <td>0</td>\n",
       "      <td>0</td>\n",
       "      <td>0</td>\n",
       "      <td>0</td>\n",
       "      <td>0</td>\n",
       "      <td>0</td>\n",
       "    </tr>\n",
       "    <tr>\n",
       "      <th>1</th>\n",
       "      <td>0</td>\n",
       "      <td>0</td>\n",
       "      <td>0</td>\n",
       "      <td>0</td>\n",
       "      <td>0</td>\n",
       "      <td>0</td>\n",
       "      <td>0</td>\n",
       "      <td>0</td>\n",
       "      <td>0</td>\n",
       "      <td>0</td>\n",
       "      <td>...</td>\n",
       "      <td>0</td>\n",
       "      <td>0</td>\n",
       "      <td>0</td>\n",
       "      <td>0</td>\n",
       "      <td>0</td>\n",
       "      <td>0</td>\n",
       "      <td>0</td>\n",
       "      <td>0</td>\n",
       "      <td>0</td>\n",
       "      <td>0</td>\n",
       "    </tr>\n",
       "    <tr>\n",
       "      <th>2</th>\n",
       "      <td>0</td>\n",
       "      <td>0</td>\n",
       "      <td>0</td>\n",
       "      <td>0</td>\n",
       "      <td>0</td>\n",
       "      <td>0</td>\n",
       "      <td>0</td>\n",
       "      <td>0</td>\n",
       "      <td>0</td>\n",
       "      <td>0</td>\n",
       "      <td>...</td>\n",
       "      <td>0</td>\n",
       "      <td>0</td>\n",
       "      <td>0</td>\n",
       "      <td>0</td>\n",
       "      <td>0</td>\n",
       "      <td>0</td>\n",
       "      <td>0</td>\n",
       "      <td>0</td>\n",
       "      <td>0</td>\n",
       "      <td>0</td>\n",
       "    </tr>\n",
       "    <tr>\n",
       "      <th>3</th>\n",
       "      <td>0</td>\n",
       "      <td>0</td>\n",
       "      <td>0</td>\n",
       "      <td>0</td>\n",
       "      <td>0</td>\n",
       "      <td>0</td>\n",
       "      <td>0</td>\n",
       "      <td>0</td>\n",
       "      <td>0</td>\n",
       "      <td>0</td>\n",
       "      <td>...</td>\n",
       "      <td>0</td>\n",
       "      <td>0</td>\n",
       "      <td>0</td>\n",
       "      <td>0</td>\n",
       "      <td>0</td>\n",
       "      <td>0</td>\n",
       "      <td>0</td>\n",
       "      <td>0</td>\n",
       "      <td>0</td>\n",
       "      <td>0</td>\n",
       "    </tr>\n",
       "    <tr>\n",
       "      <th>4</th>\n",
       "      <td>0</td>\n",
       "      <td>0</td>\n",
       "      <td>0</td>\n",
       "      <td>0</td>\n",
       "      <td>0</td>\n",
       "      <td>0</td>\n",
       "      <td>0</td>\n",
       "      <td>0</td>\n",
       "      <td>0</td>\n",
       "      <td>0</td>\n",
       "      <td>...</td>\n",
       "      <td>0</td>\n",
       "      <td>0</td>\n",
       "      <td>0</td>\n",
       "      <td>0</td>\n",
       "      <td>0</td>\n",
       "      <td>0</td>\n",
       "      <td>0</td>\n",
       "      <td>0</td>\n",
       "      <td>0</td>\n",
       "      <td>0</td>\n",
       "    </tr>\n",
       "    <tr>\n",
       "      <th>5</th>\n",
       "      <td>0</td>\n",
       "      <td>0</td>\n",
       "      <td>0</td>\n",
       "      <td>0</td>\n",
       "      <td>0</td>\n",
       "      <td>0</td>\n",
       "      <td>0</td>\n",
       "      <td>0</td>\n",
       "      <td>0</td>\n",
       "      <td>0</td>\n",
       "      <td>...</td>\n",
       "      <td>0</td>\n",
       "      <td>0</td>\n",
       "      <td>0</td>\n",
       "      <td>0</td>\n",
       "      <td>0</td>\n",
       "      <td>0</td>\n",
       "      <td>0</td>\n",
       "      <td>0</td>\n",
       "      <td>0</td>\n",
       "      <td>0</td>\n",
       "    </tr>\n",
       "  </tbody>\n",
       "</table>\n",
       "<p>6 rows × 128782 columns</p>\n",
       "</div>"
      ],
      "text/plain": [
       "   00  000  0000  00000  000000  0000000  00000000  000000000  0000000000  \\\n",
       "0   0    0     0      0       0        0         0          0           0   \n",
       "1   0    0     0      0       0        0         0          0           0   \n",
       "2   0    0     0      0       0        0         0          0           0   \n",
       "3   0    0     0      0       0        0         0          0           0   \n",
       "4   0    0     0      0       0        0         0          0           0   \n",
       "5   0    0     0      0       0        0         0          0           0   \n",
       "\n",
       "   000000000000  ...  鷠3  오후  ａｄｉはｃｐｔへ売却打診中とのこと  ﾀﾀ  ﾁﾒ  ﾔﾻ  ﾙﾺ  ﾝﾉ  ﾨﾈ  ﾱﾱ  \n",
       "0             0  ...   0   0                  0   0   0   0   0   0   0   0  \n",
       "1             0  ...   0   0                  0   0   0   0   0   0   0   0  \n",
       "2             0  ...   0   0                  0   0   0   0   0   0   0   0  \n",
       "3             0  ...   0   0                  0   0   0   0   0   0   0   0  \n",
       "4             0  ...   0   0                  0   0   0   0   0   0   0   0  \n",
       "5             0  ...   0   0                  0   0   0   0   0   0   0   0  \n",
       "\n",
       "[6 rows x 128782 columns]"
      ]
     },
     "execution_count": 140,
     "metadata": {},
     "output_type": "execute_result"
    }
   ],
   "source": [
    "bag_test.loc[0:5]"
   ]
  },
  {
   "cell_type": "code",
   "execution_count": 166,
   "metadata": {},
   "outputs": [
    {
     "name": "stdout",
     "output_type": "stream",
     "text": [
      "Le 'bag of words' entier a un nombre total de 44410 mots\n"
     ]
    }
   ],
   "source": [
    "print(\"Le 'bag of words' entier a un nombre total de {} mots\".format(bag_train.shape[1]))"
   ]
  },
  {
   "cell_type": "markdown",
   "metadata": {},
   "source": [
    "Sauvegarde du \"bag of words\""
   ]
  },
  {
   "cell_type": "code",
   "execution_count": 167,
   "metadata": {},
   "outputs": [],
   "source": [
    "bag_train[\"Id\"] = df_train[\"Id\"]\n",
    "bag_train[\"Tags\"] = df_train[\"Tags\"]\n",
    "bag_train[\"Train\"] = 1\n",
    "\n",
    "bag_test[\"Id\"] = df_test[\"Id\"]\n",
    "bag_test[\"Tags\"] = df_test[\"Tags\"]\n",
    "bag_test[\"Train\"] = 0\n",
    "\n",
    "bag_train = bag_train.append(bag_test)"
   ]
  },
  {
   "cell_type": "code",
   "execution_count": 168,
   "metadata": {},
   "outputs": [
    {
     "name": "stdout",
     "output_type": "stream",
     "text": [
      "La taille en mémoire du 'bag of words' totale est de 0.67 Go\n"
     ]
    }
   ],
   "source": [
    "print(\"La taille en mémoire du 'bag of words' totale est de {} Go\"\n",
    "      .format(round(bag_train.memory_usage(index=False).sum() / 1000000000, 2)))"
   ]
  },
  {
   "cell_type": "code",
   "execution_count": 169,
   "metadata": {},
   "outputs": [
    {
     "name": "stderr",
     "output_type": "stream",
     "text": [
      "/Users/boleynkenkem/opt/anaconda3/lib/python3.7/site-packages/pandas/core/generic.py:2449: PerformanceWarning: \n",
      "your performance may suffer as PyTables will pickle object types that it cannot\n",
      "map directly to c-types [inferred_type->mixed-integer,key->block1_values] [items->Index(['Id', 'Tags'], dtype='object')]\n",
      "\n",
      "  encoding=encoding,\n"
     ]
    }
   ],
   "source": [
    "bag_train.to_hdf(\"output/classic_bag1.h5\", index='False', key='stage', mode='w')"
   ]
  },
  {
   "cell_type": "code",
   "execution_count": 170,
   "metadata": {},
   "outputs": [],
   "source": [
    "del bag_train\n",
    "del bag_test\n",
    "del vector\n",
    "del vectorizer\n",
    "del reverse_dict"
   ]
  },
  {
   "cell_type": "markdown",
   "metadata": {},
   "source": [
    "#### 2. Suppression des mots utilisés une seule fois."
   ]
  },
  {
   "cell_type": "code",
   "execution_count": null,
   "metadata": {},
   "outputs": [],
   "source": [
    "Duplication des 'feature'"
   ]
  },
  {
   "cell_type": "code",
   "execution_count": 171,
   "metadata": {},
   "outputs": [],
   "source": [
    "def get_train_test(nb_rows=0):\n",
    "    \"\"\" Prend en entrée les valeurs test et train en fonction des\n",
    "    valeurs de debug \"\"\"\n",
    "    \n",
    "    if nb_rows == 0:\n",
    "        text_train = df_train[\"Body_soup\"].values.copy()\n",
    "        text_test = df_test[\"Body_soup\"].values.copy()\n",
    "    else:\n",
    "        text_train = df_train.loc[0:int(nb_rows * 0.8), \"Body_soup\"].values.copy()\n",
    "        text_test = df_test.loc[0:int(nb_rows * 0.2), \"Body_soup\"].values.copy()        \n",
    "    \n",
    "    if debug:\n",
    "        text_train = text_train[0:16]\n",
    "        text_test = text_test[0:4]\n",
    "    \n",
    "    return text_train, text_test"
   ]
  },
  {
   "cell_type": "code",
   "execution_count": 172,
   "metadata": {},
   "outputs": [],
   "source": [
    "text_train, text_test = get_train_test(nb_rows = 15000)"
   ]
  },
  {
   "cell_type": "markdown",
   "metadata": {},
   "source": [
    "Cleaning feature"
   ]
  },
  {
   "cell_type": "code",
   "execution_count": 173,
   "metadata": {},
   "outputs": [],
   "source": [
    "def remove_unique_text(text, pd_words_to_del):\n",
    "    \"\"\" À partir d'un texte et une liste de mots à supprimer, \n",
    "    retourne un texte cleaned sans ces mots. \"\"\"\n",
    "    \n",
    "    tokens = word_tokenize(text)\n",
    "    pd_tokens = pd.DataFrame({\"words\":tokens})\n",
    "    pd_tokens = pd_tokens.loc[~pd_tokens[\"words\"].isin(pd_words_to_del[\"words\"].values)]\n",
    "    \n",
    "    return ' '.join(pd_tokens[\"words\"].values)"
   ]
  },
  {
   "cell_type": "code",
   "execution_count": 174,
   "metadata": {},
   "outputs": [],
   "source": [
    "def remove_unique_series(texts, pd_words_to_del, function, cores=1):\n",
    "    \"\"\" \n",
    "    À partir d'une serie de textes et de mots à supprimer, retourne une serie sans \n",
    "    ces mots. \n",
    "    \"\"\"\n",
    "    \n",
    "    if cores == 1:\n",
    "        new_texts = []\n",
    "        for i, text in enumerate(texts):\n",
    "            new_text = remove_unique_text(text, pd_words_to_del)\n",
    "            new_texts.append(new_text)\n",
    "    \n",
    "    else:\n",
    "        inputs = tqdm(texts)\n",
    "        new_texts = Parallel(n_jobs=cores)(delayed(function)(body, pd_words_to_del) for body in inputs)\n",
    "    \n",
    "    return new_texts"
   ]
  },
  {
   "cell_type": "code",
   "execution_count": 175,
   "metadata": {},
   "outputs": [],
   "source": [
    "pd_body_words_to_del = pd.DataFrame({\"words\":body_words_to_del})"
   ]
  },
  {
   "cell_type": "code",
   "execution_count": 176,
   "metadata": {},
   "outputs": [],
   "source": [
    "text_train = remove_unique_series(text_train, pd_body_words_to_del, remove_unique_text, 1)\n",
    "text_test = remove_unique_series(text_test, pd_body_words_to_del, remove_unique_text, 1)"
   ]
  },
  {
   "cell_type": "markdown",
   "metadata": {},
   "source": [
    "Construction du \"bag of words\""
   ]
  },
  {
   "cell_type": "code",
   "execution_count": 177,
   "metadata": {},
   "outputs": [],
   "source": [
    "def create_bag(text_train, text_test):\n",
    "    \"\"\" Prend deux series de textes, train et test, et retourne\n",
    "    un 'bag of words'\n",
    "    \"\"\"\n",
    "    \n",
    "    # Créate du transformeur\n",
    "    vectorizer = CountVectorizer(dtype=np.uint8)\n",
    "    # Tokenize, build vocab\n",
    "    vectorizer.fit(text_train)\n",
    "    # Encodage document\n",
    "    vector = vectorizer.transform(text_train)\n",
    "    \n",
    "    reverse_dict = {}\n",
    "    for word, number in vectorizer.vocabulary_.items():\n",
    "        reverse_dict[number] = word\n",
    "\n",
    "    bag_train = pd.DataFrame()\n",
    "    bag_train = bag_train.append(pd.DataFrame(vector.toarray()))\n",
    "    bag_train = bag_train.rename(columns=reverse_dict)\n",
    "    \n",
    "    # Encodage test document\n",
    "    vector_test = vectorizer.transform(text_test)\n",
    "    # Création du 'bag of words'\n",
    "    bag_test = pd.DataFrame()\n",
    "    bag_test = bag_test.append(pd.DataFrame(vector_test.toarray()))\n",
    "    bag_test = bag_test.rename(columns=reverse_dict)\n",
    "    \n",
    "    return bag_train, bag_test"
   ]
  },
  {
   "cell_type": "code",
   "execution_count": 178,
   "metadata": {},
   "outputs": [],
   "source": [
    "bag_train, bag_test = create_bag(text_train, text_test)"
   ]
  },
  {
   "cell_type": "code",
   "execution_count": 179,
   "metadata": {},
   "outputs": [
    {
     "name": "stdout",
     "output_type": "stream",
     "text": [
      "La taille totale en mémoire du 'train bag' est 0.37 Go\n",
      "La taille totale en mémoire du 'test bag' est 0.09 Go\n"
     ]
    }
   ],
   "source": [
    "print(\"La taille totale en mémoire du 'train bag' est {} Go\"\n",
    "      .format(round(bag_train.memory_usage(index=False).sum() / 1000000000, 2)))\n",
    "print(\"La taille totale en mémoire du 'test bag' est {} Go\"\n",
    "      .format(round(bag_test.memory_usage(index=False).sum() / 1000000000, 2)))"
   ]
  },
  {
   "cell_type": "code",
   "execution_count": 180,
   "metadata": {},
   "outputs": [],
   "source": [
    "def save_bags(bag_train, bag_test, method, number):\n",
    "    \"\"\" Sauvegarde des bags avec les noms suivants 'output/<method>_bag<number>.csv' \"\"\"\n",
    "    \n",
    "    bag_train[\"Id\"] = df_train[\"Id\"]\n",
    "    bag_train[\"Tags\"] = df_train[\"Tags\"]\n",
    "    bag_train[\"Train\"] = 1\n",
    "\n",
    "    bag_test[\"Id\"] = df_test[\"Id\"]\n",
    "    bag_test[\"Tags\"] = df_test[\"Tags\"]\n",
    "    bag_test[\"Train\"] = 0\n",
    "\n",
    "    bag_train = bag_train.append(bag_test)\n",
    "    print(\"Le 'bag' entier a un nombre total de {} mots\".format(bag_train.shape[1]))\n",
    "    bag_train.to_hdf(\"output/\" + method + \"_bag\" + number + \".h5\", index='False', key='stage', mode='w')"
   ]
  },
  {
   "cell_type": "code",
   "execution_count": 181,
   "metadata": {},
   "outputs": [
    {
     "name": "stdout",
     "output_type": "stream",
     "text": [
      "Le 'bag' entier a un nombre total de 30579 mots\n"
     ]
    }
   ],
   "source": [
    "save_bags(bag_train, bag_test, \"classic\", \"2\")\n",
    "del bag_train\n",
    "del bag_test"
   ]
  },
  {
   "cell_type": "markdown",
   "metadata": {},
   "source": [
    "#### 3. À partie des mots utilisés une seule fois, suppression de ceux qui ne sont pas dans le dictionnaire."
   ]
  },
  {
   "cell_type": "markdown",
   "metadata": {},
   "source": [
    "Duplication des 'features'"
   ]
  },
  {
   "cell_type": "code",
   "execution_count": 229,
   "metadata": {},
   "outputs": [],
   "source": [
    "text_train, text_test = get_train_test(nb_rows = 15000)"
   ]
  },
  {
   "cell_type": "markdown",
   "metadata": {},
   "source": [
    "Nettoyage des 'features'"
   ]
  },
  {
   "cell_type": "code",
   "execution_count": 230,
   "metadata": {},
   "outputs": [
    {
     "data": {
      "text/plain": [
       "\"i would like to know how much disk space a directory be go to consume before i bring it over from the perforce server i do n't see any way to do this other than get the file and look at the size of the directory in a file manager this , of course , defeat the purpose be there a way to get file size info from perforce without actually get the file ?\""
      ]
     },
     "execution_count": 230,
     "metadata": {},
     "output_type": "execute_result"
    }
   ],
   "source": [
    "text_train[0]"
   ]
  },
  {
   "cell_type": "markdown",
   "metadata": {},
   "source": [
    "Suppression des mots étranges, mots présents dans le dictionnaire, de notre fichier.  "
   ]
  },
  {
   "cell_type": "code",
   "execution_count": 231,
   "metadata": {},
   "outputs": [],
   "source": [
    "pd_words_to_del2 = pd.DataFrame({\"words\":body_words_to_del})\n",
    "pd_words_to_del2 = pd_words_to_del2.loc[~pd_words_to_del2[\"words\"].isin(words.words()).values]"
   ]
  },
  {
   "cell_type": "code",
   "execution_count": 232,
   "metadata": {},
   "outputs": [
    {
     "name": "stdout",
     "output_type": "stream",
     "text": [
      "Taille de l'ancien fichier supprimé: 124818\n",
      "Taille du nouveau fichier supprimé: 121678\n"
     ]
    }
   ],
   "source": [
    "print(\"Taille de l'ancien fichier supprimé: {}\".format(len(pd_body_words_to_del)))\n",
    "print(\"Taille du nouveau fichier supprimé: {}\".format(len(pd_words_to_del2)))"
   ]
  },
  {
   "cell_type": "code",
   "execution_count": 233,
   "metadata": {},
   "outputs": [
    {
     "data": {
      "text/plain": [
       "\"my asp net applications work fine everyday until last month , my web start to get 2-3 time of problem with sqlsession state server as follow : blockquote system web httpexception exception of type 'system web httpexception ' be throw at system web httpasyncresult end ( ) at system web sessionstate sessionstatemodule endacquirestate ( iasyncresult ar ) at system web httpapplication asynceventexecutionstep onasynceventcompletion ( iasyncresult ar ) ================================================== exception : system web httpexception unable to connect to sql server session database at system web sessionstate sqlsessionstatestore throwsqlconnectionexception ( sqlconnection conn , exception e ) at system web sessionstate sqlsessionstatestore sqlstateconnection ctor ( sqlpartitioninfo sqlpartitioninfo ) at system web sessionstate sqlsessionstatestore getconnection ( string id , boolean & usepooling ) at system web sessionstate sqlsessionstatestore doget ( httpcontext context , string id , boolean getexclusive , boolean & lock , timespan & lockage , object & lockid , sessionstateactions & actionflags ) at system web sessionstate sqlsessionstatestore getitemexclusive ( httpcontext context , string id , boolean & lock , timespan & lockage , object & lockid , sessionstateactions & actionflags ) at system web sessionstate sessionstatemodule getsessionstateitem ( ) at system web sessionstate sessionstatemodule polllockedsessioncallback ( object state ) ================================================== exception : system invalidoperationexception timeout expire the timeout period elapse prior to obtain a connection from the pool this may have occur because all pool connections be in use and max pool size be reach at system data providerbase dbconnectionfactory getconnection ( dbconnection owningconnection ) at system data providerbase dbconnectionclosed openconnection ( dbconnection outerconnection , dbconnectionfactory connectionfactory ) at system data sqlclient sqlconnection open ( ) at system web sessionstate sqlsessionstatestore sqlstateconnection ctor ( sqlpartitioninfo sqlpartitioninfo ) then i start to look into my session db server and do `` exec sp_who '' in my sql client that find a lot of record of aspstate operation in result i do n't know what cause this kind of problem because we do change no serious things in out application , just a few bug fix here be the detail of my web applications 's environments : asp net 3 5 ( convert from 1 1 ) work very well in 2 servers farm with sqlmode of session state do anyone kwow about this problem or get any idea for investigation ? thank\""
      ]
     },
     "execution_count": 233,
     "metadata": {},
     "output_type": "execute_result"
    }
   ],
   "source": [
    "text_train[1]"
   ]
  },
  {
   "cell_type": "code",
   "execution_count": 234,
   "metadata": {},
   "outputs": [],
   "source": [
    "text_train = remove_unique_series(text_train, pd_words_to_del2, remove_unique_text, 1)\n",
    "text_test = remove_unique_series(text_test, pd_words_to_del2, remove_unique_text, 1)"
   ]
  },
  {
   "cell_type": "code",
   "execution_count": 235,
   "metadata": {},
   "outputs": [
    {
     "data": {
      "text/plain": [
       "\"i would like to know how much disk space a directory be go to consume before i bring it over from the perforce server i do n't see any way to do this other than get the file and look at the size of the directory in a file manager this , of course , defeat the purpose be there a way to get file size info from perforce without actually get the file ?\""
      ]
     },
     "execution_count": 235,
     "metadata": {},
     "output_type": "execute_result"
    }
   ],
   "source": [
    "text_train[0]"
   ]
  },
  {
   "cell_type": "markdown",
   "metadata": {},
   "source": [
    "Sauvegarde des 'bags of words'"
   ]
  },
  {
   "cell_type": "code",
   "execution_count": 236,
   "metadata": {},
   "outputs": [],
   "source": [
    "bag_train, bag_test = create_bag(text_train, text_test)"
   ]
  },
  {
   "cell_type": "markdown",
   "metadata": {},
   "source": [
    "Sauvegarde des 'bags'"
   ]
  },
  {
   "cell_type": "code",
   "execution_count": 237,
   "metadata": {},
   "outputs": [
    {
     "name": "stdout",
     "output_type": "stream",
     "text": [
      "Le 'bag' entier a un nombre total de 31076 mots\n"
     ]
    }
   ],
   "source": [
    "save_bags(bag_train, bag_test, \"classic\", \"3\")\n",
    "del bag_train\n",
    "del bag_test"
   ]
  },
  {
   "cell_type": "markdown",
   "metadata": {},
   "source": [
    "#### 4. À partir des mots utilisés une seule fois, suppression des caractères spéciaux."
   ]
  },
  {
   "cell_type": "markdown",
   "metadata": {},
   "source": [
    "Duplication des 'features'"
   ]
  },
  {
   "cell_type": "code",
   "execution_count": 238,
   "metadata": {},
   "outputs": [],
   "source": [
    "text_train, text_test = get_train_test(nb_rows = 15000)"
   ]
  },
  {
   "cell_type": "markdown",
   "metadata": {},
   "source": [
    "Nettoyage des 'features' "
   ]
  },
  {
   "cell_type": "code",
   "execution_count": 239,
   "metadata": {},
   "outputs": [],
   "source": [
    "def remove_unique_without_spe_text(text, words_to_del):\n",
    "    \"\"\" À partir d'un texte et des mots à supprimés, \n",
    "        retourne un sans carcatères spéciaux. \"\"\"\n",
    "    \n",
    "\n",
    "    # Suppression des ponctuations\n",
    "    expr = [\"?\", \",\", \".\", \"'\", \";\", \":\", \"!\", \n",
    "            \"(\", \")\", \"{\", \"}\", \"[\", \"]\",\n",
    "            \"|\", \"_\", \"`\", \"'\", \"#\", \"&\", \"$\",\n",
    "            \"+\", \"-\", \"*\", \"/\", \"=\", \"<\", \">\",\n",
    "            \"0\", \"1\", \"2\", \"3\", \"4\", \"5\", \"6\", \"7\", \"8\", \"9\"]\n",
    "    for char in expr:\n",
    "        text = text.replace(char, ' ') \n",
    "    \n",
    "    return text"
   ]
  },
  {
   "cell_type": "code",
   "execution_count": 247,
   "metadata": {},
   "outputs": [
    {
     "data": {
      "text/plain": [
       "\"i would like to know how much disk space a directory be go to consume before i bring it over from the perforce server i do n't see any way to do this other than get the file and look at the size of the directory in a file manager this , of course , defeat the purpose be there a way to get file size info from perforce without actually get the file ?\""
      ]
     },
     "execution_count": 247,
     "metadata": {},
     "output_type": "execute_result"
    }
   ],
   "source": [
    "text_train[0]"
   ]
  },
  {
   "cell_type": "code",
   "execution_count": 242,
   "metadata": {},
   "outputs": [],
   "source": [
    "text_train = remove_unique_series(text_train, np.nan, remove_unique_without_spe_text, 1)\n",
    "text_test = remove_unique_series(text_test, np.nan, remove_unique_without_spe_text, 1)"
   ]
  },
  {
   "cell_type": "code",
   "execution_count": 246,
   "metadata": {},
   "outputs": [
    {
     "data": {
      "text/plain": [
       "\"i would like to know how much disk space a directory be go to consume before i bring it over from the perforce server i do n't see any way to do this other than get the file and look at the size of the directory in a file manager this , of course , defeat the purpose be there a way to get file size info from perforce without actually get the file ?\""
      ]
     },
     "execution_count": 246,
     "metadata": {},
     "output_type": "execute_result"
    }
   ],
   "source": [
    "text_train[0]"
   ]
  },
  {
   "cell_type": "markdown",
   "metadata": {},
   "source": [
    "Création des 'bags'"
   ]
  },
  {
   "cell_type": "code",
   "execution_count": 248,
   "metadata": {},
   "outputs": [],
   "source": [
    "bag_train, bag_test = create_bag(text_train, text_test)"
   ]
  },
  {
   "cell_type": "markdown",
   "metadata": {},
   "source": [
    "Sauvegarde des 'bags'"
   ]
  },
  {
   "cell_type": "code",
   "execution_count": 249,
   "metadata": {},
   "outputs": [
    {
     "name": "stdout",
     "output_type": "stream",
     "text": [
      "Le 'bag' entier a un nombre total de 44413 mots\n"
     ]
    }
   ],
   "source": [
    "save_bags(bag_train, bag_test, \"classic\", \"4\")\n",
    "del bag_train\n",
    "del bag_test"
   ]
  },
  {
   "cell_type": "markdown",
   "metadata": {},
   "source": [
    "### 'Bag of words' Suppression des 'stopwords' - Frequence"
   ]
  },
  {
   "cell_type": "code",
   "execution_count": 250,
   "metadata": {},
   "outputs": [],
   "source": [
    "def remove_stopwords(df_bag):\n",
    "    \"\"\" À partir du 'bag of words' suppression des \n",
    "          'stopwords' \"\"\"\n",
    "    \n",
    "    # Suppression des colonnes sans mots\n",
    "    cols = np.array(df_bag.columns)\n",
    "    cols = np.delete(cols, np.where(~np.isin(cols, [\"Id\", \"Tags\", 'Train'], invert=True)))\n",
    "    \n",
    "    # Suppression des colonnes qui sont les 'stopwords'\n",
    "    col_to_del = []\n",
    "    for col in cols:\n",
    "        if col in stopwords.words():\n",
    "            col_to_del.append(col)\n",
    "            \n",
    "    df_bag.drop(col_to_del, axis=1, inplace=True)\n",
    "    \n",
    "    return df_bag"
   ]
  },
  {
   "cell_type": "markdown",
   "metadata": {},
   "source": [
    "#### 1. Aucune suppression de mots"
   ]
  },
  {
   "cell_type": "markdown",
   "metadata": {},
   "source": [
    "Changement du 'bag of words'"
   ]
  },
  {
   "cell_type": "code",
   "execution_count": 251,
   "metadata": {},
   "outputs": [],
   "source": [
    "df_bag = pd.read_hdf(\"output/classic_bag1.h5\", index='False', key='stage', mode='r')"
   ]
  },
  {
   "cell_type": "markdown",
   "metadata": {},
   "source": [
    "Suppression des colonnes de mots communs"
   ]
  },
  {
   "cell_type": "code",
   "execution_count": 252,
   "metadata": {},
   "outputs": [
    {
     "name": "stdout",
     "output_type": "stream",
     "text": [
      "Le 'bag' entier avait un nombre de 44413 mots\n",
      "Le 'bag' entier a maintenant un nombre total de 44026 mots\n"
     ]
    }
   ],
   "source": [
    "print(\"Le 'bag' entier avait un nombre de {} mots\".format(df_bag.shape[1]))\n",
    "df_bag = remove_stopwords(df_bag)\n",
    "print(\"Le 'bag' entier a maintenant un nombre total de {} mots\".format(df_bag.shape[1]))"
   ]
  },
  {
   "cell_type": "markdown",
   "metadata": {},
   "source": [
    "Sauvegarde du 'bag'"
   ]
  },
  {
   "cell_type": "code",
   "execution_count": null,
   "metadata": {},
   "outputs": [],
   "source": [
    "df_bag.to_hdf(\"output/stopwords_bag\" + \"1\" + \".h5\", index='False', key='stage', mode='w')"
   ]
  },
  {
   "cell_type": "markdown",
   "metadata": {},
   "source": [
    "#### 2. Suppression des mots utilisés une seule fois."
   ]
  },
  {
   "cell_type": "code",
   "execution_count": 253,
   "metadata": {},
   "outputs": [
    {
     "name": "stdout",
     "output_type": "stream",
     "text": [
      "Le 'bag' entier avait un nombre de 30579 mots\n",
      "Le 'bag' entier a maintenant un nombre total de 30223 mots\n"
     ]
    },
    {
     "name": "stderr",
     "output_type": "stream",
     "text": [
      "/Users/boleynkenkem/opt/anaconda3/lib/python3.7/site-packages/pandas/io/pytables.py:270: PerformanceWarning: \n",
      "your performance may suffer as PyTables will pickle object types that it cannot\n",
      "map directly to c-types [inferred_type->mixed,key->axis0] [items->None]\n",
      "\n",
      "  f(store)\n",
      "/Users/boleynkenkem/opt/anaconda3/lib/python3.7/site-packages/pandas/io/pytables.py:270: PerformanceWarning: \n",
      "your performance may suffer as PyTables will pickle object types that it cannot\n",
      "map directly to c-types [inferred_type->mixed,key->block0_items] [items->None]\n",
      "\n",
      "  f(store)\n"
     ]
    }
   ],
   "source": [
    "df_bag = pd.read_hdf(\"output/classic_bag\" + \"2\" + \".h5\", index='False', key='stage', mode='r')\n",
    "print(\"Le 'bag' entier avait un nombre de {} mots\".format(df_bag.shape[1]))\n",
    "df_bag = remove_stopwords(df_bag)\n",
    "print(\"Le 'bag' entier a maintenant un nombre total de {} mots\".format(df_bag.shape[1]))\n",
    "df_bag.to_hdf(\"output/stopwords_bag\" + \"2\" + \".hd5\", index='False', key='stage', mode='w')"
   ]
  },
  {
   "cell_type": "markdown",
   "metadata": {},
   "source": [
    "#### 3. À partie des mots utilisés une seule fois, suppression de ceux qui ne sont pas dans le dictionnaire."
   ]
  },
  {
   "cell_type": "code",
   "execution_count": 254,
   "metadata": {},
   "outputs": [
    {
     "name": "stdout",
     "output_type": "stream",
     "text": [
      "Le 'bag' entier avait un nombre de 31076 mots\n",
      "Le 'bag' entier a maintenant un nombre total de 30717 mots\n"
     ]
    }
   ],
   "source": [
    "df_bag = pd.read_hdf(\"output/classic_bag\" + \"3\" + \".h5\", index='False', key='stage', mode='r')\n",
    "print(\"Le 'bag' entier avait un nombre de {} mots\".format(df_bag.shape[1]))\n",
    "df_bag = remove_stopwords(df_bag)\n",
    "print(\"Le 'bag' entier a maintenant un nombre total de {} mots\".format(df_bag.shape[1]))\n",
    "df_bag.to_hdf(\"output/stopwords_bag\" + \"3\" + \".h5\", index='False', key='stage', mode='w')"
   ]
  },
  {
   "cell_type": "markdown",
   "metadata": {},
   "source": [
    "#### 4. À partir des mots utilisés une seule fois, suppression des caractères spéciaux."
   ]
  },
  {
   "cell_type": "code",
   "execution_count": 255,
   "metadata": {},
   "outputs": [
    {
     "name": "stdout",
     "output_type": "stream",
     "text": [
      "Le 'bag' entier avait un nombre de 44413 mots\n",
      "Le 'bag' entier a maintenant un nombre total de 44026 mots\n"
     ]
    }
   ],
   "source": [
    "df_bag = pd.read_hdf(\"output/classic_bag\" + \"4\" + \".h5\", index='False', key='stage', mode='r')\n",
    "print(\"Le 'bag' entier avait un nombre de {} mots\".format(df_bag.shape[1]))\n",
    "df_bag = remove_stopwords(df_bag)\n",
    "print(\"Le 'bag' entier a maintenant un nombre total de {} mots\".format(df_bag.shape[1]))\n",
    "df_bag.to_hdf(\"output/stopwords_bag\" + \"4\" + \".h5\", index='False', key='stage', mode='w')"
   ]
  },
  {
   "cell_type": "markdown",
   "metadata": {},
   "source": [
    "### 'Bag of words' avec  TF-IDF"
   ]
  },
  {
   "cell_type": "markdown",
   "metadata": {},
   "source": [
    "Pour la deuxième méthode, nous utiliserons la méthode  le terme 'tf-idf'(frequency–inverse document frequency). Au lieu de supprimer les mots courants, on calculera la fréquence d'apparition des mots dans l'ensemble dans nos tableaux de descriptions. Les mots qui se resemblent souvent auront moins de poids. En Outre, la combinaison de mots habituellement communs dans une expression nominale par exemple serons allégés. Comme ça, quelques mots communs dans deux descriptions ne compteront pas comme deux mots similaires, mais plus vraisemblables."
   ]
  },
  {
   "cell_type": "markdown",
   "metadata": {},
   "source": [
    "#### 1. Aucune suppression de mots"
   ]
  },
  {
   "cell_type": "code",
   "execution_count": 256,
   "metadata": {},
   "outputs": [
    {
     "name": "stdout",
     "output_type": "stream",
     "text": [
      "Le bag entier a un nombre total de 44413 mots\n"
     ]
    }
   ],
   "source": [
    "df_bag = pd.read_hdf(\"output/classic_bag\" + \"1\" + \".h5\", index='False', key='stage', mode='r')\n",
    "print(\"Le bag entier a un nombre total de {} mots\".format(df_bag.shape[1]))\n",
    "\n",
    "# Séparation des 'bags'\n",
    "df_bag_train = df_bag.loc[df_bag[\"Train\"] == 1]\n",
    "df_bag_test = df_bag.loc[df_bag[\"Train\"] == 0]"
   ]
  },
  {
   "cell_type": "code",
   "execution_count": 277,
   "metadata": {},
   "outputs": [],
   "source": [
    "def reverse_bag(df_bag):\n",
    "    \"\"\" À partir du 'bag' création d'une liste de textes\"\"\"\n",
    "    \n",
    "    # Récupération des colonnes\n",
    "    cols = np.array(df_bag.columns)\n",
    "    cols = np.delete(cols, np.where(~np.isin(cols, [\"Id\", \"Tags\", 'Train'], invert=True)))\n",
    "    \n",
    "    # Définition des colonnes comme texte unique\n",
    "    for i, col in enumerate(cols):\n",
    "        cols[i] = str(col)\n",
    "    cols_text = [\" \".join(cols)]\n",
    "        \n",
    "    # Création du 'bag of word' et initialisation vectorielle\n",
    "    vec = CountVectorizer()\n",
    "    vec.fit(cols_text)\n",
    "    \n",
    "    # Vocabulaire inverse \n",
    "    terms = np.array(list(vec.vocabulary_.keys()))\n",
    "    indices = np.array(list(vec.vocabulary_.values()))\n",
    "    inverse_vocabulary = terms[np.argsort(indices)]\n",
    "\n",
    "    texts = []\n",
    "    for row in range(len(df_bag)):\n",
    "        # Récupération de la première ligne du 'bag of word'\n",
    "        inputs = df_bag.loc[row,cols]#.values\n",
    "\n",
    "        # Change de la ligne dans le texte\n",
    "        text = []\n",
    "        for i, freq in enumerate(inputs):\n",
    "            if freq > 0:\n",
    "                text.append((inverse_vocabulary[i] + \" \") * int(freq))\n",
    "        texts.append(' '.join(text))\n",
    "        \n",
    "    return texts"
   ]
  },
  {
   "cell_type": "code",
   "execution_count": null,
   "metadata": {},
   "outputs": [],
   "source": [
    "train_texts = reverse_bag(df_bag_train)\n",
    "test_texts = reverse_bag(df_bag_test)"
   ]
  },
  {
   "cell_type": "code",
   "execution_count": null,
   "metadata": {},
   "outputs": [],
   "source": []
  }
 ],
 "metadata": {
  "kernelspec": {
   "display_name": "Python 3",
   "language": "python",
   "name": "python3"
  },
  "language_info": {
   "codemirror_mode": {
    "name": "ipython",
    "version": 3
   },
   "file_extension": ".py",
   "mimetype": "text/x-python",
   "name": "python",
   "nbconvert_exporter": "python",
   "pygments_lexer": "ipython3",
   "version": "3.7.6"
  }
 },
 "nbformat": 4,
 "nbformat_minor": 4
}
