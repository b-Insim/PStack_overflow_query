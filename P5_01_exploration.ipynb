{
 "cells": [
  {
   "cell_type": "code",
   "execution_count": 1,
   "metadata": {},
   "outputs": [],
   "source": [
    "# tables\n",
    "import pandas as pd\n",
    "import numpy as np\n",
    "# graphics\n",
    "import seaborn as sns\n",
    "import matplotlib.pyplot as plt\n",
    "# text processing\n",
    "import nltk\n",
    "from nltk.corpus import stopwords, words\n",
    "from nltk.tokenize import word_tokenize\n",
    "from sklearn.feature_extraction.text import CountVectorizer\n",
    "from nltk.stem.wordnet import WordNetLemmatizer\n",
    "from sklearn.feature_extraction.text import TfidfVectorizer\n",
    "# expressions\n",
    "import re\n",
    "# machine learning\n",
    "from sklearn.model_selection import train_test_split\n",
    "# Deal with html text\n",
    "from bs4 import BeautifulSoup\n",
    "# Multiprocessing\n",
    "import multiprocessing\n",
    "from joblib import Parallel, delayed\n",
    "from tqdm import tqdm"
   ]
  },
  {
   "cell_type": "markdown",
   "metadata": {},
   "source": [
    "## Installation des packages "
   ]
  },
  {
   "cell_type": "code",
   "execution_count": 23,
   "metadata": {},
   "outputs": [
    {
     "name": "stderr",
     "output_type": "stream",
     "text": [
      "[nltk_data] Downloading package wordnet to\n",
      "[nltk_data]     /Users/boleynkenkem/nltk_data...\n",
      "[nltk_data]   Package wordnet is already up-to-date!\n",
      "[nltk_data] Downloading package stopwords to\n",
      "[nltk_data]     /Users/boleynkenkem/nltk_data...\n",
      "[nltk_data]   Package stopwords is already up-to-date!\n",
      "[nltk_data] Downloading package words to\n",
      "[nltk_data]     /Users/boleynkenkem/nltk_data...\n",
      "[nltk_data]   Package words is already up-to-date!\n"
     ]
    },
    {
     "data": {
      "text/plain": [
       "True"
      ]
     },
     "execution_count": 23,
     "metadata": {},
     "output_type": "execute_result"
    }
   ],
   "source": [
    "nltk.download('wordnet')\n",
    "nltk.download('stopwords')\n",
    "nltk.download('words')"
   ]
  },
  {
   "cell_type": "code",
   "execution_count": null,
   "metadata": {},
   "outputs": [],
   "source": [
    "import nltk\n",
    "nltk.download('punkt')\n",
    "\n",
    "from nltk import word_tokenize,sent_tokenize"
   ]
  },
  {
   "cell_type": "code",
   "execution_count": 2,
   "metadata": {},
   "outputs": [],
   "source": [
    "debug = False"
   ]
  },
  {
   "cell_type": "markdown",
   "metadata": {},
   "source": [
    "Plus on a des données d'entrées mieux c'est. Nous avons effectué 10  requêtes SQL afin d'avoir 10 fichiers csv: QueryResults.csv, QueryResults(1).csv à QueryResults(9).csv. Ces fichiers ont été générés en respectant la consignes qui demandait de faire des requêtes avec des contraintes sur les id.  Nos requêtes SQL ont été effectué sur les id compris entre 0 et 50 000. Chaque requête a pris les résultats non nuls dans une plage de 100 000 valeurs. Il y a eu différentes requêtes afin d'avoir des fichiers d'une taille inférieure à 25Mb.\n",
    "\n",
    "Nous dump sql se trouve dans le fichier sql_requery.txt"
   ]
  },
  {
   "cell_type": "markdown",
   "metadata": {},
   "source": [
    "## Chargement des données "
   ]
  },
  {
   "cell_type": "markdown",
   "metadata": {},
   "source": [
    "### Concaténations de tous les inputs "
   ]
  },
  {
   "cell_type": "code",
   "execution_count": 3,
   "metadata": {},
   "outputs": [],
   "source": [
    "df_main = pd.DataFrame(columns=[\"Id\", \"Title\", \"Body\", \"Tags\"])"
   ]
  },
  {
   "cell_type": "code",
   "execution_count": 4,
   "metadata": {},
   "outputs": [],
   "source": [
    "df_main = df_main.append(pd.read_csv(\"input/QueryResults.csv\"), ignore_index = True)\n",
    "df_main = df_main.append(pd.read_csv(\"input/QueryResults(1).csv\"), ignore_index = True)\n",
    "df_main = df_main.append(pd.read_csv(\"input/QueryResults(2).csv\"), ignore_index = True)\n",
    "df_main = df_main.append(pd.read_csv(\"input/QueryResults(3).csv\"), ignore_index = True)\n",
    "df_main = df_main.append(pd.read_csv(\"input/QueryResults(4).csv\"), ignore_index = True)\n",
    "df_main = df_main.append(pd.read_csv(\"input/QueryResults(5).csv\"), ignore_index = True)\n",
    "df_main = df_main.append(pd.read_csv(\"input/QueryResults(6).csv\"), ignore_index = True)\n",
    "df_main = df_main.append(pd.read_csv(\"input/QueryResults(7).csv\"), ignore_index = True)\n",
    "df_main = df_main.append(pd.read_csv(\"input/QueryResults(8).csv\"), ignore_index = True)\n",
    "df_main = df_main.append(pd.read_csv(\"input/QueryResults(9).csv\"), ignore_index = True)"
   ]
  },
  {
   "cell_type": "markdown",
   "metadata": {},
   "source": [
    "Nous pouvons afficher les colonnes pour voir."
   ]
  },
  {
   "cell_type": "code",
   "execution_count": 5,
   "metadata": {},
   "outputs": [
    {
     "data": {
      "text/plain": [
       "Index(['Id', 'Title', 'Body', 'Tags'], dtype='object')"
      ]
     },
     "execution_count": 5,
     "metadata": {},
     "output_type": "execute_result"
    }
   ],
   "source": [
    "df_main.columns"
   ]
  },
  {
   "cell_type": "markdown",
   "metadata": {},
   "source": [
    "### informations générales sur la table principale"
   ]
  },
  {
   "cell_type": "code",
   "execution_count": 6,
   "metadata": {},
   "outputs": [
    {
     "name": "stdout",
     "output_type": "stream",
     "text": [
      "<class 'pandas.core.frame.DataFrame'>\n",
      "RangeIndex: 73942 entries, 0 to 73941\n",
      "Data columns (total 4 columns):\n",
      "Id       73942 non-null object\n",
      "Title    73942 non-null object\n",
      "Body     73942 non-null object\n",
      "Tags     73942 non-null object\n",
      "dtypes: object(4)\n",
      "memory usage: 2.3+ MB\n"
     ]
    }
   ],
   "source": [
    "df_main.info()"
   ]
  },
  {
   "cell_type": "code",
   "execution_count": 7,
   "metadata": {},
   "outputs": [
    {
     "data": {
      "text/html": [
       "<div>\n",
       "<style scoped>\n",
       "    .dataframe tbody tr th:only-of-type {\n",
       "        vertical-align: middle;\n",
       "    }\n",
       "\n",
       "    .dataframe tbody tr th {\n",
       "        vertical-align: top;\n",
       "    }\n",
       "\n",
       "    .dataframe thead th {\n",
       "        text-align: right;\n",
       "    }\n",
       "</style>\n",
       "<table border=\"1\" class=\"dataframe\">\n",
       "  <thead>\n",
       "    <tr style=\"text-align: right;\">\n",
       "      <th></th>\n",
       "      <th>Id</th>\n",
       "      <th>Title</th>\n",
       "      <th>Body</th>\n",
       "      <th>Tags</th>\n",
       "    </tr>\n",
       "  </thead>\n",
       "  <tbody>\n",
       "    <tr>\n",
       "      <th>0</th>\n",
       "      <td>4</td>\n",
       "      <td>How to convert decimal to double in C#?</td>\n",
       "      <td>&lt;p&gt;I want to use a &lt;code&gt;Track-Bar&lt;/code&gt; to c...</td>\n",
       "      <td>&lt;c#&gt;&lt;floating-point&gt;&lt;type-conversion&gt;&lt;double&gt;&lt;...</td>\n",
       "    </tr>\n",
       "    <tr>\n",
       "      <th>1</th>\n",
       "      <td>6</td>\n",
       "      <td>Percentage width child element in absolutely p...</td>\n",
       "      <td>&lt;p&gt;I have an absolutely positioned &lt;code&gt;div&lt;/...</td>\n",
       "      <td>&lt;html&gt;&lt;css&gt;&lt;internet-explorer-7&gt;</td>\n",
       "    </tr>\n",
       "    <tr>\n",
       "      <th>2</th>\n",
       "      <td>9</td>\n",
       "      <td>In C#, how do I calculate someone's age based ...</td>\n",
       "      <td>&lt;p&gt;Given a &lt;code&gt;DateTime&lt;/code&gt; representing ...</td>\n",
       "      <td>&lt;c#&gt;&lt;.net&gt;&lt;datetime&gt;</td>\n",
       "    </tr>\n",
       "    <tr>\n",
       "      <th>3</th>\n",
       "      <td>11</td>\n",
       "      <td>Calculate relative time in C#</td>\n",
       "      <td>&lt;p&gt;Given a specific &lt;code&gt;DateTime&lt;/code&gt; valu...</td>\n",
       "      <td>&lt;c#&gt;&lt;datetime&gt;&lt;time&gt;&lt;datediff&gt;&lt;relative-time-s...</td>\n",
       "    </tr>\n",
       "    <tr>\n",
       "      <th>4</th>\n",
       "      <td>13</td>\n",
       "      <td>Determine a user's timezone</td>\n",
       "      <td>&lt;p&gt;Is there a standard way for a web server to...</td>\n",
       "      <td>&lt;html&gt;&lt;browser&gt;&lt;timezone&gt;&lt;user-agent&gt;&lt;timezone...</td>\n",
       "    </tr>\n",
       "    <tr>\n",
       "      <th>5</th>\n",
       "      <td>14</td>\n",
       "      <td>Difference between Math.Floor() and Math.Trunc...</td>\n",
       "      <td>&lt;p&gt;What is the difference between &lt;a href=\"htt...</td>\n",
       "      <td>&lt;.net&gt;&lt;math&gt;</td>\n",
       "    </tr>\n",
       "    <tr>\n",
       "      <th>6</th>\n",
       "      <td>16</td>\n",
       "      <td>Filling a DataSet or DataTable from a LINQ que...</td>\n",
       "      <td>&lt;p&gt;How do you expose a LINQ query as an ASMX w...</td>\n",
       "      <td>&lt;c#&gt;&lt;linq&gt;&lt;web-services&gt;&lt;.net-3.5&gt;</td>\n",
       "    </tr>\n",
       "    <tr>\n",
       "      <th>7</th>\n",
       "      <td>17</td>\n",
       "      <td>Binary Data in MySQL</td>\n",
       "      <td>&lt;p&gt;How do I store binary data in &lt;a href=\"http...</td>\n",
       "      <td>&lt;mysql&gt;&lt;database&gt;&lt;binary-data&gt;&lt;data-storage&gt;</td>\n",
       "    </tr>\n",
       "    <tr>\n",
       "      <th>8</th>\n",
       "      <td>19</td>\n",
       "      <td>What is the fastest way to get the value of π?</td>\n",
       "      <td>&lt;p&gt;I'm looking for the fastest way to obtain t...</td>\n",
       "      <td>&lt;performance&gt;&lt;algorithm&gt;&lt;language-agnostic&gt;&lt;un...</td>\n",
       "    </tr>\n",
       "    <tr>\n",
       "      <th>9</th>\n",
       "      <td>24</td>\n",
       "      <td>Throw an error in a MySQL trigger</td>\n",
       "      <td>&lt;p&gt;If I have a &lt;code&gt;trigger&lt;/code&gt; &lt;code&gt;befo...</td>\n",
       "      <td>&lt;mysql&gt;&lt;database&gt;&lt;triggers&gt;</td>\n",
       "    </tr>\n",
       "    <tr>\n",
       "      <th>10</th>\n",
       "      <td>25</td>\n",
       "      <td>How to use the C socket API in C++ on z/OS</td>\n",
       "      <td>&lt;p&gt;I'm having issues getting the C sockets API...</td>\n",
       "      <td>&lt;c++&gt;&lt;c&gt;&lt;sockets&gt;&lt;mainframe&gt;&lt;zos&gt;</td>\n",
       "    </tr>\n",
       "    <tr>\n",
       "      <th>11</th>\n",
       "      <td>34</td>\n",
       "      <td>Unloading a ByteArray using Actionscript 3</td>\n",
       "      <td>&lt;p&gt;How do I forcefully unload a &lt;code&gt;ByteArra...</td>\n",
       "      <td>&lt;arrays&gt;&lt;actionscript-3&gt;&lt;apache-flex&gt;</td>\n",
       "    </tr>\n",
       "    <tr>\n",
       "      <th>12</th>\n",
       "      <td>36</td>\n",
       "      <td>Check for changes to an SQL Server table?</td>\n",
       "      <td>&lt;p&gt;How can I monitor an SQL Server database fo...</td>\n",
       "      <td>&lt;sql&gt;&lt;sql-server&gt;&lt;datatable&gt;&lt;rdbms&gt;</td>\n",
       "    </tr>\n",
       "    <tr>\n",
       "      <th>13</th>\n",
       "      <td>39</td>\n",
       "      <td>Reliable timer in a console application</td>\n",
       "      <td>&lt;p&gt;I am aware that in &lt;a href=\"http://en.wikip...</td>\n",
       "      <td>&lt;c#&gt;&lt;.net&gt;&lt;vb.net&gt;&lt;timer&gt;</td>\n",
       "    </tr>\n",
       "    <tr>\n",
       "      <th>14</th>\n",
       "      <td>42</td>\n",
       "      <td>Best way to allow plugins for a PHP application</td>\n",
       "      <td>&lt;p&gt;I am starting a new web application in PHP ...</td>\n",
       "      <td>&lt;php&gt;&lt;plugins&gt;&lt;architecture&gt;&lt;hook&gt;</td>\n",
       "    </tr>\n",
       "    <tr>\n",
       "      <th>15</th>\n",
       "      <td>48</td>\n",
       "      <td>Multiple submit buttons in an HTML form</td>\n",
       "      <td>&lt;p&gt;Let's say you create a wizard in an HTML fo...</td>\n",
       "      <td>&lt;html&gt;&lt;forms&gt;&lt;form-submit&gt;&lt;submit-button&gt;</td>\n",
       "    </tr>\n",
       "    <tr>\n",
       "      <th>16</th>\n",
       "      <td>59</td>\n",
       "      <td>How do I get a distinct, ordered list of names...</td>\n",
       "      <td>&lt;p&gt;I have a &lt;code&gt;DataTable&lt;/code&gt; with a &lt;cod...</td>\n",
       "      <td>&lt;c#&gt;&lt;linq&gt;&lt;.net-3.5&gt;</td>\n",
       "    </tr>\n",
       "    <tr>\n",
       "      <th>17</th>\n",
       "      <td>61</td>\n",
       "      <td>Microsoft Office 2007 file type, Mime types an...</td>\n",
       "      <td>&lt;p&gt;Where can I find a list of all of the MIME ...</td>\n",
       "      <td>&lt;mime&gt;&lt;file-type&gt;&lt;office-2007&gt;</td>\n",
       "    </tr>\n",
       "    <tr>\n",
       "      <th>18</th>\n",
       "      <td>66</td>\n",
       "      <td>Paging a collection with LINQ</td>\n",
       "      <td>&lt;p&gt;How do you page through a collection in LIN...</td>\n",
       "      <td>&lt;linq&gt;&lt;.net-3.5&gt;</td>\n",
       "    </tr>\n",
       "    <tr>\n",
       "      <th>19</th>\n",
       "      <td>72</td>\n",
       "      <td>How do I add existing comments to RDoc in Ruby?</td>\n",
       "      <td>&lt;p&gt;I want to format my existing comments as 'R...</td>\n",
       "      <td>&lt;ruby&gt;&lt;rdoc&gt;</td>\n",
       "    </tr>\n",
       "    <tr>\n",
       "      <th>20</th>\n",
       "      <td>79</td>\n",
       "      <td>Getting Subclipse in Aptana to work with the n...</td>\n",
       "      <td>&lt;p&gt;The version of &lt;strong&gt;Subclipse (1.2.4)&lt;/s...</td>\n",
       "      <td>&lt;eclipse&gt;&lt;svn&gt;&lt;aptana&gt;&lt;subclipse&gt;</td>\n",
       "    </tr>\n",
       "    <tr>\n",
       "      <th>21</th>\n",
       "      <td>80</td>\n",
       "      <td>SQLStatement.execute() - multiple queries in o...</td>\n",
       "      <td>&lt;p&gt;I've written a database generation script i...</td>\n",
       "      <td>&lt;apache-flex&gt;&lt;actionscript-3&gt;&lt;air&gt;</td>\n",
       "    </tr>\n",
       "    <tr>\n",
       "      <th>22</th>\n",
       "      <td>85</td>\n",
       "      <td>Flat file databases</td>\n",
       "      <td>&lt;p&gt;What are the best practices around creating...</td>\n",
       "      <td>&lt;php&gt;&lt;sql&gt;&lt;database&gt;&lt;flat-file&gt;</td>\n",
       "    </tr>\n",
       "    <tr>\n",
       "      <th>23</th>\n",
       "      <td>88</td>\n",
       "      <td>Is gettimeofday() guaranteed to be of microsec...</td>\n",
       "      <td>&lt;p&gt;I am porting a game, that was originally wr...</td>\n",
       "      <td>&lt;linux&gt;&lt;winapi&gt;&lt;visual-c++&gt;&lt;unix&gt;&lt;timer&gt;</td>\n",
       "    </tr>\n",
       "    <tr>\n",
       "      <th>24</th>\n",
       "      <td>90</td>\n",
       "      <td>How do you branch and merge with TortoiseSVN?</td>\n",
       "      <td>&lt;p&gt;How do you &lt;a href=\"http://svnbook.red-bean...</td>\n",
       "      <td>&lt;svn&gt;&lt;tortoisesvn&gt;&lt;branch&gt;&lt;branching-and-merging&gt;</td>\n",
       "    </tr>\n",
       "    <tr>\n",
       "      <th>25</th>\n",
       "      <td>104</td>\n",
       "      <td>Anatomy of a \"Memory Leak\"</td>\n",
       "      <td>&lt;p&gt;In .NET perspective:&lt;/p&gt;\\n\\n&lt;ul&gt;\\n&lt;li&gt;What ...</td>\n",
       "      <td>&lt;.net&gt;&lt;performance&gt;&lt;memory-leaks&gt;&lt;com-interop&gt;</td>\n",
       "    </tr>\n",
       "    <tr>\n",
       "      <th>26</th>\n",
       "      <td>108</td>\n",
       "      <td>Best Subversion clients for Windows Vista (64bit)</td>\n",
       "      <td>&lt;p&gt;I've been using &lt;a href=\"https://web.archiv...</td>\n",
       "      <td>&lt;windows&gt;&lt;svn&gt;&lt;64-bit&gt;</td>\n",
       "    </tr>\n",
       "    <tr>\n",
       "      <th>27</th>\n",
       "      <td>109</td>\n",
       "      <td>Decoding T-SQL CAST in C#/VB.NET</td>\n",
       "      <td>&lt;p&gt;Recently our site has been deluged with the...</td>\n",
       "      <td>&lt;c#&gt;&lt;sql&gt;&lt;vb.net&gt;&lt;ascii&gt;&lt;hex&gt;</td>\n",
       "    </tr>\n",
       "    <tr>\n",
       "      <th>28</th>\n",
       "      <td>120</td>\n",
       "      <td>ASP.NET Site Maps</td>\n",
       "      <td>&lt;p&gt;Does anyone have experience creating SQL-ba...</td>\n",
       "      <td>&lt;sql&gt;&lt;asp.net&gt;&lt;xml&gt;&lt;sitemap&gt;</td>\n",
       "    </tr>\n",
       "    <tr>\n",
       "      <th>29</th>\n",
       "      <td>123</td>\n",
       "      <td>Java lib or app to convert CSV to XML file?</td>\n",
       "      <td>&lt;p&gt;Is there an existing application or library...</td>\n",
       "      <td>&lt;java&gt;&lt;xml&gt;&lt;csv&gt;&lt;data-conversion&gt;</td>\n",
       "    </tr>\n",
       "    <tr>\n",
       "      <th>...</th>\n",
       "      <td>...</td>\n",
       "      <td>...</td>\n",
       "      <td>...</td>\n",
       "      <td>...</td>\n",
       "    </tr>\n",
       "    <tr>\n",
       "      <th>73912</th>\n",
       "      <td>499838</td>\n",
       "      <td>Javascript Date: next month</td>\n",
       "      <td>&lt;p&gt;I've been using Javascript's Date for a pro...</td>\n",
       "      <td>&lt;javascript&gt;&lt;date&gt;</td>\n",
       "    </tr>\n",
       "    <tr>\n",
       "      <th>73913</th>\n",
       "      <td>499842</td>\n",
       "      <td>Why are there extra instructions in my gcc out...</td>\n",
       "      <td>&lt;p&gt;GCC compiles (using &lt;code&gt;gcc --omit-frame-...</td>\n",
       "      <td>&lt;gcc&gt;&lt;assembly&gt;&lt;x86&gt;</td>\n",
       "    </tr>\n",
       "    <tr>\n",
       "      <th>73914</th>\n",
       "      <td>499848</td>\n",
       "      <td>How to programmatically add a Tab to TabContro...</td>\n",
       "      <td>&lt;p&gt;I'm using Visual Basic 9 (VS2008)&lt;/p&gt;\\n\\n&lt;p...</td>\n",
       "      <td>&lt;c#&gt;&lt;vb.net&gt;&lt;listview&gt;&lt;tabs&gt;&lt;tabcontrol&gt;</td>\n",
       "    </tr>\n",
       "    <tr>\n",
       "      <th>73915</th>\n",
       "      <td>499850</td>\n",
       "      <td>Exist any Obj-c library to integration with pa...</td>\n",
       "      <td>&lt;p&gt;I wonder if exist a pre-made objective-c li...</td>\n",
       "      <td>&lt;objective-c&gt;&lt;payment-gateway&gt;</td>\n",
       "    </tr>\n",
       "    <tr>\n",
       "      <th>73916</th>\n",
       "      <td>499858</td>\n",
       "      <td>Benefits of choosing Windows over Unix as deve...</td>\n",
       "      <td>&lt;p&gt;Are there any technical benefits to Windows...</td>\n",
       "      <td>&lt;operating-system&gt;&lt;platform&gt;</td>\n",
       "    </tr>\n",
       "    <tr>\n",
       "      <th>73917</th>\n",
       "      <td>499872</td>\n",
       "      <td>IE6 bug. Div's height increases when a:hover i...</td>\n",
       "      <td>&lt;p&gt;I have a page that there is a list of \"tags...</td>\n",
       "      <td>&lt;css&gt;&lt;internet-explorer-6&gt;</td>\n",
       "    </tr>\n",
       "    <tr>\n",
       "      <th>73918</th>\n",
       "      <td>499873</td>\n",
       "      <td>Do you think Unit Tests are a good way to show...</td>\n",
       "      <td>&lt;p&gt;Do you think Unit Tests are a good way to s...</td>\n",
       "      <td>&lt;unit-testing&gt;</td>\n",
       "    </tr>\n",
       "    <tr>\n",
       "      <th>73919</th>\n",
       "      <td>499879</td>\n",
       "      <td>Problem redirecting a C program output in bash</td>\n",
       "      <td>&lt;p&gt;I've coded a program in C that sends messag...</td>\n",
       "      <td>&lt;c&gt;&lt;linux&gt;&lt;bash&gt;&lt;redirect&gt;&lt;printf&gt;</td>\n",
       "    </tr>\n",
       "    <tr>\n",
       "      <th>73920</th>\n",
       "      <td>499887</td>\n",
       "      <td>Can ActiveResource models integrate with Activ...</td>\n",
       "      <td>&lt;p&gt;I'm working on a Rails app that will serve ...</td>\n",
       "      <td>&lt;ruby-on-rails&gt;&lt;activerecord&gt;&lt;rest&gt;&lt;activereso...</td>\n",
       "    </tr>\n",
       "    <tr>\n",
       "      <th>73921</th>\n",
       "      <td>499888</td>\n",
       "      <td>Should I use MS Validation Application Block i...</td>\n",
       "      <td>&lt;p&gt;I know that the &lt;a href=\"http://msdn.micros...</td>\n",
       "      <td>&lt;asp.net-mvc&gt;&lt;validation&gt;</td>\n",
       "    </tr>\n",
       "    <tr>\n",
       "      <th>73922</th>\n",
       "      <td>499890</td>\n",
       "      <td>What is your personal approach/take on comment...</td>\n",
       "      <td>&lt;h3&gt;Duplicate&lt;/h3&gt;\\n&lt;blockquote&gt;\\n&lt;p&gt;&lt;a href=\"...</td>\n",
       "      <td>&lt;comments&gt;</td>\n",
       "    </tr>\n",
       "    <tr>\n",
       "      <th>73923</th>\n",
       "      <td>499897</td>\n",
       "      <td>Save CoreData-entities in NSUserDefaults</td>\n",
       "      <td>&lt;p&gt;Imagine an CoreData entity (e.g. named &lt;cod...</td>\n",
       "      <td>&lt;cocoa&gt;&lt;core-data&gt;&lt;save&gt;&lt;nsuserdefaults&gt;</td>\n",
       "    </tr>\n",
       "    <tr>\n",
       "      <th>73924</th>\n",
       "      <td>499902</td>\n",
       "      <td>Generic interface as a method parameter and se...</td>\n",
       "      <td>&lt;p&gt;This is probably my naivety showing through...</td>\n",
       "      <td>&lt;c#&gt;</td>\n",
       "    </tr>\n",
       "    <tr>\n",
       "      <th>73925</th>\n",
       "      <td>499909</td>\n",
       "      <td>Trying to update a form it does an insertion!</td>\n",
       "      <td>&lt;p&gt;I'm trying to update an object, but I'm get...</td>\n",
       "      <td>&lt;django&gt;&lt;django-forms&gt;</td>\n",
       "    </tr>\n",
       "    <tr>\n",
       "      <th>73926</th>\n",
       "      <td>499933</td>\n",
       "      <td>outlineView:dataCellForTableColumn:item: has s...</td>\n",
       "      <td>&lt;p&gt;I have an outline view delegate and am over...</td>\n",
       "      <td>&lt;cocoa&gt;</td>\n",
       "    </tr>\n",
       "    <tr>\n",
       "      <th>73927</th>\n",
       "      <td>499934</td>\n",
       "      <td>How would you model articles with references a...</td>\n",
       "      <td>&lt;p&gt;An article has many articles that it refers...</td>\n",
       "      <td>&lt;ruby-on-rails&gt;&lt;database-design&gt;&lt;activerecord&gt;</td>\n",
       "    </tr>\n",
       "    <tr>\n",
       "      <th>73928</th>\n",
       "      <td>499939</td>\n",
       "      <td>How to extract the decimal part from a floatin...</td>\n",
       "      <td>&lt;p&gt;How can we extract the decimal part of a fl...</td>\n",
       "      <td>&lt;c&gt;&lt;floating-point&gt;&lt;decimal&gt;&lt;numbers&gt;</td>\n",
       "    </tr>\n",
       "    <tr>\n",
       "      <th>73929</th>\n",
       "      <td>499949</td>\n",
       "      <td>Flash loads twice workaround?</td>\n",
       "      <td>&lt;p&gt;While investigating a reported problem with...</td>\n",
       "      <td>&lt;flash&gt;&lt;swfobject&gt;</td>\n",
       "    </tr>\n",
       "    <tr>\n",
       "      <th>73930</th>\n",
       "      <td>499954</td>\n",
       "      <td>JQuery event suppression</td>\n",
       "      <td>&lt;p&gt;I have an input box, and I have bound both ...</td>\n",
       "      <td>&lt;javascript&gt;&lt;javascript-events&gt;&lt;jquery&gt;</td>\n",
       "    </tr>\n",
       "    <tr>\n",
       "      <th>73931</th>\n",
       "      <td>499955</td>\n",
       "      <td>MaskedEditValidator DisplayMoney doesn't show ...</td>\n",
       "      <td>&lt;p&gt;I'm creating a simple composite control tha...</td>\n",
       "      <td>&lt;c#&gt;&lt;asp.net&gt;&lt;ajax&gt;&lt;composite-controls&gt;</td>\n",
       "    </tr>\n",
       "    <tr>\n",
       "      <th>73932</th>\n",
       "      <td>499964</td>\n",
       "      <td>How do you create python methods(signature and...</td>\n",
       "      <td>&lt;p&gt;I've created a method that generates a new ...</td>\n",
       "      <td>&lt;python&gt;&lt;django&gt;&lt;dynamic&gt;&lt;methods&gt;&lt;lambda&gt;</td>\n",
       "    </tr>\n",
       "    <tr>\n",
       "      <th>73933</th>\n",
       "      <td>499966</td>\n",
       "      <td>ETag vs Header Expires</td>\n",
       "      <td>&lt;p&gt;I've looked around but haven't been able to...</td>\n",
       "      <td>&lt;http&gt;&lt;caching&gt;&lt;etag&gt;&lt;expires-header&gt;</td>\n",
       "    </tr>\n",
       "    <tr>\n",
       "      <th>73934</th>\n",
       "      <td>499967</td>\n",
       "      <td>How do I determine the longest similar portion...</td>\n",
       "      <td>&lt;p&gt;As per the title, I'm trying to find a way ...</td>\n",
       "      <td>&lt;perl&gt;&lt;algorithm&gt;&lt;string&gt;&lt;similarity&gt;</td>\n",
       "    </tr>\n",
       "    <tr>\n",
       "      <th>73935</th>\n",
       "      <td>499970</td>\n",
       "      <td>Why would mod_rewrite rewrite twice?</td>\n",
       "      <td>&lt;p&gt;&lt;a href=\"https://stackoverflow.com/question...</td>\n",
       "      <td>&lt;apache&gt;&lt;mod-rewrite&gt;&lt;url-rewriting&gt;</td>\n",
       "    </tr>\n",
       "    <tr>\n",
       "      <th>73936</th>\n",
       "      <td>499974</td>\n",
       "      <td>PowerShell: Can you hook or intercept PowerShe...</td>\n",
       "      <td>&lt;p&gt;I want to do some housekeeping before execu...</td>\n",
       "      <td>&lt;command-line&gt;&lt;powershell&gt;&lt;user-interface&gt;</td>\n",
       "    </tr>\n",
       "    <tr>\n",
       "      <th>73937</th>\n",
       "      <td>499977</td>\n",
       "      <td>How to code hosting of the WF with WC 3.5 Reci...</td>\n",
       "      <td>&lt;p&gt;I created a small VS solution that includes...</td>\n",
       "      <td>&lt;windows&gt;&lt;wcf&gt;&lt;service&gt;&lt;hosting&gt;&lt;workflow-foun...</td>\n",
       "    </tr>\n",
       "    <tr>\n",
       "      <th>73938</th>\n",
       "      <td>499987</td>\n",
       "      <td>How to access information entered during setup...</td>\n",
       "      <td>&lt;p&gt;I added a simple dialog window to the insta...</td>\n",
       "      <td>&lt;.net&gt;&lt;visual-studio&gt;&lt;installation&gt;&lt;windows-in...</td>\n",
       "    </tr>\n",
       "    <tr>\n",
       "      <th>73939</th>\n",
       "      <td>499989</td>\n",
       "      <td>Mysql MediumText causes PHP Fatal error: Allow...</td>\n",
       "      <td>&lt;p&gt;I have my own php data object class that wr...</td>\n",
       "      <td>&lt;php&gt;&lt;memory-management&gt;</td>\n",
       "    </tr>\n",
       "    <tr>\n",
       "      <th>73940</th>\n",
       "      <td>499995</td>\n",
       "      <td>How do you validate a binary search tree?</td>\n",
       "      <td>&lt;p&gt;I read on here of an exercise in interviews...</td>\n",
       "      <td>&lt;algorithm&gt;&lt;data-structures&gt;&lt;binary-search-tree&gt;</td>\n",
       "    </tr>\n",
       "    <tr>\n",
       "      <th>73941</th>\n",
       "      <td>499997</td>\n",
       "      <td>Is Request.IsAjaxRequest() broken in the MVC R...</td>\n",
       "      <td>&lt;p&gt;This MVC stuff is fun but every step along ...</td>\n",
       "      <td>&lt;asp.net-mvc&gt;&lt;asp.net-ajax&gt;</td>\n",
       "    </tr>\n",
       "  </tbody>\n",
       "</table>\n",
       "<p>73942 rows × 4 columns</p>\n",
       "</div>"
      ],
      "text/plain": [
       "           Id                                              Title  \\\n",
       "0           4            How to convert decimal to double in C#?   \n",
       "1           6  Percentage width child element in absolutely p...   \n",
       "2           9  In C#, how do I calculate someone's age based ...   \n",
       "3          11                      Calculate relative time in C#   \n",
       "4          13                        Determine a user's timezone   \n",
       "5          14  Difference between Math.Floor() and Math.Trunc...   \n",
       "6          16  Filling a DataSet or DataTable from a LINQ que...   \n",
       "7          17                               Binary Data in MySQL   \n",
       "8          19     What is the fastest way to get the value of π?   \n",
       "9          24                  Throw an error in a MySQL trigger   \n",
       "10         25         How to use the C socket API in C++ on z/OS   \n",
       "11         34         Unloading a ByteArray using Actionscript 3   \n",
       "12         36          Check for changes to an SQL Server table?   \n",
       "13         39            Reliable timer in a console application   \n",
       "14         42    Best way to allow plugins for a PHP application   \n",
       "15         48            Multiple submit buttons in an HTML form   \n",
       "16         59  How do I get a distinct, ordered list of names...   \n",
       "17         61  Microsoft Office 2007 file type, Mime types an...   \n",
       "18         66                      Paging a collection with LINQ   \n",
       "19         72    How do I add existing comments to RDoc in Ruby?   \n",
       "20         79  Getting Subclipse in Aptana to work with the n...   \n",
       "21         80  SQLStatement.execute() - multiple queries in o...   \n",
       "22         85                                Flat file databases   \n",
       "23         88  Is gettimeofday() guaranteed to be of microsec...   \n",
       "24         90      How do you branch and merge with TortoiseSVN?   \n",
       "25        104                         Anatomy of a \"Memory Leak\"   \n",
       "26        108  Best Subversion clients for Windows Vista (64bit)   \n",
       "27        109                   Decoding T-SQL CAST in C#/VB.NET   \n",
       "28        120                                  ASP.NET Site Maps   \n",
       "29        123        Java lib or app to convert CSV to XML file?   \n",
       "...       ...                                                ...   \n",
       "73912  499838                        Javascript Date: next month   \n",
       "73913  499842  Why are there extra instructions in my gcc out...   \n",
       "73914  499848  How to programmatically add a Tab to TabContro...   \n",
       "73915  499850  Exist any Obj-c library to integration with pa...   \n",
       "73916  499858  Benefits of choosing Windows over Unix as deve...   \n",
       "73917  499872  IE6 bug. Div's height increases when a:hover i...   \n",
       "73918  499873  Do you think Unit Tests are a good way to show...   \n",
       "73919  499879     Problem redirecting a C program output in bash   \n",
       "73920  499887  Can ActiveResource models integrate with Activ...   \n",
       "73921  499888  Should I use MS Validation Application Block i...   \n",
       "73922  499890  What is your personal approach/take on comment...   \n",
       "73923  499897           Save CoreData-entities in NSUserDefaults   \n",
       "73924  499902  Generic interface as a method parameter and se...   \n",
       "73925  499909      Trying to update a form it does an insertion!   \n",
       "73926  499933  outlineView:dataCellForTableColumn:item: has s...   \n",
       "73927  499934  How would you model articles with references a...   \n",
       "73928  499939  How to extract the decimal part from a floatin...   \n",
       "73929  499949                      Flash loads twice workaround?   \n",
       "73930  499954                           JQuery event suppression   \n",
       "73931  499955  MaskedEditValidator DisplayMoney doesn't show ...   \n",
       "73932  499964  How do you create python methods(signature and...   \n",
       "73933  499966                             ETag vs Header Expires   \n",
       "73934  499967  How do I determine the longest similar portion...   \n",
       "73935  499970               Why would mod_rewrite rewrite twice?   \n",
       "73936  499974  PowerShell: Can you hook or intercept PowerShe...   \n",
       "73937  499977  How to code hosting of the WF with WC 3.5 Reci...   \n",
       "73938  499987  How to access information entered during setup...   \n",
       "73939  499989  Mysql MediumText causes PHP Fatal error: Allow...   \n",
       "73940  499995          How do you validate a binary search tree?   \n",
       "73941  499997  Is Request.IsAjaxRequest() broken in the MVC R...   \n",
       "\n",
       "                                                    Body  \\\n",
       "0      <p>I want to use a <code>Track-Bar</code> to c...   \n",
       "1      <p>I have an absolutely positioned <code>div</...   \n",
       "2      <p>Given a <code>DateTime</code> representing ...   \n",
       "3      <p>Given a specific <code>DateTime</code> valu...   \n",
       "4      <p>Is there a standard way for a web server to...   \n",
       "5      <p>What is the difference between <a href=\"htt...   \n",
       "6      <p>How do you expose a LINQ query as an ASMX w...   \n",
       "7      <p>How do I store binary data in <a href=\"http...   \n",
       "8      <p>I'm looking for the fastest way to obtain t...   \n",
       "9      <p>If I have a <code>trigger</code> <code>befo...   \n",
       "10     <p>I'm having issues getting the C sockets API...   \n",
       "11     <p>How do I forcefully unload a <code>ByteArra...   \n",
       "12     <p>How can I monitor an SQL Server database fo...   \n",
       "13     <p>I am aware that in <a href=\"http://en.wikip...   \n",
       "14     <p>I am starting a new web application in PHP ...   \n",
       "15     <p>Let's say you create a wizard in an HTML fo...   \n",
       "16     <p>I have a <code>DataTable</code> with a <cod...   \n",
       "17     <p>Where can I find a list of all of the MIME ...   \n",
       "18     <p>How do you page through a collection in LIN...   \n",
       "19     <p>I want to format my existing comments as 'R...   \n",
       "20     <p>The version of <strong>Subclipse (1.2.4)</s...   \n",
       "21     <p>I've written a database generation script i...   \n",
       "22     <p>What are the best practices around creating...   \n",
       "23     <p>I am porting a game, that was originally wr...   \n",
       "24     <p>How do you <a href=\"http://svnbook.red-bean...   \n",
       "25     <p>In .NET perspective:</p>\\n\\n<ul>\\n<li>What ...   \n",
       "26     <p>I've been using <a href=\"https://web.archiv...   \n",
       "27     <p>Recently our site has been deluged with the...   \n",
       "28     <p>Does anyone have experience creating SQL-ba...   \n",
       "29     <p>Is there an existing application or library...   \n",
       "...                                                  ...   \n",
       "73912  <p>I've been using Javascript's Date for a pro...   \n",
       "73913  <p>GCC compiles (using <code>gcc --omit-frame-...   \n",
       "73914  <p>I'm using Visual Basic 9 (VS2008)</p>\\n\\n<p...   \n",
       "73915  <p>I wonder if exist a pre-made objective-c li...   \n",
       "73916  <p>Are there any technical benefits to Windows...   \n",
       "73917  <p>I have a page that there is a list of \"tags...   \n",
       "73918  <p>Do you think Unit Tests are a good way to s...   \n",
       "73919  <p>I've coded a program in C that sends messag...   \n",
       "73920  <p>I'm working on a Rails app that will serve ...   \n",
       "73921  <p>I know that the <a href=\"http://msdn.micros...   \n",
       "73922  <h3>Duplicate</h3>\\n<blockquote>\\n<p><a href=\"...   \n",
       "73923  <p>Imagine an CoreData entity (e.g. named <cod...   \n",
       "73924  <p>This is probably my naivety showing through...   \n",
       "73925  <p>I'm trying to update an object, but I'm get...   \n",
       "73926  <p>I have an outline view delegate and am over...   \n",
       "73927  <p>An article has many articles that it refers...   \n",
       "73928  <p>How can we extract the decimal part of a fl...   \n",
       "73929  <p>While investigating a reported problem with...   \n",
       "73930  <p>I have an input box, and I have bound both ...   \n",
       "73931  <p>I'm creating a simple composite control tha...   \n",
       "73932  <p>I've created a method that generates a new ...   \n",
       "73933  <p>I've looked around but haven't been able to...   \n",
       "73934  <p>As per the title, I'm trying to find a way ...   \n",
       "73935  <p><a href=\"https://stackoverflow.com/question...   \n",
       "73936  <p>I want to do some housekeeping before execu...   \n",
       "73937  <p>I created a small VS solution that includes...   \n",
       "73938  <p>I added a simple dialog window to the insta...   \n",
       "73939  <p>I have my own php data object class that wr...   \n",
       "73940  <p>I read on here of an exercise in interviews...   \n",
       "73941  <p>This MVC stuff is fun but every step along ...   \n",
       "\n",
       "                                                    Tags  \n",
       "0      <c#><floating-point><type-conversion><double><...  \n",
       "1                       <html><css><internet-explorer-7>  \n",
       "2                                   <c#><.net><datetime>  \n",
       "3      <c#><datetime><time><datediff><relative-time-s...  \n",
       "4      <html><browser><timezone><user-agent><timezone...  \n",
       "5                                           <.net><math>  \n",
       "6                     <c#><linq><web-services><.net-3.5>  \n",
       "7           <mysql><database><binary-data><data-storage>  \n",
       "8      <performance><algorithm><language-agnostic><un...  \n",
       "9                            <mysql><database><triggers>  \n",
       "10                     <c++><c><sockets><mainframe><zos>  \n",
       "11                 <arrays><actionscript-3><apache-flex>  \n",
       "12                   <sql><sql-server><datatable><rdbms>  \n",
       "13                             <c#><.net><vb.net><timer>  \n",
       "14                    <php><plugins><architecture><hook>  \n",
       "15             <html><forms><form-submit><submit-button>  \n",
       "16                                  <c#><linq><.net-3.5>  \n",
       "17                        <mime><file-type><office-2007>  \n",
       "18                                      <linq><.net-3.5>  \n",
       "19                                          <ruby><rdoc>  \n",
       "20                     <eclipse><svn><aptana><subclipse>  \n",
       "21                    <apache-flex><actionscript-3><air>  \n",
       "22                       <php><sql><database><flat-file>  \n",
       "23              <linux><winapi><visual-c++><unix><timer>  \n",
       "24     <svn><tortoisesvn><branch><branching-and-merging>  \n",
       "25        <.net><performance><memory-leaks><com-interop>  \n",
       "26                                <windows><svn><64-bit>  \n",
       "27                         <c#><sql><vb.net><ascii><hex>  \n",
       "28                          <sql><asp.net><xml><sitemap>  \n",
       "29                     <java><xml><csv><data-conversion>  \n",
       "...                                                  ...  \n",
       "73912                                 <javascript><date>  \n",
       "73913                               <gcc><assembly><x86>  \n",
       "73914           <c#><vb.net><listview><tabs><tabcontrol>  \n",
       "73915                     <objective-c><payment-gateway>  \n",
       "73916                       <operating-system><platform>  \n",
       "73917                         <css><internet-explorer-6>  \n",
       "73918                                     <unit-testing>  \n",
       "73919                 <c><linux><bash><redirect><printf>  \n",
       "73920  <ruby-on-rails><activerecord><rest><activereso...  \n",
       "73921                          <asp.net-mvc><validation>  \n",
       "73922                                         <comments>  \n",
       "73923           <cocoa><core-data><save><nsuserdefaults>  \n",
       "73924                                               <c#>  \n",
       "73925                             <django><django-forms>  \n",
       "73926                                            <cocoa>  \n",
       "73927     <ruby-on-rails><database-design><activerecord>  \n",
       "73928              <c><floating-point><decimal><numbers>  \n",
       "73929                                 <flash><swfobject>  \n",
       "73930            <javascript><javascript-events><jquery>  \n",
       "73931            <c#><asp.net><ajax><composite-controls>  \n",
       "73932         <python><django><dynamic><methods><lambda>  \n",
       "73933              <http><caching><etag><expires-header>  \n",
       "73934              <perl><algorithm><string><similarity>  \n",
       "73935               <apache><mod-rewrite><url-rewriting>  \n",
       "73936         <command-line><powershell><user-interface>  \n",
       "73937  <windows><wcf><service><hosting><workflow-foun...  \n",
       "73938  <.net><visual-studio><installation><windows-in...  \n",
       "73939                           <php><memory-management>  \n",
       "73940   <algorithm><data-structures><binary-search-tree>  \n",
       "73941                        <asp.net-mvc><asp.net-ajax>  \n",
       "\n",
       "[73942 rows x 4 columns]"
      ]
     },
     "execution_count": 7,
     "metadata": {},
     "output_type": "execute_result"
    }
   ],
   "source": [
    "df_main"
   ]
  },
  {
   "cell_type": "markdown",
   "metadata": {},
   "source": [
    "## Inspection générale des données "
   ]
  },
  {
   "cell_type": "markdown",
   "metadata": {},
   "source": [
    "### Title feature"
   ]
  },
  {
   "cell_type": "code",
   "execution_count": 8,
   "metadata": {},
   "outputs": [
    {
     "name": "stdout",
     "output_type": "stream",
     "text": [
      "How to convert decimal to double in C#?\n",
      "Percentage width child element in absolutely positioned parent on Internet Explorer 7\n",
      "In C#, how do I calculate someone's age based on a DateTime type birthday?\n",
      "Calculate relative time in C#\n",
      "Determine a user's timezone\n",
      "Difference between Math.Floor() and Math.Truncate()\n",
      "Filling a DataSet or DataTable from a LINQ query result set\n",
      "Binary Data in MySQL\n",
      "What is the fastest way to get the value of π?\n",
      "Throw an error in a MySQL trigger\n"
     ]
    }
   ],
   "source": [
    "for i in range(10):\n",
    "    print(df_main.loc[i, \"Title\"])"
   ]
  },
  {
   "cell_type": "markdown",
   "metadata": {},
   "source": [
    "Nous pouvons essayer de compter le nombre de mots dans la \"feature\" Title. "
   ]
  },
  {
   "cell_type": "code",
   "execution_count": 9,
   "metadata": {},
   "outputs": [
    {
     "data": {
      "image/png": "[encoded data removed]",
      "text/plain": [
       "<Figure size 864x288 with 1 Axes>"
      ]
     },
     "metadata": {},
     "output_type": "display_data"
    }
   ],
   "source": [
    "sns.set()\n",
    "colors = sns.color_palette(\"hls\", 8)\n",
    "plt.figure(figsize=(12,4))\n",
    "sns.countplot(df_main[\"Title\"].map(lambda field:len(field.split(' '))).values, color=colors[5])\n",
    "plt.title(\"Repartition du nombre de mots par rapport aux 'Titles'\")\n",
    "plt.xlabel(\"Nombre de mots\")\n",
    "plt.ylabel(\"Nombre de 'Title'\")\n",
    "plt.show()"
   ]
  },
  {
   "cell_type": "markdown",
   "metadata": {},
   "source": [
    "Essayons d'afficher les valeurs uniques avec leur proportion numériques afin davoir les informations sur le nombre de mots à valeurs faibles. "
   ]
  },
  {
   "cell_type": "code",
   "execution_count": 10,
   "metadata": {},
   "outputs": [
    {
     "data": {
      "text/html": [
       "<div>\n",
       "<style scoped>\n",
       "    .dataframe tbody tr th:only-of-type {\n",
       "        vertical-align: middle;\n",
       "    }\n",
       "\n",
       "    .dataframe tbody tr th {\n",
       "        vertical-align: top;\n",
       "    }\n",
       "\n",
       "    .dataframe thead th {\n",
       "        text-align: right;\n",
       "    }\n",
       "</style>\n",
       "<table border=\"1\" class=\"dataframe\">\n",
       "  <thead>\n",
       "    <tr style=\"text-align: right;\">\n",
       "      <th></th>\n",
       "      <th>unique</th>\n",
       "      <th>count</th>\n",
       "    </tr>\n",
       "  </thead>\n",
       "  <tbody>\n",
       "    <tr>\n",
       "      <th>20</th>\n",
       "      <td>21</td>\n",
       "      <td>129</td>\n",
       "    </tr>\n",
       "    <tr>\n",
       "      <th>21</th>\n",
       "      <td>22</td>\n",
       "      <td>86</td>\n",
       "    </tr>\n",
       "    <tr>\n",
       "      <th>22</th>\n",
       "      <td>23</td>\n",
       "      <td>55</td>\n",
       "    </tr>\n",
       "    <tr>\n",
       "      <th>23</th>\n",
       "      <td>24</td>\n",
       "      <td>31</td>\n",
       "    </tr>\n",
       "    <tr>\n",
       "      <th>24</th>\n",
       "      <td>25</td>\n",
       "      <td>25</td>\n",
       "    </tr>\n",
       "    <tr>\n",
       "      <th>25</th>\n",
       "      <td>26</td>\n",
       "      <td>13</td>\n",
       "    </tr>\n",
       "    <tr>\n",
       "      <th>26</th>\n",
       "      <td>27</td>\n",
       "      <td>9</td>\n",
       "    </tr>\n",
       "    <tr>\n",
       "      <th>27</th>\n",
       "      <td>28</td>\n",
       "      <td>4</td>\n",
       "    </tr>\n",
       "    <tr>\n",
       "      <th>28</th>\n",
       "      <td>29</td>\n",
       "      <td>3</td>\n",
       "    </tr>\n",
       "  </tbody>\n",
       "</table>\n",
       "</div>"
      ],
      "text/plain": [
       "    unique  count\n",
       "20      21    129\n",
       "21      22     86\n",
       "22      23     55\n",
       "23      24     31\n",
       "24      25     25\n",
       "25      26     13\n",
       "26      27      9\n",
       "27      28      4\n",
       "28      29      3"
      ]
     },
     "execution_count": 10,
     "metadata": {},
     "output_type": "execute_result"
    }
   ],
   "source": [
    "unique, values = np.unique(df_main[\"Title\"].map(lambda field:len(field.split(' '))).values, return_counts=True)\n",
    "pd.DataFrame({'unique':unique, 'count':values}).loc[20:]"
   ]
  },
  {
   "cell_type": "markdown",
   "metadata": {},
   "source": [
    "Regardons les mots les plus fréquents. Il est toujours intéressant de regarder les mots les plus fréquents avant de faire du clean."
   ]
  },
  {
   "cell_type": "code",
   "execution_count": 11,
   "metadata": {},
   "outputs": [
    {
     "data": {
      "text/plain": [
       "array(['How to convert decimal to double in C#?',\n",
       "       'Percentage width child element in absolutely positioned parent on Internet Explorer 7',\n",
       "       \"In C#, how do I calculate someone's age based on a DateTime type birthday?\",\n",
       "       'Calculate relative time in C#', \"Determine a user's timezone\",\n",
       "       'Difference between Math.Floor() and Math.Truncate()',\n",
       "       'Filling a DataSet or DataTable from a LINQ query result set',\n",
       "       'Binary Data in MySQL',\n",
       "       'What is the fastest way to get the value of π?',\n",
       "       'Throw an error in a MySQL trigger',\n",
       "       'How to use the C socket API in C++ on z/OS',\n",
       "       'Unloading a ByteArray using Actionscript 3',\n",
       "       'Check for changes to an SQL Server table?',\n",
       "       'Reliable timer in a console application',\n",
       "       'Best way to allow plugins for a PHP application',\n",
       "       'Multiple submit buttons in an HTML form',\n",
       "       'How do I get a distinct, ordered list of names from a DataTable using LINQ?',\n",
       "       'Microsoft Office 2007 file type, Mime types and identifying characters',\n",
       "       'Paging a collection with LINQ',\n",
       "       'How do I add existing comments to RDoc in Ruby?',\n",
       "       'Getting Subclipse in Aptana to work with the newest release of Subversion'],\n",
       "      dtype=object)"
      ]
     },
     "execution_count": 11,
     "metadata": {},
     "output_type": "execute_result"
    }
   ],
   "source": [
    "df_main.loc[0:20, \"Title\"].values"
   ]
  },
  {
   "cell_type": "markdown",
   "metadata": {},
   "source": [
    "Nous devons supprimer les caractères spéciaux et les ponctuations. Nous alons écrire une fonction qui prend en entrée un text, supprimer les caractères spéciaux, les ponctuations et enleve les majuscules. "
   ]
  },
  {
   "cell_type": "code",
   "execution_count": 12,
   "metadata": {},
   "outputs": [],
   "source": [
    "def pre_tokenize(text):\n",
    "    \n",
    "    # Suppression des points\n",
    "    text = text.replace('.', ' ')\n",
    "    # Suppressions des ponctuations\n",
    "    expr = [\"\\n\"] #[\"?\", \",\", \".\", \"'\", \";\", \":\", \"!\", \"\\n\", \"(\", \")\", \"|\", \"_\", \"-\", \"`\", \"+\", \"-\", \"*\", \"/\"]\n",
    "    for char in expr:\n",
    "        text = text.replace(char, ' ')\n",
    "    # Miniscule\n",
    "    text = str(np.char.lower(text))\n",
    "    \n",
    "    return text"
   ]
  },
  {
   "cell_type": "code",
   "execution_count": 13,
   "metadata": {},
   "outputs": [],
   "source": [
    "df_main[\"Title\"] = df_main[\"Title\"].map(pre_tokenize)"
   ]
  },
  {
   "cell_type": "code",
   "execution_count": 14,
   "metadata": {},
   "outputs": [
    {
     "data": {
      "text/plain": [
       "array(['how to convert decimal to double in c#?',\n",
       "       'percentage width child element in absolutely positioned parent on internet explorer 7',\n",
       "       \"in c#, how do i calculate someone's age based on a datetime type birthday?\",\n",
       "       'calculate relative time in c#', \"determine a user's timezone\",\n",
       "       'difference between math floor() and math truncate()',\n",
       "       'filling a dataset or datatable from a linq query result set',\n",
       "       'binary data in mysql',\n",
       "       'what is the fastest way to get the value of π?',\n",
       "       'throw an error in a mysql trigger',\n",
       "       'how to use the c socket api in c++ on z/os',\n",
       "       'unloading a bytearray using actionscript 3',\n",
       "       'check for changes to an sql server table?',\n",
       "       'reliable timer in a console application',\n",
       "       'best way to allow plugins for a php application',\n",
       "       'multiple submit buttons in an html form',\n",
       "       'how do i get a distinct, ordered list of names from a datatable using linq?',\n",
       "       'microsoft office 2007 file type, mime types and identifying characters',\n",
       "       'paging a collection with linq',\n",
       "       'how do i add existing comments to rdoc in ruby?',\n",
       "       'getting subclipse in aptana to work with the newest release of subversion'],\n",
       "      dtype=object)"
      ]
     },
     "execution_count": 14,
     "metadata": {},
     "output_type": "execute_result"
    }
   ],
   "source": [
    "df_main.loc[0:20, \"Title\"].values"
   ]
  },
  {
   "cell_type": "markdown",
   "metadata": {},
   "source": [
    "Nous allons aplliquer la Lemmatization afin de donner aux mots de notre texte une forme neutre. Nous le faisons dans la fonction suivantes. "
   ]
  },
  {
   "cell_type": "code",
   "execution_count": 15,
   "metadata": {},
   "outputs": [],
   "source": [
    "def lemmatize_text(text):\n",
    "\n",
    "    lem = WordNetLemmatizer()\n",
    "    text_lemmatized = []\n",
    "    words = word_tokenize(text)\n",
    "    for word in words:\n",
    "        word = lem.lemmatize(word, \"v\")\n",
    "        text_lemmatized.append(word)\n",
    "    text = ' '.join(text_lemmatized)\n",
    "    \n",
    "    return text"
   ]
  },
  {
   "cell_type": "code",
   "execution_count": 16,
   "metadata": {},
   "outputs": [],
   "source": [
    "df_main[\"Title\"] = df_main[\"Title\"].map(lemmatize_text)"
   ]
  },
  {
   "cell_type": "code",
   "execution_count": 17,
   "metadata": {},
   "outputs": [
    {
     "data": {
      "text/plain": [
       "array(['how to convert decimal to double in c # ?',\n",
       "       'percentage width child element in absolutely position parent on internet explorer 7',\n",
       "       \"in c # , how do i calculate someone 's age base on a datetime type birthday ?\",\n",
       "       'calculate relative time in c #', \"determine a user 's timezone\",\n",
       "       'difference between math floor ( ) and math truncate ( )',\n",
       "       'fill a dataset or datatable from a linq query result set',\n",
       "       'binary data in mysql',\n",
       "       'what be the fastest way to get the value of π ?',\n",
       "       'throw an error in a mysql trigger',\n",
       "       'how to use the c socket api in c++ on z/os',\n",
       "       'unload a bytearray use actionscript 3',\n",
       "       'check for change to an sql server table ?',\n",
       "       'reliable timer in a console application',\n",
       "       'best way to allow plugins for a php application',\n",
       "       'multiple submit button in an html form',\n",
       "       'how do i get a distinct , order list of name from a datatable use linq ?',\n",
       "       'microsoft office 2007 file type , mime type and identify character',\n",
       "       'page a collection with linq',\n",
       "       'how do i add exist comment to rdoc in ruby ?',\n",
       "       'get subclipse in aptana to work with the newest release of subversion'],\n",
       "      dtype=object)"
      ]
     },
     "execution_count": 17,
     "metadata": {},
     "output_type": "execute_result"
    }
   ],
   "source": [
    "df_main.loc[0:20, \"Title\"].values"
   ]
  },
  {
   "cell_type": "code",
   "execution_count": 18,
   "metadata": {},
   "outputs": [],
   "source": [
    "df_main[\"Title_tokens\"] = df_main[\"Title\"].map(word_tokenize)"
   ]
  },
  {
   "cell_type": "code",
   "execution_count": 19,
   "metadata": {},
   "outputs": [
    {
     "data": {
      "text/plain": [
       "array([list(['how', 'to', 'convert', 'decimal', 'to', 'double', 'in', 'c', '#', '?']),\n",
       "       list(['percentage', 'width', 'child', 'element', 'in', 'absolutely', 'position', 'parent', 'on', 'internet', 'explorer', '7']),\n",
       "       list(['in', 'c', '#', ',', 'how', 'do', 'i', 'calculate', 'someone', \"'s\", 'age', 'base', 'on', 'a', 'datetime', 'type', 'birthday', '?']),\n",
       "       list(['calculate', 'relative', 'time', 'in', 'c', '#']),\n",
       "       list(['determine', 'a', 'user', \"'s\", 'timezone']),\n",
       "       list(['difference', 'between', 'math', 'floor', '(', ')', 'and', 'math', 'truncate', '(', ')']),\n",
       "       list(['fill', 'a', 'dataset', 'or', 'datatable', 'from', 'a', 'linq', 'query', 'result', 'set']),\n",
       "       list(['binary', 'data', 'in', 'mysql']),\n",
       "       list(['what', 'be', 'the', 'fastest', 'way', 'to', 'get', 'the', 'value', 'of', 'π', '?']),\n",
       "       list(['throw', 'an', 'error', 'in', 'a', 'mysql', 'trigger']),\n",
       "       list(['how', 'to', 'use', 'the', 'c', 'socket', 'api', 'in', 'c++', 'on', 'z/os']),\n",
       "       list(['unload', 'a', 'bytearray', 'use', 'actionscript', '3']),\n",
       "       list(['check', 'for', 'change', 'to', 'an', 'sql', 'server', 'table', '?']),\n",
       "       list(['reliable', 'timer', 'in', 'a', 'console', 'application']),\n",
       "       list(['best', 'way', 'to', 'allow', 'plugins', 'for', 'a', 'php', 'application']),\n",
       "       list(['multiple', 'submit', 'button', 'in', 'an', 'html', 'form']),\n",
       "       list(['how', 'do', 'i', 'get', 'a', 'distinct', ',', 'order', 'list', 'of', 'name', 'from', 'a', 'datatable', 'use', 'linq', '?']),\n",
       "       list(['microsoft', 'office', '2007', 'file', 'type', ',', 'mime', 'type', 'and', 'identify', 'character']),\n",
       "       list(['page', 'a', 'collection', 'with', 'linq']),\n",
       "       list(['how', 'do', 'i', 'add', 'exist', 'comment', 'to', 'rdoc', 'in', 'ruby', '?']),\n",
       "       list(['get', 'subclipse', 'in', 'aptana', 'to', 'work', 'with', 'the', 'newest', 'release', 'of', 'subversion'])],\n",
       "      dtype=object)"
      ]
     },
     "execution_count": 19,
     "metadata": {},
     "output_type": "execute_result"
    }
   ],
   "source": [
    "df_main.loc[0:20, \"Title_tokens\"].values"
   ]
  },
  {
   "cell_type": "markdown",
   "metadata": {},
   "source": [
    "On est confronté à un problème, le 'word_tokenize' sépare les caractères comme «#» de «c#». Si \"C#\" est utilisé deux fois, le modèle trouvera deux mots identiques au lieu d'un. Additionnons tous les mots pour compter les fréquences. "
   ]
  },
  {
   "cell_type": "code",
   "execution_count": 20,
   "metadata": {},
   "outputs": [],
   "source": [
    "np_text = df_main[\"Title_tokens\"].values.copy()\n",
    "full_title_text_splitted = []\n",
    "for i in range(len(np_text)):\n",
    "    full_title_text_splitted.extend(np_text[i])\n",
    "del np_text"
   ]
  },
  {
   "cell_type": "code",
   "execution_count": 21,
   "metadata": {},
   "outputs": [
    {
     "data": {
      "text/plain": [
       "['how',\n",
       " 'to',\n",
       " 'convert',\n",
       " 'decimal',\n",
       " 'to',\n",
       " 'double',\n",
       " 'in',\n",
       " 'c',\n",
       " '#',\n",
       " '?',\n",
       " 'percentage',\n",
       " 'width',\n",
       " 'child',\n",
       " 'element',\n",
       " 'in',\n",
       " 'absolutely',\n",
       " 'position',\n",
       " 'parent',\n",
       " 'on',\n",
       " 'internet']"
      ]
     },
     "execution_count": 21,
     "metadata": {},
     "output_type": "execute_result"
    }
   ],
   "source": [
    "full_title_text_splitted[0:20]"
   ]
  },
  {
   "cell_type": "markdown",
   "metadata": {},
   "source": [
    "Nous pouvons maintenant voir le nombre de mots uniques. "
   ]
  },
  {
   "cell_type": "code",
   "execution_count": 22,
   "metadata": {},
   "outputs": [],
   "source": [
    "unique, count = np.unique(full_title_text_splitted, return_counts=True)"
   ]
  },
  {
   "cell_type": "code",
   "execution_count": 23,
   "metadata": {},
   "outputs": [
    {
     "data": {
      "text/plain": [
       "25842"
      ]
     },
     "execution_count": 23,
     "metadata": {},
     "output_type": "execute_result"
    }
   ],
   "source": [
    "len(unique)"
   ]
  },
  {
   "cell_type": "markdown",
   "metadata": {},
   "source": [
    "Regardons une partie de nos données. "
   ]
  },
  {
   "cell_type": "code",
   "execution_count": 24,
   "metadata": {},
   "outputs": [
    {
     "data": {
      "text/plain": [
       "array(['!', '#', '$', '%', '&', \"'\", \"''\", \"'*\", \"'***\", \"'+new\", \"'-\",\n",
       "       \"'-lmcheck\", \"'-re\", \"'/\", \"'//\", \"'/dnntest\", \"'/forum/default\",\n",
       "       \"'/reports\", \"'/subversion/main/db/transactions/0-1\", \"'0110\",\n",
       "       \"'07\", \"'08\", \"'09\", \"'1033\", \"'20\", \"'20050411\", \"'20060201\",\n",
       "       \"'397\", \"'404\", \"'77\", \"'90\", \"'91\", \"'95\", \"'=\", \"'==\", \"'\\\\\",\n",
       "       \"'\\\\0\", \"'\\\\\\\\\", \"'\\\\n\", \"'^\", \"'^m\", \"'__cdecl\", \"'__progname\",\n",
       "       \"'absolute\", \"'accept\", \"'access\", \"'accessdeniedexception\",\n",
       "       \"'action_name\", \"'actions\", \"'add\", \"'administrator\", \"'advanced\",\n",
       "       \"'ajaxcontroltoolkit\", \"'allow_url_fopen\", \"'an\", \"'analysis\",\n",
       "       \"'anonymous\", \"'ansi\", \"'anti\", \"'any\", \"'app_web_hamznvwf\",\n",
       "       \"'app_web_kh7-x3ka\", \"'application/javascript\", \"'argument\", \"'as\",\n",
       "       \"'ascii\", \"'asp\", \"'astoria\", \"'atomic\", \"'attempt\",\n",
       "       \"'atttributes\", \"'audience\", \"'author\", \"'autotest\", \"'back\",\n",
       "       \"'bad\", \"'beforesubmit\", \"'best\", \"'binary\", \"'bind\", \"'bit\",\n",
       "       \"'bits\", \"'blur\", \"'body\", \"'bool\", \"'bracketed\", \"'break\",\n",
       "       \"'breaking\", \"'bucket\", \"'buffer\", \"'builder\", \"'bumps\",\n",
       "       \"'business\", \"'cache_sweeper\", \"'cancel\", \"'canvaselement\",\n",
       "       \"'capitalize\", \"'cassini\", \"'catch\", \"'ccc-analyzer\", 'zend_pdf',\n",
       "       'zend_rest_client', 'zend_uri_exception', 'zend_validator',\n",
       "       'zentest', 'zentest/autotest', 'zero', 'zero-byte', 'zero-cost',\n",
       "       'zero-pad', 'zero-to-many', 'zeroc', 'zeroconf', 'zeromq', 'zeus',\n",
       "       'zf', 'zfs', 'zimbra', 'zindex', 'zip', 'zip-file', 'zip-like',\n",
       "       'zipcode', 'zipexception', 'zipfile', 'zipinputstream', 'zipper',\n",
       "       'ziya', 'zk', 'zlib', 'zlib-compatible', 'zljava/lang/string',\n",
       "       'zodb', 'zoho', 'zombies', 'zone', 'zookeeper', 'zoom', 'zpl-ii',\n",
       "       'zrm', 'zsh', 'zsh/bash', 'zsi', 'zulu', 'zune', 'zx', 'zxjdbc',\n",
       "       'zz', '{', '|', '|=', '|=1', '|pipe-delimited|', '||', '}', '~',\n",
       "       '~/', '~/opt/lib', '~0', '~250,000', '~30', '~6', '~d0', '~dp0',\n",
       "       '~enumwindows', '~~', '£', '«', '®', \"´rm'-\", '»', '¿', 'à', 'á',\n",
       "       'áccess', 'â', 'â®', 'â¿', 'ã¡', 'ã©', 'é', 'ï', 'ñ', 'ü', 'ą',\n",
       "       'ę', 'θ', 'π', '–', '—', '‘', '’', '“', '”', '…', '€', '⊐', '⨝',\n",
       "       '首', '？'], dtype='<U50')"
      ]
     },
     "execution_count": 24,
     "metadata": {},
     "output_type": "execute_result"
    }
   ],
   "source": [
    "np.concatenate((unique[0:100], unique[-100:]))"
   ]
  },
  {
   "cell_type": "markdown",
   "metadata": {},
   "source": [
    "Nous pouvons voir qu'il y'a beaucoup de mots qui peuvent être des nombres, ou des mots qui ont quelques quelques caractères spéciaux, d'autres écrits deux fois. Regardons la répartition."
   ]
  },
  {
   "cell_type": "code",
   "execution_count": 25,
   "metadata": {},
   "outputs": [
    {
     "data": {
      "image/png": "[encoded data removed]",
      "text/plain": [
       "<Figure size 864x288 with 1 Axes>"
      ]
     },
     "metadata": {},
     "output_type": "display_data"
    }
   ],
   "source": [
    "sns.set()\n",
    "plt.figure(figsize=(12,4))\n",
    "sns.distplot(count, kde=False)\n",
    "plt.title(\"Histogramme de la frequence d'apparition des mots uniques dans le text entier\")\n",
    "plt.xlabel(\"Mots\")\n",
    "plt.ylabel(\"Nombres d'apparitions\")\n",
    "plt.show()"
   ]
  },
  {
   "cell_type": "markdown",
   "metadata": {},
   "source": [
    "La plupart de la distribution semble proche de 1. Regardons et comptons le nombre de mots apparaissant plus de 1000 fois."
   ]
  },
  {
   "cell_type": "code",
   "execution_count": 26,
   "metadata": {},
   "outputs": [
    {
     "data": {
      "text/plain": [
       "array([ 3396,  1121,  2451,  5177,  5173,  4479,  2964,  4487, 33671,\n",
       "        5269, 23830,  1302,  1067,  5278,  6986,  1008,  2054,  1248,\n",
       "        3221, 12452,  2939,  1063,  1042,  3730,  1591,  1040,  4981,\n",
       "        1223,  1674,  1879,  1686,  1778,  1907,  1487, 10037,  1199,\n",
       "        4373,  1299,  8541,  1112,  5334,  1302,  2827,  1406, 16467,\n",
       "        1034,  9045,  1149, 21026,  1091,  2093,  2550,  1585,  1268,\n",
       "        1199,  1115,  1052,  1518,  1112,  1057,  6331,  2305,  1765,\n",
       "        8276,  4979,  2711,  1321,  1640,  1131,  1453,  1046,  1090,\n",
       "        2664,  1270,  1332,  1085,  3150,  1665,  1318,  1399,  1365,\n",
       "        1666, 13432,  2190, 23393,  1212,  7714,  1020,  1395,  1437,\n",
       "        1157,  3098,  2094,  5927,  2535,  1817,  2227,  6470,  1270,\n",
       "        1064,  3262])"
      ]
     },
     "execution_count": 26,
     "metadata": {},
     "output_type": "execute_result"
    }
   ],
   "source": [
    "count[np.where(count > 1000)]"
   ]
  },
  {
   "cell_type": "code",
   "execution_count": 27,
   "metadata": {},
   "outputs": [
    {
     "data": {
      "text/plain": [
       "101"
      ]
     },
     "execution_count": 27,
     "metadata": {},
     "output_type": "execute_result"
    }
   ],
   "source": [
    "len(np.where(count > 1000)[0])"
   ]
  },
  {
   "cell_type": "markdown",
   "metadata": {},
   "source": [
    "Nombre d'occurence des mots qui apparaissent le plus"
   ]
  },
  {
   "cell_type": "code",
   "execution_count": 28,
   "metadata": {},
   "outputs": [
    {
     "data": {
      "text/plain": [
       "33671"
      ]
     },
     "execution_count": 28,
     "metadata": {},
     "output_type": "execute_result"
    }
   ],
   "source": [
    "max(count)"
   ]
  },
  {
   "cell_type": "code",
   "execution_count": 29,
   "metadata": {},
   "outputs": [
    {
     "data": {
      "text/plain": [
       "'?'"
      ]
     },
     "execution_count": 29,
     "metadata": {},
     "output_type": "execute_result"
    }
   ],
   "source": [
    "unique[np.argmax(count)]"
   ]
  },
  {
   "cell_type": "markdown",
   "metadata": {},
   "source": [
    "Affichons de manière plus détaillé l'histogramme. "
   ]
  },
  {
   "cell_type": "code",
   "execution_count": 30,
   "metadata": {},
   "outputs": [
    {
     "data": {
      "image/png": "[encoded data removed]",
      "text/plain": [
       "<Figure size 864x288 with 1 Axes>"
      ]
     },
     "metadata": {},
     "output_type": "display_data"
    }
   ],
   "source": [
    "sns.set()\n",
    "plt.figure(figsize=(12,4))\n",
    "sns.distplot(count[np.where(count < 200)], kde=False)\n",
    "plt.title(\"Histogramme de la frequence des mots uniques apparaisant moins de 200 fois dans le text entier\")\n",
    "plt.xlabel(\"Mots\")\n",
    "plt.ylabel(\"Nombre d'apparitions\")\n",
    "plt.show()"
   ]
  },
  {
   "cell_type": "code",
   "execution_count": 31,
   "metadata": {},
   "outputs": [
    {
     "data": {
      "text/plain": [
       "15483"
      ]
     },
     "execution_count": 31,
     "metadata": {},
     "output_type": "execute_result"
    }
   ],
   "source": [
    "len(np.where(count == 1)[0])"
   ]
  },
  {
   "cell_type": "markdown",
   "metadata": {},
   "source": [
    "Le nombre de mots avec une seule occurrence est énorme. Ces mots donnent trop peu d'informations et prennent trop de place mémoire. Il pourrait être intéressant d'essayer de les supprimer dans notre modélsation. Ou du moins, supprimez tous ceux qui ne sont pas dans le ditionnaire ( parce que peu de chances d'être réutilisé ...). Un nettoyage poussé peut être une solution, en supprimant, des chiffres, des caractères spéciaux ... On les garde pour l'instant."
   ]
  },
  {
   "cell_type": "code",
   "execution_count": 32,
   "metadata": {},
   "outputs": [
    {
     "data": {
      "text/plain": [
       "array([\"''\", \"'***\", \"'+new\", ..., '⨝', '首', '？'], dtype='<U50')"
      ]
     },
     "execution_count": 32,
     "metadata": {},
     "output_type": "execute_result"
    }
   ],
   "source": [
    "title_words_to_del = unique[np.where(count == 1)]\n",
    "title_words_to_del"
   ]
  },
  {
   "cell_type": "code",
   "execution_count": 33,
   "metadata": {},
   "outputs": [],
   "source": [
    "del full_title_text_splitted"
   ]
  },
  {
   "cell_type": "code",
   "execution_count": null,
   "metadata": {},
   "outputs": [],
   "source": []
  },
  {
   "cell_type": "markdown",
   "metadata": {},
   "source": [
    "### Tags feature"
   ]
  },
  {
   "cell_type": "code",
   "execution_count": 34,
   "metadata": {},
   "outputs": [
    {
     "name": "stdout",
     "output_type": "stream",
     "text": [
      "<c#><floating-point><type-conversion><double><decimal>\n",
      "<html><css><internet-explorer-7>\n",
      "<c#><.net><datetime>\n",
      "<c#><datetime><time><datediff><relative-time-span>\n",
      "<html><browser><timezone><user-agent><timezone-offset>\n",
      "<.net><math>\n",
      "<c#><linq><web-services><.net-3.5>\n",
      "<mysql><database><binary-data><data-storage>\n",
      "<performance><algorithm><language-agnostic><unix><pi>\n",
      "<mysql><database><triggers>\n"
     ]
    }
   ],
   "source": [
    "for i in range(10):\n",
    "    print(df_main.loc[i, \"Tags\"])"
   ]
  },
  {
   "cell_type": "markdown",
   "metadata": {},
   "source": [
    "Séparons les tags dans une liste pour mieux analyser."
   ]
  },
  {
   "cell_type": "code",
   "execution_count": 35,
   "metadata": {},
   "outputs": [],
   "source": [
    "df_main[\"Tags\"] = df_main[\"Tags\"].map(lambda field:field[1:-1].split('><'))"
   ]
  },
  {
   "cell_type": "code",
   "execution_count": 36,
   "metadata": {},
   "outputs": [
    {
     "name": "stdout",
     "output_type": "stream",
     "text": [
      "['c#', 'floating-point', 'type-conversion', 'double', 'decimal']\n",
      "['html', 'css', 'internet-explorer-7']\n",
      "['c#', '.net', 'datetime']\n",
      "['c#', 'datetime', 'time', 'datediff', 'relative-time-span']\n",
      "['html', 'browser', 'timezone', 'user-agent', 'timezone-offset']\n",
      "['.net', 'math']\n",
      "['c#', 'linq', 'web-services', '.net-3.5']\n",
      "['mysql', 'database', 'binary-data', 'data-storage']\n",
      "['performance', 'algorithm', 'language-agnostic', 'unix', 'pi']\n",
      "['mysql', 'database', 'triggers']\n"
     ]
    }
   ],
   "source": [
    "for i in range(10):\n",
    "    print(df_main.loc[i, \"Tags\"])"
   ]
  },
  {
   "cell_type": "markdown",
   "metadata": {},
   "source": [
    "On peut ajouter, du moins temporairement un champ dans le DataFrame principale. C'est le nombre de tags par posts. Il pourrait être utilisé pour obtenir une distribution."
   ]
  },
  {
   "cell_type": "code",
   "execution_count": 37,
   "metadata": {},
   "outputs": [],
   "source": [
    "df_main[\"nb_tags\"] = df_main[\"Tags\"].map(lambda field:len(field))"
   ]
  },
  {
   "cell_type": "code",
   "execution_count": 38,
   "metadata": {},
   "outputs": [
    {
     "data": {
      "image/png": "[encoded data removed]",
      "text/plain": [
       "<Figure size 864x288 with 1 Axes>"
      ]
     },
     "metadata": {},
     "output_type": "display_data"
    }
   ],
   "source": [
    "sns.set()\n",
    "colors = sns.color_palette(\"hls\", 8)\n",
    "plt.figure(figsize=(12,4))\n",
    "sns.countplot(df_main[\"nb_tags\"], color=colors[5])\n",
    "plt.title(\"Repartition du nombre de 'tags' par 'post'\")\n",
    "plt.ylabel(\"Nombre de tags\")\n",
    "plt.show()"
   ]
  },
  {
   "cell_type": "code",
   "execution_count": 39,
   "metadata": {},
   "outputs": [
    {
     "data": {
      "text/plain": [
       "(array([1, 2, 3, 4, 5]), array([ 7701, 20573, 23579, 14917,  7172]))"
      ]
     },
     "execution_count": 39,
     "metadata": {},
     "output_type": "execute_result"
    }
   ],
   "source": [
    "np.unique(df_main[\"nb_tags\"], return_counts=True)"
   ]
  },
  {
   "cell_type": "markdown",
   "metadata": {},
   "source": [
    "Les valeurs uniques et leurs proportions numériques donnent des informations sur les articles avec 5 tags. Nous pouvons maintenant lister toutes les tags et voir les fréquentes"
   ]
  },
  {
   "cell_type": "code",
   "execution_count": 40,
   "metadata": {},
   "outputs": [],
   "source": [
    "np_text = df_main[\"Tags\"].values.copy()\n",
    "full_text_tags_splitted = []\n",
    "for i in range(len(np_text)):\n",
    "    full_text_tags_splitted.extend(np_text[i])\n",
    "full_text_tags_splitted[0:20]\n",
    "del np_text"
   ]
  },
  {
   "cell_type": "code",
   "execution_count": 41,
   "metadata": {},
   "outputs": [
    {
     "data": {
      "text/plain": [
       "['c#',\n",
       " 'floating-point',\n",
       " 'type-conversion',\n",
       " 'double',\n",
       " 'decimal',\n",
       " 'html',\n",
       " 'css',\n",
       " 'internet-explorer-7',\n",
       " 'c#',\n",
       " '.net',\n",
       " 'datetime',\n",
       " 'c#',\n",
       " 'datetime',\n",
       " 'time',\n",
       " 'datediff',\n",
       " 'relative-time-span',\n",
       " 'html',\n",
       " 'browser',\n",
       " 'timezone',\n",
       " 'user-agent']"
      ]
     },
     "execution_count": 41,
     "metadata": {},
     "output_type": "execute_result"
    }
   ],
   "source": [
    "full_text_tags_splitted[0:20]"
   ]
  },
  {
   "cell_type": "code",
   "execution_count": 42,
   "metadata": {},
   "outputs": [],
   "source": [
    "unique, count = np.unique(full_text_tags_splitted, return_counts=True)"
   ]
  },
  {
   "cell_type": "code",
   "execution_count": 43,
   "metadata": {},
   "outputs": [
    {
     "name": "stdout",
     "output_type": "stream",
     "text": [
      "Nombre de tags: 215112\n",
      "Nombre de tags uniques: 10921\n"
     ]
    }
   ],
   "source": [
    "print(\"Nombre de tags: {}\".format(len(full_text_tags_splitted)))\n",
    "print(\"Nombre de tags uniques: {}\".format(len(unique)))"
   ]
  },
  {
   "cell_type": "code",
   "execution_count": 44,
   "metadata": {},
   "outputs": [
    {
     "data": {
      "image/png": "[encoded data removed]",
      "text/plain": [
       "<Figure size 864x288 with 1 Axes>"
      ]
     },
     "metadata": {},
     "output_type": "display_data"
    }
   ],
   "source": [
    "sns.set()\n",
    "plt.figure(figsize=(12,4))\n",
    "sns.distplot(count, kde=False)\n",
    "plt.title(\"Histogramme de la frequence d'apparition mots uniques en tags\")\n",
    "plt.xlabel(\"Tags\")\n",
    "plt.ylabel(\"Nombre d'apparition\")\n",
    "plt.show()"
   ]
  },
  {
   "cell_type": "markdown",
   "metadata": {},
   "source": [
    "Comme précedemment avec les 'Title', la plupart des tags n'apparaissent qu'une seule fois dont le max est:"
   ]
  },
  {
   "cell_type": "code",
   "execution_count": 45,
   "metadata": {},
   "outputs": [
    {
     "data": {
      "text/plain": [
       "'c#'"
      ]
     },
     "execution_count": 45,
     "metadata": {},
     "output_type": "execute_result"
    }
   ],
   "source": [
    "unique[np.argmax(count)]"
   ]
  },
  {
   "cell_type": "code",
   "execution_count": null,
   "metadata": {},
   "outputs": [],
   "source": []
  },
  {
   "cell_type": "code",
   "execution_count": null,
   "metadata": {},
   "outputs": [],
   "source": []
  },
  {
   "cell_type": "code",
   "execution_count": null,
   "metadata": {},
   "outputs": [],
   "source": []
  }
 ],
 "metadata": {
  "kernelspec": {
   "display_name": "Python 3",
   "language": "python",
   "name": "python3"
  },
  "language_info": {
   "codemirror_mode": {
    "name": "ipython",
    "version": 3
   },
   "file_extension": ".py",
   "mimetype": "text/x-python",
   "name": "python",
   "nbconvert_exporter": "python",
   "pygments_lexer": "ipython3",
   "version": "3.7.6"
  }
 },
 "nbformat": 4,
 "nbformat_minor": 4
}
